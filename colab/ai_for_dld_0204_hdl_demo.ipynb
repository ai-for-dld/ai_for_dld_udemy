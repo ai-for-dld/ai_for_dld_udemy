{
  "nbformat": 4,
  "nbformat_minor": 0,
  "metadata": {
    "colab": {
      "provenance": [],
      "authorship_tag": "ABX9TyMVzI7YqRADKpXbX83VbPjk",
      "include_colab_link": true
    },
    "kernelspec": {
      "name": "python3",
      "display_name": "Python 3"
    },
    "language_info": {
      "name": "python"
    }
  },
  "cells": [
    {
      "cell_type": "markdown",
      "metadata": {
        "id": "view-in-github",
        "colab_type": "text"
      },
      "source": [
        "<a href=\"https://colab.research.google.com/github/ai-for-dld/ai_for_dld_udemy/blob/main/colab/ai_for_dld_0204_hdl_demo.ipynb\" target=\"_parent\"><img src=\"https://colab.research.google.com/assets/colab-badge.svg\" alt=\"Open In Colab\"/></a>"
      ]
    },
    {
      "cell_type": "markdown",
      "metadata": {
        "id": "cc0f24f2"
      },
      "source": [
        "## Plan: Designing and Simulating a Logic Module\n",
        "\n",
        "This notebook will guide you through the process of designing and simulating a simple logic module using both Verilog and VHDL hardware description languages (HDLs). We'll explore how to combine basic logic gates (AND, OR, and NOT) to create a functional module and then verify its behavior through simulation.\n",
        "\n",
        "### What the Module Will Do\n",
        "\n",
        "Our logic module will take three inputs and produce two outputs. The first output will be the result of an AND operation between the first two inputs, followed by a NOT operation. The second output will be the result of an OR operation on all three inputs. This simple example demonstrates how to connect different gates to build more complex logic.\n",
        "\n",
        "### Why Both HDL Languages Are Used\n",
        "\n",
        "We will use both Verilog and VHDL to implement the same logic module. This allows you to:\n",
        "\n",
        "*   **Compare and contrast:** Understand the syntax and structure of two of the most widely used HDLs.\n",
        "*   **Gain versatility:** Learn how to work with different languages, a valuable skill in the digital design field.\n",
        "*   **See similarities:** Observe how the underlying digital logic principles are the same regardless of the language used.\n",
        "\n",
        "### Tools Used\n",
        "\n",
        "We will utilize the following open-source tools:\n",
        "\n",
        "*   **GHDL:** A VHDL simulator that allows us to test our VHDL designs.\n",
        "*   **Icarus Verilog:** A Verilog simulator for verifying our Verilog designs.\n",
        "*   **Python:** We will use Python to help manage the simulation process and analyze the results.\n",
        "\n",
        "### How Simulation Outputs Are Generated\n",
        "\n",
        "Simulation is crucial for verifying that our designed module behaves as expected. The process will involve:\n",
        "\n",
        "1.  **Writing Testbenches:** We will create separate testbench files in both Verilog and VHDL. Testbenches are like virtual testing environments that provide input signals to our logic module and check the corresponding outputs.\n",
        "2.  **Running Simulations:** Using GHDL for VHDL and Icarus Verilog for Verilog, we will run the simulations with our testbenches.\n",
        "3.  **Generating Waveforms:** The simulators will generate output files (often in a format called VCD - Value Change Dump) that record the changes in signal values over time.\n",
        "4.  **Visualizing Results:** We can then use tools (or potentially Python scripts) to view these VCD files as waveforms, allowing us to see how the inputs and outputs of our module change throughout the simulation.\n",
        "\n",
        "### How AI Assists Each Step\n",
        "\n",
        "Throughout this process, AI can be a valuable assistant:\n",
        "\n",
        "*   **Code Generation:** AI can help generate the initial Verilog and VHDL code for the logic module and testbenches, providing a starting point.\n",
        "*   **Explanation:** AI can explain the different parts of the HDL code, the simulation process, and the concepts behind digital logic.\n",
        "*   **Debugging:** If you encounter errors in your code or unexpected simulation results, AI can help identify potential issues and suggest solutions.\n",
        "*   **Learning Support:** AI can answer questions and provide additional information to deepen your understanding of digital design principles.\n",
        "\n",
        "Let's get started!"
      ]
    },
    {
      "cell_type": "code",
      "metadata": {
        "colab": {
          "base_uri": "https://localhost:8080/"
        },
        "id": "e01c4223",
        "outputId": "ba5f341f-9839-4e4c-f15f-421624ecda69"
      },
      "source": [
        "%%bash\n",
        "\n",
        "# Update package list\n",
        "apt-get update\n",
        "\n",
        "# Install GHDL using apt-get\n",
        "apt-get install -y ghdl\n",
        "\n",
        "# Install Icarus Verilog (iverilog) using apt-get\n",
        "apt-get install -y iverilog\n",
        "\n",
        "# Install Yosys using apt-get\n",
        "apt-get install -y yosys\n",
        "\n",
        "# Final confirmation message\n",
        "echo ✅ HDL tools installed"
      ],
      "execution_count": 1,
      "outputs": [
        {
          "output_type": "stream",
          "name": "stdout",
          "text": [
            "Get:1 http://security.ubuntu.com/ubuntu jammy-security InRelease [129 kB]\n",
            "Get:2 https://cloud.r-project.org/bin/linux/ubuntu jammy-cran40/ InRelease [3,632 B]\n",
            "Get:3 https://developer.download.nvidia.com/compute/cuda/repos/ubuntu2204/x86_64  InRelease [1,581 B]\n",
            "Hit:4 http://archive.ubuntu.com/ubuntu jammy InRelease\n",
            "Get:5 https://r2u.stat.illinois.edu/ubuntu jammy InRelease [6,555 B]\n",
            "Get:6 http://archive.ubuntu.com/ubuntu jammy-updates InRelease [128 kB]\n",
            "Get:7 http://security.ubuntu.com/ubuntu jammy-security/main amd64 Packages [3,159 kB]\n",
            "Get:8 https://ppa.launchpadcontent.net/deadsnakes/ppa/ubuntu jammy InRelease [18.1 kB]\n",
            "Get:9 https://developer.download.nvidia.com/compute/cuda/repos/ubuntu2204/x86_64  Packages [1,851 kB]\n",
            "Get:10 http://archive.ubuntu.com/ubuntu jammy-backports InRelease [127 kB]\n",
            "Get:11 http://security.ubuntu.com/ubuntu jammy-security/restricted amd64 Packages [4,976 kB]\n",
            "Hit:12 https://ppa.launchpadcontent.net/graphics-drivers/ppa/ubuntu jammy InRelease\n",
            "Hit:13 https://ppa.launchpadcontent.net/ubuntugis/ppa/ubuntu jammy InRelease\n",
            "Get:14 http://security.ubuntu.com/ubuntu jammy-security/universe amd64 Packages [1,268 kB]\n",
            "Get:15 https://r2u.stat.illinois.edu/ubuntu jammy/main amd64 Packages [2,765 kB]\n",
            "Get:16 http://archive.ubuntu.com/ubuntu jammy-updates/main amd64 Packages [3,470 kB]\n",
            "Get:17 https://r2u.stat.illinois.edu/ubuntu jammy/main all Packages [9,137 kB]\n",
            "Get:18 http://archive.ubuntu.com/ubuntu jammy-updates/universe amd64 Packages [1,574 kB]\n",
            "Get:19 https://ppa.launchpadcontent.net/deadsnakes/ppa/ubuntu jammy/main amd64 Packages [32.9 kB]\n",
            "Fetched 28.6 MB in 4s (6,967 kB/s)\n",
            "Reading package lists...\n",
            "Reading package lists...\n",
            "Building dependency tree...\n",
            "Reading state information...\n",
            "The following additional packages will be installed:\n",
            "  gcc-10-base ghdl-common ghdl-mcode libgnat-10\n",
            "Suggested packages:\n",
            "  gtkwave\n",
            "The following NEW packages will be installed:\n",
            "  gcc-10-base ghdl ghdl-common ghdl-mcode libgnat-10\n",
            "0 upgraded, 5 newly installed, 0 to remove and 39 not upgraded.\n",
            "Need to get 2,859 kB of archives.\n",
            "After this operation, 11.9 MB of additional disk space will be used.\n",
            "Get:1 http://archive.ubuntu.com/ubuntu jammy-updates/universe amd64 gcc-10-base amd64 10.5.0-1ubuntu1~22.04 [21.5 kB]\n",
            "Get:2 http://archive.ubuntu.com/ubuntu jammy/universe amd64 ghdl-common amd64 1.0.0+dfsg-6 [154 kB]\n",
            "Get:3 http://archive.ubuntu.com/ubuntu jammy-updates/universe amd64 libgnat-10 amd64 10.5.0-1ubuntu1~22.04 [1,220 kB]\n",
            "Get:4 http://archive.ubuntu.com/ubuntu jammy/universe amd64 ghdl-mcode amd64 1.0.0+dfsg-6 [1,462 kB]\n",
            "Get:5 http://archive.ubuntu.com/ubuntu jammy/universe amd64 ghdl amd64 1.0.0+dfsg-6 [1,532 B]\n",
            "Fetched 2,859 kB in 0s (6,989 kB/s)\n",
            "Selecting previously unselected package gcc-10-base:amd64.\r\n",
            "(Reading database ... \r(Reading database ... 5%\r(Reading database ... 10%\r(Reading database ... 15%\r(Reading database ... 20%\r(Reading database ... 25%\r(Reading database ... 30%\r(Reading database ... 35%\r(Reading database ... 40%\r(Reading database ... 45%\r(Reading database ... 50%\r(Reading database ... 55%\r(Reading database ... 60%\r(Reading database ... 65%\r(Reading database ... 70%\r(Reading database ... 75%\r(Reading database ... 80%\r(Reading database ... 85%\r(Reading database ... 90%\r(Reading database ... 95%\r(Reading database ... 100%\r(Reading database ... 126284 files and directories currently installed.)\r\n",
            "Preparing to unpack .../gcc-10-base_10.5.0-1ubuntu1~22.04_amd64.deb ...\r\n",
            "Unpacking gcc-10-base:amd64 (10.5.0-1ubuntu1~22.04) ...\r\n",
            "Selecting previously unselected package ghdl-common.\r\n",
            "Preparing to unpack .../ghdl-common_1.0.0+dfsg-6_amd64.deb ...\r\n",
            "Unpacking ghdl-common (1.0.0+dfsg-6) ...\r\n",
            "Selecting previously unselected package libgnat-10:amd64.\r\n",
            "Preparing to unpack .../libgnat-10_10.5.0-1ubuntu1~22.04_amd64.deb ...\r\n",
            "Unpacking libgnat-10:amd64 (10.5.0-1ubuntu1~22.04) ...\r\n",
            "Selecting previously unselected package ghdl-mcode.\r\n",
            "Preparing to unpack .../ghdl-mcode_1.0.0+dfsg-6_amd64.deb ...\r\n",
            "Unpacking ghdl-mcode (1.0.0+dfsg-6) ...\r\n",
            "Selecting previously unselected package ghdl.\r\n",
            "Preparing to unpack .../ghdl_1.0.0+dfsg-6_amd64.deb ...\r\n",
            "Unpacking ghdl (1.0.0+dfsg-6) ...\r\n",
            "Setting up ghdl-common (1.0.0+dfsg-6) ...\r\n",
            "Setting up gcc-10-base:amd64 (10.5.0-1ubuntu1~22.04) ...\r\n",
            "Setting up libgnat-10:amd64 (10.5.0-1ubuntu1~22.04) ...\r\n",
            "Setting up ghdl-mcode (1.0.0+dfsg-6) ...\r\n",
            "Setting up ghdl (1.0.0+dfsg-6) ...\r\n",
            "Processing triggers for man-db (2.10.2-1) ...\r\n",
            "Processing triggers for libc-bin (2.35-0ubuntu3.8) ...\r\n",
            "/sbin/ldconfig.real: /usr/local/lib/libhwloc.so.15 is not a symbolic link\r\n",
            "\r\n",
            "/sbin/ldconfig.real: /usr/local/lib/libtbb.so.12 is not a symbolic link\r\n",
            "\r\n",
            "/sbin/ldconfig.real: /usr/local/lib/libtbbbind_2_0.so.3 is not a symbolic link\r\n",
            "\r\n",
            "/sbin/ldconfig.real: /usr/local/lib/libtbbbind.so.3 is not a symbolic link\r\n",
            "\r\n",
            "/sbin/ldconfig.real: /usr/local/lib/libumf.so.0 is not a symbolic link\r\n",
            "\r\n",
            "/sbin/ldconfig.real: /usr/local/lib/libtcm.so.1 is not a symbolic link\r\n",
            "\r\n",
            "/sbin/ldconfig.real: /usr/local/lib/libtbbmalloc.so.2 is not a symbolic link\r\n",
            "\r\n",
            "/sbin/ldconfig.real: /usr/local/lib/libur_adapter_opencl.so.0 is not a symbolic link\r\n",
            "\r\n",
            "/sbin/ldconfig.real: /usr/local/lib/libur_loader.so.0 is not a symbolic link\r\n",
            "\r\n",
            "/sbin/ldconfig.real: /usr/local/lib/libtbbmalloc_proxy.so.2 is not a symbolic link\r\n",
            "\r\n",
            "/sbin/ldconfig.real: /usr/local/lib/libtcm_debug.so.1 is not a symbolic link\r\n",
            "\r\n",
            "/sbin/ldconfig.real: /usr/local/lib/libtbbbind_2_5.so.3 is not a symbolic link\r\n",
            "\r\n",
            "/sbin/ldconfig.real: /usr/local/lib/libur_adapter_level_zero.so.0 is not a symbolic link\r\n",
            "\r\n",
            "/sbin/ldconfig.real: /usr/local/lib/libur_adapter_level_zero_v2.so.0 is not a symbolic link\r\n",
            "\r\n",
            "Reading package lists...\n",
            "Building dependency tree...\n",
            "Reading state information...\n",
            "Suggested packages:\n",
            "  gtkwave\n",
            "The following NEW packages will be installed:\n",
            "  iverilog\n",
            "0 upgraded, 1 newly installed, 0 to remove and 39 not upgraded.\n",
            "Need to get 2,130 kB of archives.\n",
            "After this operation, 6,749 kB of additional disk space will be used.\n",
            "Get:1 http://archive.ubuntu.com/ubuntu jammy/universe amd64 iverilog amd64 11.0-1.1 [2,130 kB]\n",
            "Fetched 2,130 kB in 0s (8,343 kB/s)\n",
            "Selecting previously unselected package iverilog.\r\n",
            "(Reading database ... \r(Reading database ... 5%\r(Reading database ... 10%\r(Reading database ... 15%\r(Reading database ... 20%\r(Reading database ... 25%\r(Reading database ... 30%\r(Reading database ... 35%\r(Reading database ... 40%\r(Reading database ... 45%\r(Reading database ... 50%\r(Reading database ... 55%\r(Reading database ... 60%\r(Reading database ... 65%\r(Reading database ... 70%\r(Reading database ... 75%\r(Reading database ... 80%\r(Reading database ... 85%\r(Reading database ... 90%\r(Reading database ... 95%\r(Reading database ... 100%\r(Reading database ... 126399 files and directories currently installed.)\r\n",
            "Preparing to unpack .../iverilog_11.0-1.1_amd64.deb ...\r\n",
            "Unpacking iverilog (11.0-1.1) ...\r\n",
            "Setting up iverilog (11.0-1.1) ...\r\n",
            "Processing triggers for man-db (2.10.2-1) ...\r\n",
            "Reading package lists...\n",
            "Building dependency tree...\n",
            "Reading state information...\n",
            "The following additional packages will be installed:\n",
            "  berkeley-abc gir1.2-atk-1.0 gir1.2-gtk-3.0 python3-cairo python3-gi-cairo\n",
            "  python3-numpy xdot\n",
            "Suggested packages:\n",
            "  python-numpy-doc python3-pytest\n",
            "The following NEW packages will be installed:\n",
            "  berkeley-abc gir1.2-atk-1.0 gir1.2-gtk-3.0 python3-cairo python3-gi-cairo\n",
            "  python3-numpy xdot yosys\n",
            "0 upgraded, 8 newly installed, 0 to remove and 39 not upgraded.\n",
            "Need to get 10.6 MB of archives.\n",
            "After this operation, 39.7 MB of additional disk space will be used.\n",
            "Get:1 http://archive.ubuntu.com/ubuntu jammy/universe amd64 berkeley-abc amd64 1.01+20211229git48498af+dfsg-2 [4,271 kB]\n",
            "Get:2 http://archive.ubuntu.com/ubuntu jammy/main amd64 gir1.2-atk-1.0 amd64 2.36.0-3build1 [21.0 kB]\n",
            "Get:3 http://archive.ubuntu.com/ubuntu jammy-updates/main amd64 gir1.2-gtk-3.0 amd64 3.24.33-1ubuntu2.2 [240 kB]\n",
            "Get:4 http://archive.ubuntu.com/ubuntu jammy/main amd64 python3-cairo amd64 1.20.1-3build1 [73.7 kB]\n",
            "Get:5 http://archive.ubuntu.com/ubuntu jammy-updates/main amd64 python3-gi-cairo amd64 3.42.1-0ubuntu1 [8,184 B]\n",
            "Get:6 http://archive.ubuntu.com/ubuntu jammy-updates/main amd64 python3-numpy amd64 1:1.21.5-1ubuntu22.04.1 [3,467 kB]\n",
            "Get:7 http://archive.ubuntu.com/ubuntu jammy/universe amd64 xdot all 1.2-2 [28.1 kB]\n",
            "Get:8 http://archive.ubuntu.com/ubuntu jammy/universe amd64 yosys amd64 0.9-2 [2,449 kB]\n",
            "Fetched 10.6 MB in 0s (26.4 MB/s)\n",
            "Selecting previously unselected package berkeley-abc.\r\n",
            "(Reading database ... \r(Reading database ... 5%\r(Reading database ... 10%\r(Reading database ... 15%\r(Reading database ... 20%\r(Reading database ... 25%\r(Reading database ... 30%\r(Reading database ... 35%\r(Reading database ... 40%\r(Reading database ... 45%\r(Reading database ... 50%\r(Reading database ... 55%\r(Reading database ... 60%\r(Reading database ... 65%\r(Reading database ... 70%\r(Reading database ... 75%\r(Reading database ... 80%\r(Reading database ... 85%\r(Reading database ... 90%\r(Reading database ... 95%\r(Reading database ... 100%\r(Reading database ... 126488 files and directories currently installed.)\r\n",
            "Preparing to unpack .../0-berkeley-abc_1.01+20211229git48498af+dfsg-2_amd64.deb ...\r\n",
            "Unpacking berkeley-abc (1.01+20211229git48498af+dfsg-2) ...\r\n",
            "Selecting previously unselected package gir1.2-atk-1.0:amd64.\r\n",
            "Preparing to unpack .../1-gir1.2-atk-1.0_2.36.0-3build1_amd64.deb ...\r\n",
            "Unpacking gir1.2-atk-1.0:amd64 (2.36.0-3build1) ...\r\n",
            "Selecting previously unselected package gir1.2-gtk-3.0:amd64.\r\n",
            "Preparing to unpack .../2-gir1.2-gtk-3.0_3.24.33-1ubuntu2.2_amd64.deb ...\r\n",
            "Unpacking gir1.2-gtk-3.0:amd64 (3.24.33-1ubuntu2.2) ...\r\n",
            "Selecting previously unselected package python3-cairo:amd64.\r\n",
            "Preparing to unpack .../3-python3-cairo_1.20.1-3build1_amd64.deb ...\r\n",
            "Unpacking python3-cairo:amd64 (1.20.1-3build1) ...\r\n",
            "Selecting previously unselected package python3-gi-cairo.\r\n",
            "Preparing to unpack .../4-python3-gi-cairo_3.42.1-0ubuntu1_amd64.deb ...\r\n",
            "Unpacking python3-gi-cairo (3.42.1-0ubuntu1) ...\r\n",
            "Selecting previously unselected package python3-numpy.\r\n",
            "Preparing to unpack .../5-python3-numpy_1%3a1.21.5-1ubuntu22.04.1_amd64.deb ...\r\n",
            "Unpacking python3-numpy (1:1.21.5-1ubuntu22.04.1) ...\r\n",
            "Selecting previously unselected package xdot.\r\n",
            "Preparing to unpack .../6-xdot_1.2-2_all.deb ...\r\n",
            "Unpacking xdot (1.2-2) ...\r\n",
            "Selecting previously unselected package yosys.\r\n",
            "Preparing to unpack .../7-yosys_0.9-2_amd64.deb ...\r\n",
            "Unpacking yosys (0.9-2) ...\r\n",
            "Setting up python3-cairo:amd64 (1.20.1-3build1) ...\r\n",
            "Setting up gir1.2-atk-1.0:amd64 (2.36.0-3build1) ...\r\n",
            "Setting up gir1.2-gtk-3.0:amd64 (3.24.33-1ubuntu2.2) ...\r\n",
            "Setting up berkeley-abc (1.01+20211229git48498af+dfsg-2) ...\r\n",
            "Setting up python3-numpy (1:1.21.5-1ubuntu22.04.1) ...\r\n",
            "Setting up python3-gi-cairo (3.42.1-0ubuntu1) ...\r\n",
            "Setting up xdot (1.2-2) ...\r\n",
            "Setting up yosys (0.9-2) ...\r\n",
            "Processing triggers for mailcap (3.70+nmu1ubuntu1) ...\r\n",
            "Processing triggers for man-db (2.10.2-1) ...\r\n",
            "✅ HDL tools installed\n"
          ]
        },
        {
          "output_type": "stream",
          "name": "stderr",
          "text": [
            "W: Skipping acquire of configured file 'main/source/Sources' as repository 'https://r2u.stat.illinois.edu/ubuntu jammy InRelease' does not seem to provide it (sources.list entry misspelt?)\n"
          ]
        }
      ]
    },
    {
      "cell_type": "markdown",
      "metadata": {
        "id": "476f37e7"
      },
      "source": [
        "### 🔹 Verilog Version\n",
        "\n",
        "This Verilog module takes two inputs, `a` and `b`, and produces three outputs. `out_and` is the result of the AND operation between `a` and `b`, `out_or` is the result of the OR operation between `a` and `b`, and `out_not` is the result of the NOT operation on `a`."
      ]
    },
    {
      "cell_type": "code",
      "metadata": {
        "colab": {
          "base_uri": "https://localhost:8080/"
        },
        "id": "f89fc4f5",
        "outputId": "72fe2964-35fb-4556-fea3-b5e473a5074f"
      },
      "source": [
        "%%writefile and_or_not.v\n",
        "module and_or_not (\n",
        "    input a,    // Declare input 'a'\n",
        "    input b,    // Declare input 'b'\n",
        "    output out_and, // Declare output for AND operation\n",
        "    output out_or,  // Declare output for OR operation\n",
        "    output out_not  // Declare output for NOT operation\n",
        ");\n",
        "\n",
        "assign out_and = a & b;   // Implement AND gate: output is 'a' AND 'b'\n",
        "assign out_or = a | b;    // Implement OR gate: output is 'a' OR 'b'\n",
        "assign out_not = ~a;     // Implement NOT gate: output is NOT 'a'\n",
        "\n",
        "endmodule"
      ],
      "execution_count": 2,
      "outputs": [
        {
          "output_type": "stream",
          "name": "stdout",
          "text": [
            "Writing and_or_not.v\n"
          ]
        }
      ]
    },
    {
      "cell_type": "markdown",
      "metadata": {
        "id": "68c625ae"
      },
      "source": [
        "### 🔹 VHDL Version\n",
        "\n",
        "This VHDL entity and architecture define a logic module with two inputs, `a` and `b`, and three outputs. `out_and` is the result of the AND operation between `a` and `b`, `out_or` is the result of the OR operation between `a` and `b`, and `out_not` is the result of the NOT operation on `a`."
      ]
    },
    {
      "cell_type": "code",
      "metadata": {
        "colab": {
          "base_uri": "https://localhost:8080/"
        },
        "id": "b6886693",
        "outputId": "b15a6b0e-2a5c-4944-e850-a6392e78c0c8"
      },
      "source": [
        "%%writefile and_or_not.vhdl\n",
        "-- Declare the entity for the logic module\n",
        "library ieee; -- Include the IEEE library\n",
        "use ieee.std_logic_1164.all; -- Use the standard logic package\n",
        "\n",
        "entity and_or_not is\n",
        "    Port (\n",
        "        a : in STD_LOGIC;    -- Declare input 'a'\n",
        "        b : in STD_LOGIC;    -- Declare input 'b'\n",
        "        out_and : out STD_LOGIC; -- Declare output for AND operation\n",
        "        out_or : out STD_LOGIC;  -- Declare output for OR operation\n",
        "        out_not : out STD_LOGIC  -- Declare output for NOT operation\n",
        "    );\n",
        "end entity and_or_not;\n",
        "\n",
        "-- Define the architecture for the logic module\n",
        "architecture Behavioral of and_or_not is\n",
        "begin\n",
        "    -- Implement the AND gate: output is 'a' AND 'b'\n",
        "    out_and <= a and b;\n",
        "    -- Implement the OR gate: output is 'a' OR 'b'\n",
        "    out_or <= a or b;\n",
        "    -- Implement the NOT gate: output is NOT 'a'\n",
        "    out_not <= not a;\n",
        "end architecture Behavioral;"
      ],
      "execution_count": 11,
      "outputs": [
        {
          "output_type": "stream",
          "name": "stdout",
          "text": [
            "Overwriting and_or_not.vhdl\n"
          ]
        }
      ]
    },
    {
      "cell_type": "markdown",
      "metadata": {
        "id": "89042e3e"
      },
      "source": [
        "### 🔹 Verilog Testbench\n",
        "\n",
        "This Verilog testbench will apply a sequence of input combinations to the `and_or_not` module and generate a Value Change Dump (VCD) file (`and_or_not_tb.vcd`) that can be used to visualize the simulation waveforms."
      ]
    },
    {
      "cell_type": "code",
      "metadata": {
        "colab": {
          "base_uri": "https://localhost:8080/"
        },
        "id": "6a6ffa29",
        "outputId": "21fc02c2-1221-4b99-f2e7-b5778cdda71b"
      },
      "source": [
        "%%writefile and_or_not_tb.v\n",
        "// Testbench for the and_or_not module\n",
        "module and_or_not_tb;\n",
        "\n",
        "  // Declare signals to connect to the module under test (MUT)\n",
        "  reg a;\n",
        "  reg b;\n",
        "  wire out_and;\n",
        "  wire out_or;\n",
        "  wire out_not;\n",
        "\n",
        "  // Instantiate the module under test\n",
        "  and_or_not mut (\n",
        "    .a(a),\n",
        "    .b(b),\n",
        "    .out_and(out_and),\n",
        "    .out_or(out_or),\n",
        "    .out_not(out_not)\n",
        "  );\n",
        "\n",
        "  // Initial block for stimulus generation\n",
        "  initial begin\n",
        "    // Open the VCD file for waveform dumping\n",
        "    $dumpfile(\"and_or_not_tb.vcd\");\n",
        "    // Specify which signals to dump into the VCD file\n",
        "    $dumpvars(0, and_or_not_tb);\n",
        "\n",
        "    // Apply input patterns with delays\n",
        "    a = 0; b = 0; #10; // Apply input (0,0) and wait for 10 time units\n",
        "    a = 0; b = 1; #10; // Apply input (0,1) and wait for 10 time units\n",
        "    a = 1; b = 0; #10; // Apply input (1,0) and wait for 10 time units\n",
        "    a = 1; b = 1; #10; // Apply input (1,1) and wait for 10 time units\n",
        "\n",
        "    $finish; // End the simulation\n",
        "  end\n",
        "\n",
        "endmodule"
      ],
      "execution_count": 4,
      "outputs": [
        {
          "output_type": "stream",
          "name": "stdout",
          "text": [
            "Writing and_or_not_tb.v\n"
          ]
        }
      ]
    },
    {
      "cell_type": "markdown",
      "metadata": {
        "id": "eb42597d"
      },
      "source": [
        "### 🔹 VHDL Testbench\n",
        "\n",
        "This VHDL testbench applies various input combinations to the `and_or_not` entity and generates a waveform file (`and_or_not_tb.vcd`) for visualization."
      ]
    },
    {
      "cell_type": "code",
      "metadata": {
        "colab": {
          "base_uri": "https://localhost:8080/"
        },
        "id": "3307c355",
        "outputId": "d216dd9d-3bcb-403d-bd58-9710ba016dd6"
      },
      "source": [
        "%%writefile and_or_not_tb.vhdl\n",
        "-- Testbench for the and_or_not entity\n",
        "library ieee;\n",
        "use ieee.std_logic_1164.all;\n",
        "\n",
        "entity and_or_not_tb is\n",
        "end entity and_or_not_tb;\n",
        "\n",
        "architecture behavior of and_or_not_tb is\n",
        "\n",
        "    -- Declare component declaration for the module under test (MUT)\n",
        "    component and_or_not\n",
        "        Port (\n",
        "            a : in STD_LOGIC;\n",
        "            b : in STD_LOGIC;\n",
        "            out_and : out STD_LOGIC;\n",
        "            out_or : out STD_LOGIC;\n",
        "            out_not : out STD_LOGIC\n",
        "        );\n",
        "    end component;\n",
        "\n",
        "    -- Declare signals to connect to the MUT\n",
        "    signal a : STD_LOGIC := '0';\n",
        "    signal b : STD_LOGIC := '0';\n",
        "    signal out_and : STD_LOGIC;\n",
        "    signal out_or : STD_LOGIC;\n",
        "    signal out_not : STD_LOGIC;\n",
        "\n",
        "begin\n",
        "\n",
        "    -- Instantiate the module under test\n",
        "    mut : and_or_not\n",
        "        port map (\n",
        "            a => a,\n",
        "            b => b,\n",
        "            out_and => out_and,\n",
        "            out_or => out_or,\n",
        "            out_not => out_not\n",
        "        );\n",
        "\n",
        "    -- Stimulus process\n",
        "    stim_proc: process\n",
        "    begin\n",
        "        -- Open VCD file\n",
        "        wait for 10 ns; -- Wait for initial stabilization\n",
        "        a <= '0'; b <= '0';\n",
        "        wait for 10 ns; -- Apply input (0,0) and wait\n",
        "\n",
        "        a <= '0'; b <= '1';\n",
        "        wait for 10 ns; -- Apply input (0,1) and wait\n",
        "\n",
        "        a <= '1'; b <= '0';\n",
        "        wait for 10 ns; -- Apply input (1,0) and wait\n",
        "\n",
        "        a <= '1'; b <= '1';\n",
        "        wait for 10 ns; -- Apply input (1,1) and wait\n",
        "\n",
        "        -- Note: GHDL generates VCD automatically during simulation run\n",
        "\n",
        "        wait; -- Will wait forever, effectively ending the simulation\n",
        "    end process;\n",
        "\n",
        "end architecture behavior;"
      ],
      "execution_count": 12,
      "outputs": [
        {
          "output_type": "stream",
          "name": "stdout",
          "text": [
            "Overwriting and_or_not_tb.vhdl\n"
          ]
        }
      ]
    },
    {
      "cell_type": "markdown",
      "metadata": {
        "id": "ae658f9d"
      },
      "source": [
        "### 🔸 Verilog Simulation\n",
        "\n",
        "This block compiles and simulates the Verilog module and testbench using Icarus Verilog, generating a VCD file for waveform visualization. The output files will be stored in the `verilog_outputs` directory."
      ]
    },
    {
      "cell_type": "code",
      "metadata": {
        "colab": {
          "base_uri": "https://localhost:8080/"
        },
        "id": "0710c64c",
        "outputId": "8e63dc4b-6b03-422c-af68-1c6f72046f39"
      },
      "source": [
        "%%bash\n",
        "\n",
        "# Create output directory\n",
        "mkdir -p verilog_outputs\n",
        "\n",
        "# Compile the Verilog module and testbench\n",
        "iverilog -o verilog_outputs/and_or_not_vvp and_or_not.v and_or_not_tb.v\n",
        "\n",
        "# Simulate the compiled design and generate VCD\n",
        "vvp verilog_outputs/and_or_not_vvp\n",
        "\n",
        "# Move the generated VCD file to the output directory\n",
        "mv and_or_not_tb.vcd verilog_outputs/verilog_output.vcd\n",
        "\n",
        "echo \"Verilog simulation complete. Output in verilog_outputs/\""
      ],
      "execution_count": 6,
      "outputs": [
        {
          "output_type": "stream",
          "name": "stdout",
          "text": [
            "VCD info: dumpfile and_or_not_tb.vcd opened for output.\n",
            "Verilog simulation complete. Output in verilog_outputs/\n"
          ]
        }
      ]
    },
    {
      "cell_type": "markdown",
      "metadata": {
        "id": "5f3641a2"
      },
      "source": [
        "### 🔸 VHDL Simulation\n",
        "\n",
        "This block analyzes, elaborates, and simulates the VHDL entity and architecture using GHDL, generating a VCD file for waveform visualization. The output files will be stored in the `vhdl_outputs` directory."
      ]
    },
    {
      "cell_type": "code",
      "metadata": {
        "colab": {
          "base_uri": "https://localhost:8080/"
        },
        "id": "27b2f00a",
        "outputId": "1e762626-c2ac-441c-c1db-6436b38b78d4"
      },
      "source": [
        "%%bash\n",
        "\n",
        "# Create output directory\n",
        "mkdir -p vhdl_outputs\n",
        "\n",
        "# Analyze the VHDL files\n",
        "ghdl -a and_or_not.vhdl and_or_not_tb.vhdl\n",
        "\n",
        "# Elaborate the testbench\n",
        "ghdl -e and_or_not_tb\n",
        "\n",
        "# Run the simulation and generate VCD\n",
        "ghdl -r and_or_not_tb --vcd=vhdl_outputs/vhdl_output.vcd\n",
        "\n",
        "echo \"VHDL simulation complete. Output in vhdl_outputs/\""
      ],
      "execution_count": 13,
      "outputs": [
        {
          "output_type": "stream",
          "name": "stdout",
          "text": [
            "VHDL simulation complete. Output in vhdl_outputs/\n"
          ]
        }
      ]
    }
  ]
}