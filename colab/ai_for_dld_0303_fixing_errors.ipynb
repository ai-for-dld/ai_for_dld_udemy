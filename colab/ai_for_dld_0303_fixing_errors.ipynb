{
  "cells": [
    {
      "cell_type": "markdown",
      "metadata": {
        "id": "view-in-github",
        "colab_type": "text"
      },
      "source": [
        "<a href=\"https://colab.research.google.com/github/ai-for-dld/ai_for_dld_udemy/blob/main/colab/ai_for_hdl_0303_fixing_errors.ipynb\" target=\"_parent\"><img src=\"https://colab.research.google.com/assets/colab-badge.svg\" alt=\"Open In Colab\"/></a>"
      ]
    },
    {
      "cell_type": "markdown",
      "id": "6e9bd44a",
      "metadata": {
        "id": "6e9bd44a"
      },
      "source": [
        "# Debugging HDL Using AI Explanations"
      ]
    },
    {
      "cell_type": "markdown",
      "id": "c329ca4d",
      "metadata": {
        "id": "c329ca4d"
      },
      "source": [
        "<details open>\n",
        "<summary><strong>🧭 Introduction</strong></summary>\n",
        "\n",
        "Debugging is a crucial skill in digital logic design. Even when using AI-generated code, errors will occur due to syntax issues, wrong port names, undeclared signals, or incorrect module structures.\n",
        "\n",
        "In traditional workflows, beginners often get stuck trying to interpret cryptic compiler errors. In this lecture, we will learn how to use AI tools like Gemini as an intelligent co-pilot — not just for generating code, but for understanding and fixing bugs too.\n",
        "\n",
        "Unlike generic error messages, AI can explain why an error occurred and offer corrected HDL or simulation steps. But to do that effectively, we must first learn how to guide the AI with structured prompts — especially when sharing error logs, faulty code, and our goals clearly.\n",
        "\n",
        "We’ll begin by identifying common types of HDL errors and create prompts that allow us to:\n",
        "- Simulate a faulty Verilog/VHDL module\n",
        "- Capture real compiler error messages\n",
        "- Ask Gemini to explain and correct the code\n",
        "\n",
        "By the end of this session, you’ll be able to independently use AI tools to analyze, fix, and re-verify HDL code through simulation.\n",
        "\n",
        "</details>"
      ]
    },
    {
      "cell_type": "markdown",
      "id": "8895f18b",
      "metadata": {
        "id": "8895f18b"
      },
      "source": [
        "<details open>\n",
        "<summary><strong>🛠️ Tool of the Day</strong></summary>\n",
        "\n",
        "In this lecture, we will use the following tools in a Colab environment:\n",
        "\n",
        "</details>"
      ]
    },
    {
      "cell_type": "markdown",
      "id": "3a21726a",
      "metadata": {
        "id": "3a21726a"
      },
      "source": [
        "<details open>\n",
        "<summary><strong>1. Google Gemini (in Colab)</strong></summary>\n",
        "\n",
        "- Used to explain error messages and suggest corrected HDL or testbench code\n",
        "- Learner-friendly co-pilot for debugging\n",
        "\n",
        "</details>"
      ]
    },
    {
      "cell_type": "markdown",
      "id": "20ba2525",
      "metadata": {
        "id": "20ba2525"
      },
      "source": [
        "<details open>\n",
        "<summary><strong>2. Icarus Verilog (for Verilog simulation)</strong></summary>\n",
        "\n",
        "- Open-source Verilog simulator\n",
        "- Outputs compilation logs that help identify syntax errors\n",
        "\n",
        "</details>"
      ]
    },
    {
      "cell_type": "markdown",
      "id": "32a52da9",
      "metadata": {
        "id": "32a52da9"
      },
      "source": [
        "<details open>\n",
        "<summary><strong>3. GHDL (for VHDL simulation)</strong></summary>\n",
        "\n",
        "- Used to simulate VHDL designs and testbenches\n",
        "- Produces meaningful compile-time feedback\n",
        "\n",
        "</details>"
      ]
    },
    {
      "cell_type": "markdown",
      "id": "cb0b38bf",
      "metadata": {
        "id": "cb0b38bf"
      },
      "source": [
        "<details open>\n",
        "<summary><strong>4. GTKWave (for waveform viewing, offline)</strong></summary>\n",
        "\n",
        "- After fixing the bugs, we can generate `.vcd` files and visualize signals using GTKWave\n",
        "\n",
        "All tools will be installed via shell scripts in Colab using AI-generated prompts.\n",
        "\n",
        "</details>"
      ]
    },
    {
      "cell_type": "markdown",
      "id": "97acf7d9",
      "metadata": {
        "id": "97acf7d9"
      },
      "source": [
        "<details open>\n",
        "<summary><strong>📘 Core Concept</strong></summary>\n",
        "\n",
        "The core idea of this lecture is to teach you how to use AI to debug HDL code — specifically by:\n",
        "\n",
        "- Generating faulty Verilog or VHDL code\n",
        "- Simulating the code to extract errors\n",
        "- Sharing those error messages with Gemini\n",
        "- Understanding the root cause of errors (missing semicolon, undeclared wire, etc.)\n",
        "- Receiving corrected HDL from Gemini\n",
        "- Re-simulating and validating the fix\n",
        "\n",
        "🧩 Why this matters:  \n",
        "Debugging is not just about fixing code. It teaches language structure, syntax rules, and design logic. AI tools can act as real-time tutors who explain the “why” behind every bug and fix — if you prompt them properly.\n",
        "\n",
        "</details>"
      ]
    },
    {
      "cell_type": "markdown",
      "id": "554a87d8",
      "metadata": {
        "id": "554a87d8"
      },
      "source": [
        "📦 Expected Outcome:\n",
        "By the end of this lecture, you will know:\n",
        "- How to simulate faulty HDL designs\n",
        "- How to prepare a structured debugging prompt\n",
        "- How to use Gemini to analyze error logs\n",
        "- How to validate your fixes via re-simulation"
      ]
    },
    {
      "cell_type": "markdown",
      "id": "7637b97c",
      "metadata": {
        "id": "7637b97c"
      },
      "source": [
        "<details open>\n",
        "<summary><strong>🧠 5A. Concept Explanation Prompt</strong></summary>\n",
        "\n",
        "Before debugging, learners must understand what kinds of errors typically occur in HDL workflows.\n",
        "\n",
        "👨‍🏫 Instructor’s Note:  \n",
        "Common HDL errors include:\n",
        "- Missing `endmodule` or `end process`\n",
        "- Typo in port names or mismatched declarations\n",
        "- Missing semicolon or colon\n",
        "- Wrong sensitivity list or signal direction\n",
        "- Using undefined signals in `assign` or `process`\n",
        "- Errors originating from compilation commands\n",
        "- Erros due to use of unsupported commands, scripts etc in the given environment\n",
        "\n",
        "To get help from AI, we must explicitly mention the language (Verilog or VHDL), the type of issue (compilation error, simulation bug), and share the actual error log in the prompt.\n",
        "\n",
        "💬 Try this in Gemini:\n",
        "\n",
        "</details>"
      ]
    },
    {
      "cell_type": "code",
      "execution_count": null,
      "id": "433b9a4e",
      "metadata": {
        "id": "433b9a4e"
      },
      "outputs": [],
      "source": [
        "I am learning Verilog. Please explain the most common types of syntax and logic errors beginners face during compilation and simulation.\n",
        "\n",
        "Give me 5–10 examples like:\n",
        "\n",
        "* Missing semicolon\n",
        "* Undeclared signals\n",
        "* Port mismatches\n",
        "* Unsupported constructs\n",
        "* Errors originating from compilation commands\n",
        "* Erros due to use of unsupported commands, scripts etc in the given environment\n",
        "\n",
        "\n",
        "For each example, explain the error message we might see and how to fix it. Keep explanations beginner-friendly.\n",
        "\n",
        "Output format:\n",
        "Give explanation as if it a standalone chapter in a book about Digital Logic design using Verilog and VHDL.\n",
        "Use suitable title, headings and subheadings."
      ]
    },
    {
      "cell_type": "markdown",
      "id": "1c18eeda",
      "metadata": {
        "id": "1c18eeda"
      },
      "source": [
        "<details open>\n",
        "<summary><strong>⚙️ 5B. Tool Setup Prompt</strong></summary>\n",
        "\n",
        "👨‍🏫 Instructor’s Note:  \n",
        "To debug code, we must first install the simulation tools that generate error logs. Ask AI to give a Colab-compatible shell script that:\n",
        "- Installs Icarus Verilog and GHDL\n",
        "- Sets permissions\n",
        "- Prints version info for verification\n",
        "\n",
        "💬 Try this in Gemini:\n",
        "\n",
        "</details>"
      ]
    },
    {
      "cell_type": "code",
      "execution_count": null,
      "id": "7c44c85c",
      "metadata": {
        "id": "7c44c85c"
      },
      "outputs": [],
      "source": [
        "Give me a complete bash script to install Icarus Verilog and GHDL in Google Colab.\n",
        "\n",
        "Add shell comments for each step.\n",
        "Make sure the script includes:\n",
        "\n",
        "* apt update\n",
        "* proper flags for silent install\n",
        "* verification steps like iverilog -V and ghdl --version\n",
        "* success message at the end\n",
        "\n",
        "Wrap it in a %%bash cell for Colab. Do not run the script, just write it.\n",
        "\n",
        "Output format:\n",
        "Give explanation as if it a standalone chapter in a book about Digital Logic design using Verilog and VHDL.\n",
        "Use suitable title, headings and subheadings."
      ]
    },
    {
      "cell_type": "markdown",
      "id": "618433a8",
      "metadata": {
        "id": "618433a8"
      },
      "source": [
        "<details open>\n",
        "<summary><strong>🧨 5C. Code Generation Prompt (Faulty HDL)</strong></summary>\n",
        "\n",
        "👨‍🏫 Instructor’s Note:  \n",
        "To practice debugging, we must start with intentionally buggy HDL code.\n",
        "\n",
        "Clearly state:\n",
        "- Language (Verilog or VHDL)\n",
        "- Module type (e.g., 2-bit comparator, full adder)\n",
        "- Fault types to include (e.g., missing semicolon, extra port)\n",
        "\n",
        "💬 Try this in Gemini:\n",
        "\n",
        "</details>"
      ]
    },
    {
      "cell_type": "code",
      "execution_count": null,
      "id": "7da6d509",
      "metadata": {
        "id": "7da6d509"
      },
      "outputs": [],
      "source": [
        "I want to practice debugging HDL using simulation logs.\n",
        "\n",
        "Please generate a Verilog module for a 2-bit comparator.\n",
        "But add 2–3 beginner-friendly syntax errors, such as:\n",
        "\n",
        "* Forgetting to close `endmodule`\n",
        "* Using undeclared signal\n",
        "* Missing semicolon in assign statement\n",
        "\n",
        "Do NOT explain or highlight where the errors are in the code.\n",
        "Do NOT write comments describing the bugs.\n",
        "Wrap the code in %%writefile so it can be saved in Colab.\n",
        "\n",
        "Output format:\n",
        "Give explanation as if it a standalone chapter in a book about Digital Logic design using Verilog and VHDL.\n",
        "Use suitable title, headings and subheadings."
      ]
    },
    {
      "cell_type": "markdown",
      "id": "fe085e7b",
      "metadata": {
        "id": "fe085e7b"
      },
      "source": [
        "<details open>\n",
        "<summary><strong>🧪 5D. Simulation Prompt</strong></summary>\n",
        "\n",
        "👨‍🏫 Instructor’s Note:  \n",
        "After generating the buggy HDL code, we must simulate it to trigger errors. The AI should give a Colab-compatible script using Icarus or GHDL to compile the code and print the error.\n",
        "\n",
        "💬 Try this in Gemini:\n",
        "\n",
        "</details>"
      ]
    },
    {
      "cell_type": "code",
      "execution_count": null,
      "id": "80226c2c",
      "metadata": {
        "id": "80226c2c"
      },
      "outputs": [],
      "source": [
        "Please give me a Colab-compatible script to compile the buggy Verilog code using Icarus Verilog.\n",
        "\n",
        "Wrap it in %%bash and include:\n",
        "\n",
        "* Compilation command (iverilog buggy.v)\n",
        "* Redirection of output and error messages\n",
        "* Print all errors on screen\n",
        "* If possible, create a log file for error messages\n",
        "\n",
        "Do not fix the errors. I want to use these logs to practice debugging with AI.\n",
        "\n",
        "Output format:\n",
        "Give explanation as if it a standalone chapter in a book about Digital Logic design using Verilog and VHDL.\n",
        "Use suitable title, headings and subheadings."
      ]
    },
    {
      "cell_type": "markdown",
      "id": "175fa210",
      "metadata": {
        "id": "175fa210"
      },
      "source": [
        "<details open>\n",
        "<summary><strong>📦 5E. File Download Prompt</strong></summary>\n",
        "\n",
        "👨‍🏫 Instructor’s Note:  \n",
        "After simulation, we may have several files: `.v` code, `.vcd`, `.log`, etc.  \n",
        "Instruct AI to create a `.zip` archive and generate Python code to download it from Colab.\n",
        "\n",
        "💬 Try this in Gemini:\n",
        "\n",
        "</details>"
      ]
    },
    {
      "cell_type": "code",
      "execution_count": null,
      "id": "a2be5102",
      "metadata": {
        "id": "a2be5102"
      },
      "outputs": [],
      "source": [
        "Please generate a Colab-friendly Python script that:\n",
        "\n",
        "1. Create varibale `filename = debug_files_<current_time>`.\n",
        "2. Zips all generated files (like .v, .log, .out) into a file called `<filename>.zip`\n",
        "2. Provide Python code block to download `<filename>.zip` in Colab\n",
        "\n",
        "Also, print a success message after creating the zip file.\n",
        "Make sure the AI adds explanations in text cells describing what the script does.\n",
        "\n",
        "Output format:\n",
        "Give explanation as if it a standalone chapter in a book about Digital Logic design using Verilog and VHDL.\n",
        "Use suitable title, headings and subheadings."
      ]
    },
    {
      "cell_type": "markdown",
      "id": "a23ba5f5",
      "metadata": {
        "id": "a23ba5f5"
      },
      "source": [
        "<details open>\n",
        "<summary><strong>🤖 6. GitHub Copilot Prompt</strong></summary>\n",
        "\n",
        "👨‍🏫 Instructor’s Note:  \n",
        "Now that we've generated all the key components — concept notes, environment setup, buggy code, simulation script, and zip file creator — we will instruct GitHub Copilot to generate a complete Colab notebook.\n",
        "\n",
        "This prompt must include:\n",
        "- The topic of the notebook\n",
        "- All sections to be included (text explanations + code cells)\n",
        "- Language (e.g., Verilog)\n",
        "- Tools used (e.g., Icarus Verilog)\n",
        "- File download setup\n",
        "- Use of `%%writefile`, `%%bash`, and Python download cells\n",
        "- Explicit request to generate `.ipynb` JSON (not markdown or HTML)\n",
        "\n",
        "💬 Use this prompt in GitHub Copilot:\n",
        "\n",
        "</details>"
      ]
    },
    {
      "cell_type": "code",
      "execution_count": null,
      "id": "93270dbf",
      "metadata": {
        "id": "93270dbf"
      },
      "outputs": [],
      "source": [
        "Generate a complete `.ipynb` Colab notebook (as JSON) for the topic:\n",
        "\"Debugging HDL using AI explanations – Compile, Identify, and Fix Errors\".\n",
        "\n",
        "The notebook must include:\n",
        "\n",
        "1. Text cell: Introduction about common HDL errors (Verilog)\n",
        "2. Code cell: %%bash for tool installation (Icarus Verilog + GHDL)\n",
        "3. Code cell: %%writefile with buggy Verilog module (e.g., 2-bit comparator)\n",
        "4. Code cell: %%bash to compile and show simulation errors\n",
        "5. Code cell: Python to zip all generated files\n",
        "6. Code cell: Python to download the zip file\n",
        "\n",
        "Add markdown-style explanations before each code cell.\n",
        "Ensure the final output is valid JSON format for Colab (`.ipynb`) — no markdown, no HTML.\n",
        "\n",
        "You may use following data for reference.\n",
        "\"\n",
        "\n",
        "\""
      ]
    },
    {
      "cell_type": "markdown",
      "id": "7b1eeb37",
      "metadata": {
        "id": "7b1eeb37"
      },
      "source": [
        "As we have generated content using Gemini, We can also ask Gemini to:\n",
        "- Create a complete notebook in JSON format\n",
        "- Include text explanation cells and code/script cells as planned\n",
        "- Ensure all HDL code is saved using `%%writefile`\n",
        "- Include simulation commands and `.zip` download block\n",
        "- Structure content clearly under markdown headings\n",
        "\n",
        "💬 Prompt (Try this in GitHub Copilot)"
      ]
    },
    {
      "cell_type": "code",
      "execution_count": null,
      "id": "abaf5ef1",
      "metadata": {
        "id": "abaf5ef1"
      },
      "outputs": [],
      "source": [
        "Combine all the responses in this chat to Generate a complete Colab notebook (.ipynb in JSON format) with the following structure:\n",
        "\n",
        "1. Title: Debugging HDL using AI explanations – Compile, Identify, and Fix Errors\n",
        "\n",
        "2. Each responses treaded as seprate section with suitable heading\n",
        "\n",
        "Ensure:\n",
        "\n",
        "* Each cell is properly formatted\n",
        "* Code is executable in Colab\n",
        "* Output cells are optional; we will run them in Colab later\n",
        "\n",
        "Return the notebook as raw `.ipynb` JSON format\n",
        "\"\""
      ]
    },
    {
      "cell_type": "markdown",
      "id": "c06711e5",
      "metadata": {
        "id": "c06711e5"
      },
      "source": [
        "<details open>\n",
        "<summary><strong>🛠️ Ai for Fixing Errors</strong></summary>\n",
        "\n",
        "👨‍🏫 Instructor’s Note:  \n",
        "Now the learner must use AI to help fix the simulation errors.  \n",
        "The prompt should include:\n",
        "- The buggy Verilog/VHDL code\n",
        "- The simulation error output\n",
        "- A request to fix the code and explain corrections\n",
        "\n",
        "💬 Try this in Gemini:\n",
        "\n",
        "</details>"
      ]
    },
    {
      "cell_type": "code",
      "execution_count": null,
      "id": "019427f1",
      "metadata": {
        "id": "019427f1"
      },
      "outputs": [],
      "source": [
        "I tried compiling the following Verilog code but received simulation errors.\n",
        "\n",
        "Below is my code:\n",
        "[paste HDL code here]\n",
        "\n",
        "Below is the error message:\n",
        "[paste simulator output]\n",
        "\n",
        "Please fix the code, and explain what changes were made and why.\n",
        "\n",
        "Output format:\n",
        "Give explanation as if it a standalone chapter in a book about Digital Logic design using Verilog and VHDL.\n",
        "Use suitable title, headings and subheadings."
      ]
    },
    {
      "cell_type": "markdown",
      "id": "6aa2eaad",
      "metadata": {
        "id": "6aa2eaad"
      },
      "source": [
        "<details open>\n",
        "<summary><strong>☁️ 7. Upload Instructions</strong></summary>\n",
        "\n",
        "👨‍🏫 Instructor’s Note:  \n",
        "Once the `.ipynb` JSON is generated from GitHub Copilot, learners must follow these steps:\n",
        "\n",
        "1. Copy the raw JSON output into a `.txt` file.\n",
        "2. Rename the file to `debugging_hdl_ai.ipynb`.\n",
        "3. Upload the `.ipynb` file to Google Drive or GitHub.\n",
        "4. Open it in Google Colab using right-click → *Open with → Colab*.\n",
        "5. Do not download from browser save-as — it corrupts indentation and metadata.\n",
        "\n",
        "</details>"
      ]
    },
    {
      "cell_type": "markdown",
      "id": "51781ccc",
      "metadata": {
        "id": "51781ccc"
      },
      "source": [
        "<details open>\n",
        "<summary><strong>🚀 8. Colab Execution</strong></summary>\n",
        "\n",
        "👨‍🏫 Instructor’s Note:  \n",
        "After uploading the generated notebook, learners must:\n",
        "\n",
        "- Run tool setup first (wait for `iverilog -V` and `ghdl --version`)\n",
        "- Run the code block to save buggy HDL file\n",
        "- Compile using `iverilog buggy.v`\n",
        "- Observe the error log in output\n",
        "- Use Gemini to debug the error based on logs\n",
        "\n",
        "💡 Keep notebook tidy. Insert explanatory text cells before and after each step.\n",
        "\n",
        "</details>"
      ]
    },
    {
      "cell_type": "markdown",
      "id": "17d51aa7",
      "metadata": {
        "id": "17d51aa7"
      },
      "source": [
        "<details open>\n",
        "<summary><strong>💾 9. Save & Share</strong></summary>\n",
        "\n",
        "👨‍🏫 Instructor’s Note:  \n",
        "Learners must preserve and present their debugging exercise.  \n",
        "Ask AI to give scripts to:\n",
        "\n",
        "- Save the entire notebook with AI explanations and logs\n",
        "- Push the notebook to GitHub (optional)\n",
        "- Create PDF export using Colab’s *File → Print → Save as PDF*\n",
        "- Upload summary to Notion as personal logbook\n",
        "\n",
        "</details>"
      ]
    },
    {
      "cell_type": "markdown",
      "id": "817d79d7",
      "metadata": {
        "id": "817d79d7"
      },
      "source": [
        "<details open>\n",
        "<summary><strong>✅ 10. Rubric or Checklist</strong></summary>\n",
        "\n",
        "| Task | Completed? |\n",
        "|------|------------|\n",
        "| 🔧 Tools installed using AI script | ✅ / ❌ |\n",
        "| 📄 Buggy HDL file generated | ✅ / ❌ |\n",
        "| 🧪 Simulation attempted and errors observed | ✅ / ❌ |\n",
        "| 🧠 Used AI to identify and fix errors | ✅ / ❌ |\n",
        "| 📦 All files zipped and downloaded | ✅ / ❌ |\n",
        "| 📁 Notebook uploaded to GitHub or Notion | ✅ / ❌ |\n",
        "\n",
        "</details>"
      ]
    },
    {
      "cell_type": "markdown",
      "id": "f8fc42c6",
      "metadata": {
        "id": "f8fc42c6"
      },
      "source": [
        "<details open>\n",
        "<summary><strong>🙏 11. Thank You + What’s Next</strong></summary>\n",
        "\n",
        "🎉 In this session, you explored how AI can:\n",
        "- Help identify common HDL errors\n",
        "- Simulate faulty code and capture error logs\n",
        "- Guide debugging based on error messages\n",
        "\n",
        "🧭 In the next lecture, we’ll take this further:\n",
        "- Starting from a truth table, you’ll use AI to convert logic into working HDL code — another exciting step in *learning by prompting*.\n",
        "\n",
        "📢 Save your notebook, zip files, and prompt logs — they are evidence of your journey in AI-powered digital design!\n",
        "ai_for_hdl_0303_fixing_errors\n",
        "\n",
        "</details>"
      ]
    }
  ],
  "metadata": {
    "kernelspec": {
      "display_name": "Python 3",
      "language": "python",
      "name": "python3"
    },
    "language_info": {
      "name": "python",
      "version": "3.10"
    },
    "colab": {
      "provenance": [],
      "include_colab_link": true
    }
  },
  "nbformat": 4,
  "nbformat_minor": 5
}
