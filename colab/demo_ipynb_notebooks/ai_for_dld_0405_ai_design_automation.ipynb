{
  "cells": [
    {
      "cell_type": "markdown",
      "metadata": {
        "id": "view-in-github",
        "colab_type": "text"
      },
      "source": [
        "<a href=\"https://colab.research.google.com/github/ai-for-dld/ai_for_dld_udemy/blob/main/colab/demo_ipynb_notebooks/ai_for_dld_0405_ai_design_automation.ipynb\" target=\"_parent\"><img src=\"https://colab.research.google.com/assets/colab-badge.svg\" alt=\"Open In Colab\"/></a>"
      ]
    },
    {
      "cell_type": "markdown",
      "metadata": {
        "id": "NROpdEWj74o6"
      },
      "source": [
        "# AI Augmented Design Augmentation through Reusable Scripts and Templates\n",
        "\n",
        "## Introduction\n",
        "In professional digital logic design, efficiency comes not only from knowing how to code a circuit, but also from building **reusable workflows** that adapt quickly to different projects. In this lecture, we will explore how to use **AI-generated prompts** along with **pre-built reusable scripts** for installation, simulation, waveform generation, and file packaging — all without rewriting the same setup for each project.\n",
        "\n",
        "We will focus on leveraging the `settings.tcl` configuration file and dynamic file lists to adapt these scripts to new circuits with minimal changes. This approach allows us to implement **complex combinational and sequential circuits** by changing only configuration parameters, not the underlying automation scripts.\n",
        "\n",
        "You will learn:\n",
        "- How to write an AI prompt for generating both circuit and testbench.\n",
        "- How to integrate generated HDL code with reusable scripts.\n",
        "- How to configure `settings.tcl` to switch between Verilog and VHDL.\n",
        "- How to run the simulation and get results using the same scripts for every project.\n",
        "\n",
        "By the end, you will be able to execute a **re-configurable AI-augmented design flow** entirely in Google Colab."
      ]
    },
    {
      "cell_type": "markdown",
      "metadata": {
        "id": "Yi8yk_ks74o9"
      },
      "source": [
        "## Tool of the Day\n",
        "We will use:\n",
        "- **Google Colab**: Cloud execution environment.\n",
        "- **Icarus Verilog**: Open-source Verilog simulation tool.\n",
        "- **GHDL**: Open-source VHDL simulation tool.\n",
        "- **Yosys**: Open-source synthesis tool.\n",
        "- **GTKWave (Portable)**: For waveform viewing (offline).\n",
        "- **settings.tcl**: Configuration file for simulation parameters and file lists.\n",
        "\n",
        "Our focus is to let **AI generate HDL code** and then plug it into these reusable scripts, making the process consistent and repeatable."
      ]
    },
    {
      "cell_type": "markdown",
      "metadata": {
        "id": "4FOqTM0_74o-"
      },
      "source": [
        "## Core Concept\n",
        "The core concept here is **design augmentation through automation**. Instead of hardcoding file names, module names, or languages inside simulation scripts, we maintain them in `settings.tcl`.\n",
        "\n",
        "**Benefits:**\n",
        "- Single simulation script works for all projects.\n",
        "- Easy to switch between Verilog and VHDL.\n",
        "- Centralized configuration reduces human error.\n",
        "- Faster project turn-around for new designs.\n",
        "\n",
        "This structure allows us to focus on writing AI prompts for the design logic itself, while the supporting environment remains stable."
      ]
    },
    {
      "cell_type": "markdown",
      "metadata": {
        "id": "ByZuv8gQ74o_"
      },
      "source": [
        "## 💬 Try this in Gemini in Colab – AI Prompt 1: Concept & Steps\n",
        "**Why this prompt is needed:**\n",
        "Before generating any code, we need AI to understand the overall specification — both the **complex circuit design** and the requirement for reusable automation.\n",
        "\n",
        "**Key keywords to include:**\n",
        "- Circuit specification (e.g., *4-bit synchronous counter* + *4-bit adder*).\n",
        "- Testbench requirement.\n",
        "- Clear separation of design and testbench files.\n",
        "- Instructions to run in Google Colab.\n",
        "\n",
        "**Expected output:** A step-by-step explanation plus HDL module and testbench code, each saved using `%%writefile`.\n",
        "\n",
        "```\n",
        "Paste this into Gemini in Colab:\n",
        "\n",
        "You are an HDL design tutor for Google Colab.\n",
        "Please explain step-by-step how to implement a 4-bit synchronous counter and a 4-bit adder, then instantiate both in a single top-level module.\n",
        "Generate both Verilog and VHDL versions.\n",
        "Also generate a testbench for each language.\n",
        "Ensure each file is written using %%writefile syntax.\n",
        "Output format:\n",
        "Give explanation as if it is a standalone chapter in a book about Digital Logic design using Verilog and VHDL.\n",
        "Use suitable title, headings, and subheadings.\n",
        "```"
      ]
    },
    {
      "cell_type": "markdown",
      "metadata": {
        "id": "acTSpGMf74pA"
      },
      "source": [
        "## 💬 Try this in Gemini in Colab – AI Prompt 2: Install Tools in Colab\n",
        "**Why this prompt is needed:**\n",
        "Every Colab session starts fresh, so we must install HDL tools before running simulations. Our goal is to automate this so the same install script works for every project.\n",
        "\n",
        "**Key keywords to include:**\n",
        "- `%%bash`\n",
        "- Tool list: `iverilog`, `gtkwave`, `yosys`, `ghdl`.\n",
        "- Silent installation commands.\n",
        "- Verification steps using `--version`.\n",
        "\n",
        "```\n",
        "Paste this into Gemini in Colab:\n",
        "\n",
        "You are a shell scripting assistant for Google Colab.\n",
        "Generate a script to install iverilog, ghdl, and yosys.\n",
        "Use %%bash at the top.\n",
        "Add comments for each command.\n",
        "At the end, print a confirmation message.\n",
        "Do not run the script; only generate it.\n",
        "Output format:\n",
        "Give explanation as if it is a standalone chapter in a book about Digital Logic design using Verilog and VHDL.\n",
        "```"
      ]
    },
    {
      "cell_type": "markdown",
      "metadata": {
        "id": "7RGE-88U74pA"
      },
      "source": [
        "## 💬 Try this in Gemini in Colab – AI Prompt 3: Perform the Activity\n",
        "**Why this prompt is needed:**\n",
        "We need to integrate generated HDL files with reusable scripts by only updating `settings.tcl` and file lists.\n",
        "\n",
        "**Key keywords to include:**\n",
        "- `settings.tcl` configuration.\n",
        "- Both Verilog and VHDL.\n",
        "- Testbench integration.\n",
        "- Simulation output generation (`.vcd` or `.ghw`).\n",
        "- Python code to zip results.\n",
        "\n",
        "```\n",
        "Paste this into Gemini in Colab:\n",
        "\n",
        "You are an HDL code and workflow assistant for Google Colab.\n",
        "Using previously generated design and testbench files, create a settings.tcl file listing file names, top module names, language type, and simulation parameters.\n",
        "Generate a simulation script that reads from settings.tcl and runs the appropriate tool.\n",
        "Ensure it produces .vcd for Verilog and .ghw for VHDL.\n",
        "Add Python code to zip all generated files and provide a download link.\n",
        "Output format:\n",
        "Give explanation as if it is a standalone chapter in a book about Digital Logic design using Verilog and VHDL.\n",
        "```"
      ]
    },
    {
      "cell_type": "markdown",
      "metadata": {
        "id": "70lxa_F274pB"
      },
      "source": [
        "## 💬 Try this in Gemini in Colab – AI Prompt 4: Consolidated Notebook\n",
        "**Why this prompt is needed:**\n",
        "We now want to combine all previous steps into a single `.ipynb` file generated by AI so we can execute the entire flow at once.\n",
        "\n",
        "**Key keywords to include:**\n",
        "- All markdown and code cells in JSON format.\n",
        "- Include installation, design, testbench, simulation, and zip steps.\n",
        "- Use proper Colab cell directives (`%%bash`, `%%writefile`).\n",
        "\n",
        "**Expected output:** A complete notebook JSON.\n",
        "\n",
        "```\n",
        "Paste this into GitHub Copilot:\n",
        "\n",
        "Generate a Google Colab-compatible .ipynb file in JSON format that contains:\n",
        "1. Markdown cells explaining each step.\n",
        "2. Code cells for tool installation, HDL code creation, testbench creation, simulation, and file download.\n",
        "3. All code cells use %%bash or %%writefile as appropriate.\n",
        "4. Structure content so it matches the lecture AI Augmented Design Augmentation through Reusable Scripts and Templates.\n",
        "Do not run any commands; just provide the JSON.\n",
        "```"
      ]
    },
    {
      "cell_type": "markdown",
      "metadata": {
        "id": "BXFfHy1u74pB"
      },
      "source": [
        "## Save and Share\n",
        "Once your notebook runs successfully:\n",
        "- Save it to your Google Drive.\n",
        "- Push it to your GitHub repository.\n",
        "- Add notes in Notion for your personal reference.\n",
        "- Keep the notebook and scripts organized so you can reuse them in future projects."
      ]
    },
    {
      "cell_type": "markdown",
      "metadata": {
        "id": "OHkWIhhQ74pC"
      },
      "source": [
        "## Rubric / Checklist\n",
        "- ✅ Tools installed in Colab\n",
        "- ✅ HDL design and testbench generated\n",
        "- ✅ settings.tcl correctly configured\n",
        "- ✅ Simulation executed successfully\n",
        "- ✅ Waveform file generated\n",
        "- ✅ All output files zipped and downloadable\n",
        "- ✅ Notebook saved to GitHub or Notion"
      ]
    },
    {
      "cell_type": "markdown",
      "metadata": {
        "id": "qZGDQDFX74pC"
      },
      "source": [
        "## Thank You + What's Next\n",
        "In this lecture, we explored how to combine AI-generated designs with reusable scripts to create a highly adaptable design workflow. By centralizing configuration in `settings.tcl`, we can handle different projects without rewriting our automation scripts.\n",
        "\n",
        "In the next lecture, we will focus on **applying this reusable scripting model** to a specific design challenge — a complete 3:8 decoder — and refine our prompt engineering for even more efficiency."
      ]
    }
  ],
  "metadata": {
    "colab": {
      "provenance": [],
      "include_colab_link": true
    },
    "kernelspec": {
      "display_name": "Python 3",
      "language": "python",
      "name": "python3"
    },
    "language_info": {
      "name": "python"
    }
  },
  "nbformat": 4,
  "nbformat_minor": 0
}