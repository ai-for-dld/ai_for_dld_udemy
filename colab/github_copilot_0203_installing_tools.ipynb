{
  "nbformat": 4,
  "nbformat_minor": 0,
  "metadata": {
    "colab": {
      "provenance": [],
      "include_colab_link": true
    },
    "kernelspec": {
      "name": "python3",
      "display_name": "Python 3"
    },
    "language_info": {
      "name": "python"
    }
  },
  "cells": [
    {
      "cell_type": "markdown",
      "metadata": {
        "id": "view-in-github",
        "colab_type": "text"
      },
      "source": [
        "<a href=\"https://colab.research.google.com/github/ai-for-dld/ai_for_dld_udemy/blob/main/colab/github_copilot_0203_installing_tools.ipynb\" target=\"_parent\"><img src=\"https://colab.research.google.com/assets/colab-badge.svg\" alt=\"Open In Colab\"/></a>"
      ]
    },
    {
      "cell_type": "markdown",
      "metadata": {
        "id": "URo4ACJHpH1n"
      },
      "source": [
        "# Installing GHDL, Icarus, and Yosys in Google Colab"
      ]
    },
    {
      "cell_type": "markdown",
      "metadata": {
        "id": "XqkpDHyjpH1o"
      },
      "source": [
        "This notebook will guide you through installing the essential open-source tools for digital hardware design and verification:\n",
        "\n",
        "- **GHDL**: A VHDL simulator for simulating VHDL designs and testbenches.\n",
        "- **Icarus Verilog (iverilog)**: A Verilog simulator for simulating Verilog designs and testbenches.\n",
        "- **Yosys**: A synthesis tool for Verilog (and limited VHDL via plugins), transforming HDL designs into gate-level netlists for implementation on FPGAs or ASICs.\n",
        "\n",
        "Together, these tools allow you to explore both simulation and synthesis flows for digital logic using both VHDL and Verilog languages."
      ]
    },
    {
      "cell_type": "code",
      "metadata": {
        "colab": {
          "base_uri": "https://localhost:8080/"
        },
        "id": "wBxUC6Z0pH1p",
        "outputId": "d512ab9b-2eff-4f2f-c310-17eecc796ff6"
      },
      "source": [
        "%%bash\n",
        "apt-get update -y\n",
        "apt-get install -y ghdl-llvm iverilog yosys"
      ],
      "execution_count": 1,
      "outputs": [
        {
          "output_type": "stream",
          "name": "stdout",
          "text": [
            "Get:1 http://security.ubuntu.com/ubuntu jammy-security InRelease [129 kB]\n",
            "Hit:2 http://archive.ubuntu.com/ubuntu jammy InRelease\n",
            "Get:3 http://archive.ubuntu.com/ubuntu jammy-updates InRelease [128 kB]\n",
            "Get:4 https://developer.download.nvidia.com/compute/cuda/repos/ubuntu2204/x86_64  InRelease [1,581 B]\n",
            "Get:5 http://archive.ubuntu.com/ubuntu jammy-backports InRelease [127 kB]\n",
            "Get:6 https://cloud.r-project.org/bin/linux/ubuntu jammy-cran40/ InRelease [3,632 B]\n",
            "Get:7 https://r2u.stat.illinois.edu/ubuntu jammy InRelease [6,555 B]\n",
            "Hit:8 https://ppa.launchpadcontent.net/deadsnakes/ppa/ubuntu jammy InRelease\n",
            "Hit:9 https://ppa.launchpadcontent.net/graphics-drivers/ppa/ubuntu jammy InRelease\n",
            "Hit:10 https://ppa.launchpadcontent.net/ubuntugis/ppa/ubuntu jammy InRelease\n",
            "Get:11 http://archive.ubuntu.com/ubuntu jammy-updates/main amd64 Packages [3,461 kB]\n",
            "Get:12 http://archive.ubuntu.com/ubuntu jammy-updates/restricted amd64 Packages [5,139 kB]\n",
            "Get:13 http://archive.ubuntu.com/ubuntu jammy-updates/universe amd64 Packages [1,572 kB]\n",
            "Get:14 http://security.ubuntu.com/ubuntu jammy-security/main amd64 Packages [3,148 kB]\n",
            "Get:15 http://security.ubuntu.com/ubuntu jammy-security/restricted amd64 Packages [4,932 kB]\n",
            "Get:16 https://developer.download.nvidia.com/compute/cuda/repos/ubuntu2204/x86_64  Packages [1,840 kB]\n",
            "Get:17 http://security.ubuntu.com/ubuntu jammy-security/universe amd64 Packages [1,267 kB]\n",
            "Get:18 https://r2u.stat.illinois.edu/ubuntu jammy/main amd64 Packages [2,762 kB]\n",
            "Get:19 https://r2u.stat.illinois.edu/ubuntu jammy/main all Packages [9,126 kB]\n",
            "Fetched 33.6 MB in 8s (3,982 kB/s)\n",
            "Reading package lists...\n",
            "Reading package lists...\n",
            "Building dependency tree...\n",
            "Reading state information...\n",
            "The following additional packages will be installed:\n",
            "  berkeley-abc gcc-10-base ghdl-common gir1.2-atk-1.0 gir1.2-gtk-3.0\n",
            "  libgnat-10 libllvm13 python3-cairo python3-gi-cairo python3-numpy xdot\n",
            "Suggested packages:\n",
            "  gtkwave python-numpy-doc python3-pytest\n",
            "The following NEW packages will be installed:\n",
            "  berkeley-abc gcc-10-base ghdl-common ghdl-llvm gir1.2-atk-1.0 gir1.2-gtk-3.0\n",
            "  iverilog libgnat-10 libllvm13 python3-cairo python3-gi-cairo python3-numpy\n",
            "  xdot yosys\n",
            "0 upgraded, 14 newly installed, 0 to remove and 36 not upgraded.\n",
            "Need to get 38.6 MB of archives.\n",
            "After this operation, 166 MB of additional disk space will be used.\n",
            "Get:1 http://archive.ubuntu.com/ubuntu jammy/universe amd64 berkeley-abc amd64 1.01+20211229git48498af+dfsg-2 [4,271 kB]\n",
            "Get:2 http://archive.ubuntu.com/ubuntu jammy-updates/universe amd64 gcc-10-base amd64 10.5.0-1ubuntu1~22.04 [21.5 kB]\n",
            "Get:3 http://archive.ubuntu.com/ubuntu jammy/universe amd64 ghdl-common amd64 1.0.0+dfsg-6 [154 kB]\n",
            "Get:4 http://archive.ubuntu.com/ubuntu jammy-updates/universe amd64 libgnat-10 amd64 10.5.0-1ubuntu1~22.04 [1,220 kB]\n",
            "Get:5 http://archive.ubuntu.com/ubuntu jammy-updates/main amd64 libllvm13 amd64 1:13.0.1-2ubuntu2.2 [22.2 MB]\n",
            "Get:6 http://archive.ubuntu.com/ubuntu jammy/universe amd64 ghdl-llvm amd64 1.0.0+dfsg-6 [2,253 kB]\n",
            "Get:7 http://archive.ubuntu.com/ubuntu jammy/main amd64 gir1.2-atk-1.0 amd64 2.36.0-3build1 [21.0 kB]\n",
            "Get:8 http://archive.ubuntu.com/ubuntu jammy-updates/main amd64 gir1.2-gtk-3.0 amd64 3.24.33-1ubuntu2.2 [240 kB]\n",
            "Get:9 http://archive.ubuntu.com/ubuntu jammy/universe amd64 iverilog amd64 11.0-1.1 [2,130 kB]\n",
            "Get:10 http://archive.ubuntu.com/ubuntu jammy/main amd64 python3-cairo amd64 1.20.1-3build1 [73.7 kB]\n",
            "Get:11 http://archive.ubuntu.com/ubuntu jammy-updates/main amd64 python3-gi-cairo amd64 3.42.1-0ubuntu1 [8,184 B]\n",
            "Get:12 http://archive.ubuntu.com/ubuntu jammy-updates/main amd64 python3-numpy amd64 1:1.21.5-1ubuntu22.04.1 [3,467 kB]\n",
            "Get:13 http://archive.ubuntu.com/ubuntu jammy/universe amd64 xdot all 1.2-2 [28.1 kB]\n",
            "Get:14 http://archive.ubuntu.com/ubuntu jammy/universe amd64 yosys amd64 0.9-2 [2,449 kB]\n",
            "Fetched 38.6 MB in 2s (20.7 MB/s)\n",
            "Selecting previously unselected package berkeley-abc.\r\n",
            "(Reading database ... \r(Reading database ... 5%\r(Reading database ... 10%\r(Reading database ... 15%\r(Reading database ... 20%\r(Reading database ... 25%\r(Reading database ... 30%\r(Reading database ... 35%\r(Reading database ... 40%\r(Reading database ... 45%\r(Reading database ... 50%\r(Reading database ... 55%\r(Reading database ... 60%\r(Reading database ... 65%\r(Reading database ... 70%\r(Reading database ... 75%\r(Reading database ... 80%\r(Reading database ... 85%\r(Reading database ... 90%\r(Reading database ... 95%\r(Reading database ... 100%\r(Reading database ... 126281 files and directories currently installed.)\r\n",
            "Preparing to unpack .../00-berkeley-abc_1.01+20211229git48498af+dfsg-2_amd64.deb ...\r\n",
            "Unpacking berkeley-abc (1.01+20211229git48498af+dfsg-2) ...\r\n",
            "Selecting previously unselected package gcc-10-base:amd64.\r\n",
            "Preparing to unpack .../01-gcc-10-base_10.5.0-1ubuntu1~22.04_amd64.deb ...\r\n",
            "Unpacking gcc-10-base:amd64 (10.5.0-1ubuntu1~22.04) ...\r\n",
            "Selecting previously unselected package ghdl-common.\r\n",
            "Preparing to unpack .../02-ghdl-common_1.0.0+dfsg-6_amd64.deb ...\r\n",
            "Unpacking ghdl-common (1.0.0+dfsg-6) ...\r\n",
            "Selecting previously unselected package libgnat-10:amd64.\r\n",
            "Preparing to unpack .../03-libgnat-10_10.5.0-1ubuntu1~22.04_amd64.deb ...\r\n",
            "Unpacking libgnat-10:amd64 (10.5.0-1ubuntu1~22.04) ...\r\n",
            "Selecting previously unselected package libllvm13:amd64.\r\n",
            "Preparing to unpack .../04-libllvm13_1%3a13.0.1-2ubuntu2.2_amd64.deb ...\r\n",
            "Unpacking libllvm13:amd64 (1:13.0.1-2ubuntu2.2) ...\r\n",
            "Selecting previously unselected package ghdl-llvm.\r\n",
            "Preparing to unpack .../05-ghdl-llvm_1.0.0+dfsg-6_amd64.deb ...\r\n",
            "Unpacking ghdl-llvm (1.0.0+dfsg-6) ...\r\n",
            "Selecting previously unselected package gir1.2-atk-1.0:amd64.\r\n",
            "Preparing to unpack .../06-gir1.2-atk-1.0_2.36.0-3build1_amd64.deb ...\r\n",
            "Unpacking gir1.2-atk-1.0:amd64 (2.36.0-3build1) ...\r\n",
            "Selecting previously unselected package gir1.2-gtk-3.0:amd64.\r\n",
            "Preparing to unpack .../07-gir1.2-gtk-3.0_3.24.33-1ubuntu2.2_amd64.deb ...\r\n",
            "Unpacking gir1.2-gtk-3.0:amd64 (3.24.33-1ubuntu2.2) ...\r\n",
            "Selecting previously unselected package iverilog.\r\n",
            "Preparing to unpack .../08-iverilog_11.0-1.1_amd64.deb ...\r\n",
            "Unpacking iverilog (11.0-1.1) ...\r\n",
            "Selecting previously unselected package python3-cairo:amd64.\r\n",
            "Preparing to unpack .../09-python3-cairo_1.20.1-3build1_amd64.deb ...\r\n",
            "Unpacking python3-cairo:amd64 (1.20.1-3build1) ...\r\n",
            "Selecting previously unselected package python3-gi-cairo.\r\n",
            "Preparing to unpack .../10-python3-gi-cairo_3.42.1-0ubuntu1_amd64.deb ...\r\n",
            "Unpacking python3-gi-cairo (3.42.1-0ubuntu1) ...\r\n",
            "Selecting previously unselected package python3-numpy.\r\n",
            "Preparing to unpack .../11-python3-numpy_1%3a1.21.5-1ubuntu22.04.1_amd64.deb ...\r\n",
            "Unpacking python3-numpy (1:1.21.5-1ubuntu22.04.1) ...\r\n",
            "Selecting previously unselected package xdot.\r\n",
            "Preparing to unpack .../12-xdot_1.2-2_all.deb ...\r\n",
            "Unpacking xdot (1.2-2) ...\r\n",
            "Selecting previously unselected package yosys.\r\n",
            "Preparing to unpack .../13-yosys_0.9-2_amd64.deb ...\r\n",
            "Unpacking yosys (0.9-2) ...\r\n",
            "Setting up ghdl-common (1.0.0+dfsg-6) ...\r\n",
            "Setting up python3-cairo:amd64 (1.20.1-3build1) ...\r\n",
            "Setting up gir1.2-atk-1.0:amd64 (2.36.0-3build1) ...\r\n",
            "Setting up gir1.2-gtk-3.0:amd64 (3.24.33-1ubuntu2.2) ...\r\n",
            "Setting up berkeley-abc (1.01+20211229git48498af+dfsg-2) ...\r\n",
            "Setting up iverilog (11.0-1.1) ...\r\n",
            "Setting up gcc-10-base:amd64 (10.5.0-1ubuntu1~22.04) ...\r\n",
            "Setting up libllvm13:amd64 (1:13.0.1-2ubuntu2.2) ...\r\n",
            "Setting up python3-numpy (1:1.21.5-1ubuntu22.04.1) ...\r\n",
            "Setting up libgnat-10:amd64 (10.5.0-1ubuntu1~22.04) ...\r\n",
            "Setting up python3-gi-cairo (3.42.1-0ubuntu1) ...\r\n",
            "Setting up xdot (1.2-2) ...\r\n",
            "Setting up yosys (0.9-2) ...\r\n",
            "Setting up ghdl-llvm (1.0.0+dfsg-6) ...\r\n",
            "Processing triggers for mailcap (3.70+nmu1ubuntu1) ...\r\n",
            "Processing triggers for libc-bin (2.35-0ubuntu3.8) ...\r\n",
            "/sbin/ldconfig.real: /usr/local/lib/libur_adapter_level_zero_v2.so.0 is not a symbolic link\r\n",
            "\r\n",
            "/sbin/ldconfig.real: /usr/local/lib/libtbbbind_2_0.so.3 is not a symbolic link\r\n",
            "\r\n",
            "/sbin/ldconfig.real: /usr/local/lib/libur_loader.so.0 is not a symbolic link\r\n",
            "\r\n",
            "/sbin/ldconfig.real: /usr/local/lib/libtbbbind_2_5.so.3 is not a symbolic link\r\n",
            "\r\n",
            "/sbin/ldconfig.real: /usr/local/lib/libumf.so.0 is not a symbolic link\r\n",
            "\r\n",
            "/sbin/ldconfig.real: /usr/local/lib/libtcm.so.1 is not a symbolic link\r\n",
            "\r\n",
            "/sbin/ldconfig.real: /usr/local/lib/libtcm_debug.so.1 is not a symbolic link\r\n",
            "\r\n",
            "/sbin/ldconfig.real: /usr/local/lib/libtbbmalloc.so.2 is not a symbolic link\r\n",
            "\r\n",
            "/sbin/ldconfig.real: /usr/local/lib/libtbbbind.so.3 is not a symbolic link\r\n",
            "\r\n",
            "/sbin/ldconfig.real: /usr/local/lib/libhwloc.so.15 is not a symbolic link\r\n",
            "\r\n",
            "/sbin/ldconfig.real: /usr/local/lib/libur_adapter_opencl.so.0 is not a symbolic link\r\n",
            "\r\n",
            "/sbin/ldconfig.real: /usr/local/lib/libtbb.so.12 is not a symbolic link\r\n",
            "\r\n",
            "/sbin/ldconfig.real: /usr/local/lib/libtbbmalloc_proxy.so.2 is not a symbolic link\r\n",
            "\r\n",
            "/sbin/ldconfig.real: /usr/local/lib/libur_adapter_level_zero.so.0 is not a symbolic link\r\n",
            "\r\n",
            "Processing triggers for man-db (2.10.2-1) ...\r\n"
          ]
        },
        {
          "output_type": "stream",
          "name": "stderr",
          "text": [
            "W: Skipping acquire of configured file 'main/source/Sources' as repository 'https://r2u.stat.illinois.edu/ubuntu jammy InRelease' does not seem to provide it (sources.list entry misspelt?)\n"
          ]
        }
      ]
    },
    {
      "cell_type": "code",
      "metadata": {
        "colab": {
          "base_uri": "https://localhost:8080/"
        },
        "id": "B1HjgUOWpH1p",
        "outputId": "f9cb1adf-9307-4c21-eac2-8ae0d9abe283"
      },
      "source": [
        "%%bash\n",
        "echo \"GHDL version:\"\n",
        "ghdl --version\n",
        "echo \"\\nIcarus Verilog version:\"\n",
        "iverilog -V\n",
        "echo \"\\nYosys version:\"\n",
        "yosys -V"
      ],
      "execution_count": 2,
      "outputs": [
        {
          "output_type": "stream",
          "name": "stdout",
          "text": [
            "GHDL version:\n",
            "GHDL 1.0.0 (Ubuntu 1.0.0+dfsg-6) [Dunoon edition]\n",
            " Compiled with GNAT Version: 10.3.1 20211117\n",
            " llvm code generator\n",
            "Written by Tristan Gingold.\n",
            "\n",
            "Copyright (C) 2003 - 2021 Tristan Gingold.\n",
            "GHDL is free software, covered by the GNU General Public License.  There is NO\n",
            "warranty; not even for MERCHANTABILITY or FITNESS FOR A PARTICULAR PURPOSE.\n",
            "\\nIcarus Verilog version:\n",
            "Icarus Verilog version 11.0 (stable) ()\n",
            "\n",
            "Copyright 1998-2020 Stephen Williams\n",
            "\n",
            "  This program is free software; you can redistribute it and/or modify\n",
            "  it under the terms of the GNU General Public License as published by\n",
            "  the Free Software Foundation; either version 2 of the License, or\n",
            "  (at your option) any later version.\n",
            "\n",
            "  This program is distributed in the hope that it will be useful,\n",
            "  but WITHOUT ANY WARRANTY; without even the implied warranty of\n",
            "  MERCHANTABILITY or FITNESS FOR A PARTICULAR PURPOSE.  See the\n",
            "  GNU General Public License for more details.\n",
            "\n",
            "  You should have received a copy of the GNU General Public License along\n",
            "  with this program; if not, write to the Free Software Foundation, Inc.,\n",
            "  51 Franklin Street, Fifth Floor, Boston, MA 02110-1301, USA.\n",
            "\n",
            "Icarus Verilog Preprocessor version 11.0 (stable) ()\n",
            "\n",
            "Copyright (c) 1999-2020 Stephen Williams (steve@icarus.com)\n",
            "  This program is free software; you can redistribute it and/or modify\n",
            "  it under the terms of the GNU General Public License as published by\n",
            "  the Free Software Foundation; either version 2 of the License, or\n",
            "  (at your option) any later version.\n",
            "\n",
            "  This program is distributed in the hope that it will be useful,\n",
            "  but WITHOUT ANY WARRANTY; without even the implied warranty of\n",
            "  MERCHANTABILITY or FITNESS FOR A PARTICULAR PURPOSE.  See the\n",
            "  GNU General Public License for more details.\n",
            "\n",
            "  You should have received a copy of the GNU General Public License along\n",
            "  with this program; if not, write to the Free Software Foundation, Inc.,\n",
            "  51 Franklin Street, Fifth Floor, Boston, MA 02110-1301, USA.\n",
            "\n",
            "Icarus Verilog Parser/Elaborator version 11.0 (stable) ()\n",
            "\n",
            "Copyright (c) 1998-2020 Stephen Williams (steve@icarus.com)\n",
            "\n",
            "  This program is free software; you can redistribute it and/or modify\n",
            "  it under the terms of the GNU General Public License as published by\n",
            "  the Free Software Foundation; either version 2 of the License, or\n",
            "  (at your option) any later version.\n",
            "\n",
            "  This program is distributed in the hope that it will be useful,\n",
            "  but WITHOUT ANY WARRANTY; without even the implied warranty of\n",
            "  MERCHANTABILITY or FITNESS FOR A PARTICULAR PURPOSE.  See the\n",
            "  GNU General Public License for more details.\n",
            "\n",
            "  You should have received a copy of the GNU General Public License along\n",
            "  with this program; if not, write to the Free Software Foundation, Inc.,\n",
            "  51 Franklin Street, Fifth Floor, Boston, MA 02110-1301, USA.\n",
            "\n",
            " FLAGS DLL vvp.tgt\n",
            "vvp.tgt: Icarus Verilog VVP Code Generator 11.0 (stable) ()\n",
            "\n",
            "Copyright (c) 2001-2020 Stephen Williams (steve@icarus.com)\n",
            "\n",
            "  This program is free software; you can redistribute it and/or modify\n",
            "  it under the terms of the GNU General Public License as published by\n",
            "  the Free Software Foundation; either version 2 of the License, or\n",
            "  (at your option) any later version.\n",
            "\n",
            "  This program is distributed in the hope that it will be useful,\n",
            "  but WITHOUT ANY WARRANTY; without even the implied warranty of\n",
            "  MERCHANTABILITY or FITNESS FOR A PARTICULAR PURPOSE.  See the\n",
            "  GNU General Public License for more details.\n",
            "\n",
            "  You should have received a copy of the GNU General Public License along\n",
            "  with this program; if not, write to the Free Software Foundation, Inc.,\n",
            "  51 Franklin Street, Fifth Floor, Boston, MA 02110-1301, USA.\n",
            "\n",
            "\\nYosys version:\n",
            "Yosys 0.9 (git sha1 1979e0b)\n"
          ]
        }
      ]
    },
    {
      "cell_type": "markdown",
      "metadata": {
        "id": "QizXL-3ypH1p"
      },
      "source": [
        "We will demonstrate both **Verilog** and **VHDL** in this notebook, showcasing a simple 2-input AND gate and its simulation using the installed tools."
      ]
    },
    {
      "cell_type": "code",
      "metadata": {
        "id": "oUZNutQApH1p"
      },
      "source": [
        "# Write Verilog AND gate and testbench\n",
        "with open('and_gate.v', 'w') as f:\n",
        "    f.write('''\n",
        "// and_gate.v\n",
        "module and_gate(\n",
        "    input a,\n",
        "    input b,\n",
        "    output out\n",
        ");\n",
        "assign out = a & b;\n",
        "endmodule\n",
        "''')\n",
        "\n",
        "with open('and_gate_tb.v', 'w') as f:\n",
        "    f.write('''\n",
        "// and_gate_tb.v\n",
        "`timescale 1ns / 1ps\n",
        "module and_gate_tb;\n",
        "  reg a;\n",
        "  reg b;\n",
        "  wire out;\n",
        "  and_gate uut (\n",
        "    .a(a),\n",
        "    .b(b),\n",
        "    .out(out)\n",
        "  );\n",
        "  initial begin\n",
        "    a = 0; b = 0;\n",
        "    $dumpfile(\"and_gate.vcd\");\n",
        "    $dumpvars(0, and_gate_tb);\n",
        "    #10 a = 0; b = 1;\n",
        "    #10 a = 1; b = 0;\n",
        "    #10 a = 1; b = 1;\n",
        "    #10 a = 0; b = 0;\n",
        "    #10 $finish;\n",
        "  end\n",
        "endmodule\n",
        "''')\n",
        "\n",
        "# Write VHDL AND gate and testbench\n",
        "with open('and_gate.vhd', 'w') as f:\n",
        "    f.write('''\n",
        "-- and_gate.vhd\n",
        "library ieee;\n",
        "use ieee.std_logic_1164.all;\n",
        "entity and_gate is\n",
        "    port (\n",
        "        a : in std_logic;\n",
        "        b : in std_logic;\n",
        "        out_port : out std_logic\n",
        "    );\n",
        "end entity and_gate;\n",
        "architecture behavioral of and_gate is\n",
        "begin\n",
        "    out_port <= a and b;\n",
        "end architecture behavioral;\n",
        "''')\n",
        "\n",
        "with open('and_gate_tb.vhd', 'w') as f:\n",
        "    f.write('''\n",
        "-- and_gate_tb.vhd\n",
        "library ieee;\n",
        "use ieee.std_logic_1164.all;\n",
        "entity and_gate_tb is end entity and_gate_tb;\n",
        "architecture test of and_gate_tb is\n",
        "    component and_gate\n",
        "        port (\n",
        "            a : in std_logic;\n",
        "            b : in std_logic;\n",
        "            out_port : out std_logic\n",
        "        );\n",
        "    end component;\n",
        "    signal a_tb : std_logic := '0';\n",
        "    signal b_tb : std_logic := '0';\n",
        "    signal out_tb : std_logic;\n",
        "begin\n",
        "    uut: and_gate port map(\n",
        "        a => a_tb,\n",
        "        b => b_tb,\n",
        "        out_port => out_tb\n",
        "    );\n",
        "    process\n",
        "    begin\n",
        "        wait for 10 ns;\n",
        "        a_tb <= '0'; b_tb <= '1';\n",
        "        wait for 10 ns;\n",
        "        a_tb <= '1'; b_tb <= '0';\n",
        "        wait for 10 ns;\n",
        "        a_tb <= '1'; b_tb <= '1';\n",
        "        wait for 10 ns;\n",
        "        a_tb <= '0'; b_tb <= '0';\n",
        "        wait;\n",
        "    end process;\n",
        "end architecture test;\n",
        "''')"
      ],
      "execution_count": 3,
      "outputs": []
    },
    {
      "cell_type": "code",
      "metadata": {
        "colab": {
          "base_uri": "https://localhost:8080/"
        },
        "id": "E-OJvizapH1q",
        "outputId": "16ef16b3-cded-4b6e-a33e-e50634871beb"
      },
      "source": [
        "%%bash\n",
        "# Verilog simulation\n",
        "iverilog -o and_gate_vvp and_gate.v and_gate_tb.v\n",
        "vvp and_gate_vvp\n",
        "\n",
        "# VHDL simulation (GHDL)\n",
        "ghdl -a and_gate.vhd\n",
        "ghdl -a and_gate_tb.vhd\n",
        "ghdl -e and_gate_tb\n",
        "# The simulation below creates a .ghw waveform file\n",
        "ghdl -r and_gate_tb --wave=and_gate.ghw"
      ],
      "execution_count": 4,
      "outputs": [
        {
          "output_type": "stream",
          "name": "stdout",
          "text": [
            "VCD info: dumpfile and_gate.vcd opened for output.\n"
          ]
        }
      ]
    },
    {
      "cell_type": "code",
      "metadata": {
        "colab": {
          "base_uri": "https://localhost:8080/"
        },
        "id": "9SBVvluepH1q",
        "outputId": "5051d13b-6970-4475-8510-386520f1f491"
      },
      "source": [
        "%%bash\n",
        "# Verilog already produces and_gate.vcd\n",
        "# GHDL produces and_gate.ghw (can be converted to VCD if needed)\n",
        "# Optional: convert GHDL waveform to VCD for compatibility\n",
        "if [ -f and_gate.ghw ]; then\n",
        "  ghdl --convert-wave=and_gate.ghw --output=and_gate_ghdl.vcd\n",
        "fi\n",
        "ls -lh *.vcd *.ghw 2>/dev/null || echo \"No waveform files generated yet.\""
      ],
      "execution_count": 5,
      "outputs": [
        {
          "output_type": "stream",
          "name": "stdout",
          "text": [
            "-rw-r--r-- 1 root root 414 Jul 20 16:23 and_gate.ghw\n",
            "-rw-r--r-- 1 root root 405 Jul 20 16:23 and_gate.vcd\n"
          ]
        },
        {
          "output_type": "stream",
          "name": "stderr",
          "text": [
            "/usr/bin/ghdl-llvm: unknown command '--convert-wave=and_gate.ghw', try 'help'\n"
          ]
        }
      ]
    },
    {
      "cell_type": "code",
      "metadata": {
        "colab": {
          "base_uri": "https://localhost:8080/",
          "height": 34
        },
        "id": "7Fdt8e8xpH1q",
        "outputId": "0a88372a-9a31-4b6d-bdab-62d649197098"
      },
      "source": [
        "import os\n",
        "import zipfile\n",
        "from google.colab import files\n",
        "\n",
        "# Collect all output and source files\n",
        "all_files = [\n",
        "    'and_gate.v', 'and_gate_tb.v', 'and_gate.vhd', 'and_gate_tb.vhd',\n",
        "    'and_gate.vcd', 'and_gate.ghw', 'and_gate_ghdl.vcd', 'and_gate_vvp'\n",
        "]\n",
        "\n",
        "# Only include files that exist\n",
        "existing_files = [f for f in all_files if os.path.isfile(f)]\n",
        "\n",
        "zip_filename = 'hdl_outputs.zip'\n",
        "with zipfile.ZipFile(zip_filename, 'w') as zipf:\n",
        "    for file in existing_files:\n",
        "        zipf.write(file)\n",
        "\n",
        "files.download(zip_filename)\n",
        "print(f\"✅ Zipped and downloaded {zip_filename}\")"
      ],
      "execution_count": 6,
      "outputs": [
        {
          "output_type": "display_data",
          "data": {
            "text/plain": [
              "<IPython.core.display.Javascript object>"
            ],
            "application/javascript": [
              "\n",
              "    async function download(id, filename, size) {\n",
              "      if (!google.colab.kernel.accessAllowed) {\n",
              "        return;\n",
              "      }\n",
              "      const div = document.createElement('div');\n",
              "      const label = document.createElement('label');\n",
              "      label.textContent = `Downloading \"${filename}\": `;\n",
              "      div.appendChild(label);\n",
              "      const progress = document.createElement('progress');\n",
              "      progress.max = size;\n",
              "      div.appendChild(progress);\n",
              "      document.body.appendChild(div);\n",
              "\n",
              "      const buffers = [];\n",
              "      let downloaded = 0;\n",
              "\n",
              "      const channel = await google.colab.kernel.comms.open(id);\n",
              "      // Send a message to notify the kernel that we're ready.\n",
              "      channel.send({})\n",
              "\n",
              "      for await (const message of channel.messages) {\n",
              "        // Send a message to notify the kernel that we're ready.\n",
              "        channel.send({})\n",
              "        if (message.buffers) {\n",
              "          for (const buffer of message.buffers) {\n",
              "            buffers.push(buffer);\n",
              "            downloaded += buffer.byteLength;\n",
              "            progress.value = downloaded;\n",
              "          }\n",
              "        }\n",
              "      }\n",
              "      const blob = new Blob(buffers, {type: 'application/binary'});\n",
              "      const a = document.createElement('a');\n",
              "      a.href = window.URL.createObjectURL(blob);\n",
              "      a.download = filename;\n",
              "      div.appendChild(a);\n",
              "      a.click();\n",
              "      div.remove();\n",
              "    }\n",
              "  "
            ]
          },
          "metadata": {}
        },
        {
          "output_type": "display_data",
          "data": {
            "text/plain": [
              "<IPython.core.display.Javascript object>"
            ],
            "application/javascript": [
              "download(\"download_ca42a5cc-d8ae-49b8-8d14-e087d0f2b426\", \"hdl_outputs.zip\", 5404)"
            ]
          },
          "metadata": {}
        },
        {
          "output_type": "stream",
          "name": "stdout",
          "text": [
            "✅ Zipped and downloaded hdl_outputs.zip\n"
          ]
        }
      ]
    },
    {
      "cell_type": "markdown",
      "metadata": {
        "id": "Vr6nKeLYpH1q"
      },
      "source": [
        "✅ **All tools are installed and basic HDL simulation completed!**\n",
        "\n",
        "**Tips for GitHub:**\n",
        "- You can upload your HDL source files and waveform outputs to your GitHub repository for version control and sharing.\n",
        "- Use descriptive commit messages and organize your code by language (e.g., place Verilog and VHDL in separate folders).\n",
        "- Include a `README.md` explaining your project, example commands, and how to run simulations.\n",
        "\n",
        "Happy hardware design! 🚀"
      ]
    }
  ]
}