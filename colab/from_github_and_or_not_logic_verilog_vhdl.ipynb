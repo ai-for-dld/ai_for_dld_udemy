{
  "cells": [
    {
      "cell_type": "markdown",
      "metadata": {
        "id": "view-in-github",
        "colab_type": "text"
      },
      "source": [
        "<a href=\"https://colab.research.google.com/github/ai-for-dld/ai_for_dld_udemy/blob/main/colab/from_github_and_or_not_logic_verilog_vhdl.ipynb\" target=\"_parent\"><img src=\"https://colab.research.google.com/assets/colab-badge.svg\" alt=\"Open In Colab\"/></a>"
      ]
    },
    {
      "cell_type": "markdown",
      "metadata": {
        "id": "vr5pUrcCVHqG"
      },
      "source": [
        "# AND, OR, NOT Logic – Verilog and VHDL Simulation"
      ]
    },
    {
      "cell_type": "markdown",
      "metadata": {
        "id": "9vPpGRKwVHqH"
      },
      "source": [
        "## Plan\n",
        "1. **Install tools:** Setup Icarus Verilog, GHDL, and zip utilities in Colab.\n",
        "2. **Create HDL modules:** Write AND, OR, NOT modules in both Verilog and VHDL.\n",
        "3. **Write testbenches:** Create testbenches for each logic gate in both languages.\n",
        "4. **Run simulations:** Compile and simulate using Icarus Verilog and GHDL, generating output waveforms/logs.\n",
        "5. **Bundle results:** Zip all output folders and provide a download link.\n",
        "6. **GTKWave instructions:** Guide on viewing waveforms offline using GTKWave.\n",
        "7. **Conclusion:** Summarize the experiment and next steps."
      ]
    },
    {
      "cell_type": "code",
      "metadata": {
        "colab": {
          "base_uri": "https://localhost:8080/"
        },
        "id": "FAPVPiE9VHqH",
        "outputId": "a5b32c73-298c-48d6-8d07-c97174ecd415"
      },
      "source": [
        "# Install Icarus Verilog and GHDL\n",
        "!apt-get update -qq && apt-get install -y iverilog ghdl zip"
      ],
      "execution_count": 1,
      "outputs": [
        {
          "output_type": "stream",
          "name": "stdout",
          "text": [
            "W: Skipping acquire of configured file 'main/source/Sources' as repository 'https://r2u.stat.illinois.edu/ubuntu jammy InRelease' does not seem to provide it (sources.list entry misspelt?)\n",
            "Reading package lists... Done\n",
            "Building dependency tree... Done\n",
            "Reading state information... Done\n",
            "zip is already the newest version (3.0-12build2).\n",
            "The following additional packages will be installed:\n",
            "  gcc-10-base ghdl-common ghdl-mcode libgnat-10\n",
            "Suggested packages:\n",
            "  gtkwave\n",
            "The following NEW packages will be installed:\n",
            "  gcc-10-base ghdl ghdl-common ghdl-mcode iverilog libgnat-10\n",
            "0 upgraded, 6 newly installed, 0 to remove and 39 not upgraded.\n",
            "Need to get 4,988 kB of archives.\n",
            "After this operation, 18.7 MB of additional disk space will be used.\n",
            "Get:1 http://archive.ubuntu.com/ubuntu jammy-updates/universe amd64 gcc-10-base amd64 10.5.0-1ubuntu1~22.04 [21.5 kB]\n",
            "Get:2 http://archive.ubuntu.com/ubuntu jammy/universe amd64 ghdl-common amd64 1.0.0+dfsg-6 [154 kB]\n",
            "Get:3 http://archive.ubuntu.com/ubuntu jammy-updates/universe amd64 libgnat-10 amd64 10.5.0-1ubuntu1~22.04 [1,220 kB]\n",
            "Get:4 http://archive.ubuntu.com/ubuntu jammy/universe amd64 ghdl-mcode amd64 1.0.0+dfsg-6 [1,462 kB]\n",
            "Get:5 http://archive.ubuntu.com/ubuntu jammy/universe amd64 ghdl amd64 1.0.0+dfsg-6 [1,532 B]\n",
            "Get:6 http://archive.ubuntu.com/ubuntu jammy/universe amd64 iverilog amd64 11.0-1.1 [2,130 kB]\n",
            "Fetched 4,988 kB in 1s (6,285 kB/s)\n",
            "Selecting previously unselected package gcc-10-base:amd64.\n",
            "(Reading database ... 126284 files and directories currently installed.)\n",
            "Preparing to unpack .../0-gcc-10-base_10.5.0-1ubuntu1~22.04_amd64.deb ...\n",
            "Unpacking gcc-10-base:amd64 (10.5.0-1ubuntu1~22.04) ...\n",
            "Selecting previously unselected package ghdl-common.\n",
            "Preparing to unpack .../1-ghdl-common_1.0.0+dfsg-6_amd64.deb ...\n",
            "Unpacking ghdl-common (1.0.0+dfsg-6) ...\n",
            "Selecting previously unselected package libgnat-10:amd64.\n",
            "Preparing to unpack .../2-libgnat-10_10.5.0-1ubuntu1~22.04_amd64.deb ...\n",
            "Unpacking libgnat-10:amd64 (10.5.0-1ubuntu1~22.04) ...\n",
            "Selecting previously unselected package ghdl-mcode.\n",
            "Preparing to unpack .../3-ghdl-mcode_1.0.0+dfsg-6_amd64.deb ...\n",
            "Unpacking ghdl-mcode (1.0.0+dfsg-6) ...\n",
            "Selecting previously unselected package ghdl.\n",
            "Preparing to unpack .../4-ghdl_1.0.0+dfsg-6_amd64.deb ...\n",
            "Unpacking ghdl (1.0.0+dfsg-6) ...\n",
            "Selecting previously unselected package iverilog.\n",
            "Preparing to unpack .../5-iverilog_11.0-1.1_amd64.deb ...\n",
            "Unpacking iverilog (11.0-1.1) ...\n",
            "Setting up ghdl-common (1.0.0+dfsg-6) ...\n",
            "Setting up iverilog (11.0-1.1) ...\n",
            "Setting up gcc-10-base:amd64 (10.5.0-1ubuntu1~22.04) ...\n",
            "Setting up libgnat-10:amd64 (10.5.0-1ubuntu1~22.04) ...\n",
            "Setting up ghdl-mcode (1.0.0+dfsg-6) ...\n",
            "Setting up ghdl (1.0.0+dfsg-6) ...\n",
            "Processing triggers for man-db (2.10.2-1) ...\n",
            "Processing triggers for libc-bin (2.35-0ubuntu3.8) ...\n",
            "/sbin/ldconfig.real: /usr/local/lib/libhwloc.so.15 is not a symbolic link\n",
            "\n",
            "/sbin/ldconfig.real: /usr/local/lib/libtbb.so.12 is not a symbolic link\n",
            "\n",
            "/sbin/ldconfig.real: /usr/local/lib/libtbbbind_2_0.so.3 is not a symbolic link\n",
            "\n",
            "/sbin/ldconfig.real: /usr/local/lib/libtbbbind.so.3 is not a symbolic link\n",
            "\n",
            "/sbin/ldconfig.real: /usr/local/lib/libumf.so.0 is not a symbolic link\n",
            "\n",
            "/sbin/ldconfig.real: /usr/local/lib/libtcm.so.1 is not a symbolic link\n",
            "\n",
            "/sbin/ldconfig.real: /usr/local/lib/libtbbmalloc.so.2 is not a symbolic link\n",
            "\n",
            "/sbin/ldconfig.real: /usr/local/lib/libur_adapter_opencl.so.0 is not a symbolic link\n",
            "\n",
            "/sbin/ldconfig.real: /usr/local/lib/libur_loader.so.0 is not a symbolic link\n",
            "\n",
            "/sbin/ldconfig.real: /usr/local/lib/libtbbmalloc_proxy.so.2 is not a symbolic link\n",
            "\n",
            "/sbin/ldconfig.real: /usr/local/lib/libtcm_debug.so.1 is not a symbolic link\n",
            "\n",
            "/sbin/ldconfig.real: /usr/local/lib/libtbbbind_2_5.so.3 is not a symbolic link\n",
            "\n",
            "/sbin/ldconfig.real: /usr/local/lib/libur_adapter_level_zero.so.0 is not a symbolic link\n",
            "\n",
            "/sbin/ldconfig.real: /usr/local/lib/libur_adapter_level_zero_v2.so.0 is not a symbolic link\n",
            "\n"
          ]
        }
      ]
    },
    {
      "cell_type": "code",
      "metadata": {
        "colab": {
          "base_uri": "https://localhost:8080/"
        },
        "id": "RtjVUUiuVHqI",
        "outputId": "66d2666f-9f3c-401e-aff5-7a89ce97af52"
      },
      "source": [
        "%%writefile and_or_not.v\n",
        "// Verilog module for AND, OR, NOT gates\n",
        "module and_gate(input a, input b, output y);\n",
        "  assign y = a & b;\n",
        "endmodule\n",
        "\n",
        "module or_gate(input a, input b, output y);\n",
        "  assign y = a | b;\n",
        "endmodule\n",
        "\n",
        "module not_gate(input a, output y);\n",
        "  assign y = ~a;\n",
        "endmodule"
      ],
      "execution_count": 2,
      "outputs": [
        {
          "output_type": "stream",
          "name": "stdout",
          "text": [
            "Writing and_or_not.v\n"
          ]
        }
      ]
    },
    {
      "cell_type": "code",
      "metadata": {
        "colab": {
          "base_uri": "https://localhost:8080/"
        },
        "id": "jYbXkF6pVHqI",
        "outputId": "3392e4c1-b5b9-48ca-90a9-6467547aea08"
      },
      "source": [
        "%%writefile and_or_not_tb.v\n",
        "// Verilog testbench for AND, OR, NOT gates\n",
        "module testbench;\n",
        "  reg a, b;\n",
        "  wire y_and, y_or, y_not;\n",
        "\n",
        "  and_gate u_and(.a(a), .b(b), .y(y_and));\n",
        "  or_gate u_or(.a(a), .b(b), .y(y_or));\n",
        "  not_gate u_not(.a(a), .y(y_not));\n",
        "\n",
        "  initial begin\n",
        "    $dumpfile(\"verilog_out.vcd\");\n",
        "    $dumpvars(0, testbench);\n",
        "    a=0; b=0; #5;\n",
        "    a=0; b=1; #5;\n",
        "    a=1; b=0; #5;\n",
        "    a=1; b=1; #5;\n",
        "    $finish;\n",
        "  end\n",
        "endmodule"
      ],
      "execution_count": 3,
      "outputs": [
        {
          "output_type": "stream",
          "name": "stdout",
          "text": [
            "Writing and_or_not_tb.v\n"
          ]
        }
      ]
    },
    {
      "cell_type": "code",
      "metadata": {
        "colab": {
          "base_uri": "https://localhost:8080/"
        },
        "id": "MHjBac-mVHqI",
        "outputId": "1a42f55e-f45f-4e70-8127-5b5987e033cb"
      },
      "source": [
        "%%writefile and_or_not.vhd\n",
        "-- and_gate.vhd\n",
        "library IEEE;\n",
        "use IEEE.STD_LOGIC_1164.ALL;\n",
        "\n",
        "entity and_gate is\n",
        "  Port ( a : in STD_LOGIC;\n",
        "         b : in STD_LOGIC;\n",
        "         y : out STD_LOGIC);\n",
        "end and_gate;\n",
        "\n",
        "architecture Behavioral of and_gate is\n",
        "begin\n",
        "  y <= a and b;\n",
        "end Behavioral;\n",
        "\n",
        "-- or_gate.vhd\n",
        "library IEEE;\n",
        "use IEEE.STD_LOGIC_1164.ALL;\n",
        "\n",
        "entity or_gate is\n",
        "  Port ( a : in STD_LOGIC;\n",
        "         b : in STD_LOGIC;\n",
        "         y : out STD_LOGIC);\n",
        "end or_gate;\n",
        "\n",
        "architecture Behavioral of or_gate is\n",
        "begin\n",
        "  y <= a or b;\n",
        "end Behavioral;\n",
        "\n",
        "-- not_gate.vhd\n",
        "library IEEE;\n",
        "use IEEE.STD_LOGIC_1164.ALL;\n",
        "\n",
        "entity not_gate is\n",
        "  Port ( a : in STD_LOGIC;\n",
        "         y : out STD_LOGIC);\n",
        "end not_gate;\n",
        "\n",
        "architecture Behavioral of not_gate is\n",
        "begin\n",
        "  y <= not a;\n",
        "end Behavioral;"
      ],
      "execution_count": 20,
      "outputs": [
        {
          "output_type": "stream",
          "name": "stdout",
          "text": [
            "Overwriting and_or_not.vhd\n"
          ]
        }
      ]
    },
    {
      "cell_type": "code",
      "metadata": {
        "colab": {
          "base_uri": "https://localhost:8080/"
        },
        "id": "X_Dg1SQaVHqI",
        "outputId": "e8d1f89c-a786-4653-b9ed-aa0389c0a403"
      },
      "source": [
        "%%writefile and_or_not_tb.vhd\n",
        "-- VHDL testbench for AND, OR, NOT gates\n",
        "library IEEE;\n",
        "use IEEE.STD_LOGIC_1164.ALL;\n",
        "\n",
        "entity testbench is\n",
        "end testbench;\n",
        "\n",
        "architecture Behavioral of testbench is\n",
        "    signal a, b : STD_LOGIC := '0';\n",
        "    signal y_and, y_or, y_not : STD_LOGIC;\n",
        "\n",
        "    component and_gate\n",
        "        Port ( a : in STD_LOGIC;\n",
        "               b : in STD_LOGIC;\n",
        "               y : out STD_LOGIC);\n",
        "    end component;\n",
        "\n",
        "    component or_gate\n",
        "        Port ( a : in STD_LOGIC;\n",
        "               b : in STD_LOGIC;\n",
        "               y : out STD_LOGIC);\n",
        "    end component;\n",
        "\n",
        "    component not_gate\n",
        "        Port ( a : in STD_LOGIC;\n",
        "               y : out STD_LOGIC);\n",
        "    end component;\n",
        "\n",
        "begin\n",
        "    u_and: and_gate port map(a => a, b => b, y => y_and);\n",
        "    u_or: or_gate port map(a => a, b => b, y => y_or);\n",
        "    u_not: not_gate port map(a => a, y => y_not);\n",
        "\n",
        "    stim_proc: process\n",
        "    begin\n",
        "        a <= '0'; b <= '0'; wait for 5 ns;\n",
        "        a <= '0'; b <= '1'; wait for 5 ns;\n",
        "        a <= '1'; b <= '0'; wait for 5 ns;\n",
        "        a <= '1'; b <= '1'; wait for 5 ns;\n",
        "        wait;\n",
        "    end process;\n",
        "end Behavioral;"
      ],
      "execution_count": 21,
      "outputs": [
        {
          "output_type": "stream",
          "name": "stdout",
          "text": [
            "Overwriting and_or_not_tb.vhd\n"
          ]
        }
      ]
    },
    {
      "cell_type": "code",
      "metadata": {
        "colab": {
          "base_uri": "https://localhost:8080/"
        },
        "id": "vroJy3ayVHqJ",
        "outputId": "dd01beb5-8283-45f5-d09c-a25fe0702b0a"
      },
      "source": [
        "%%bash\n",
        "# Create output folders\n",
        "mkdir -p verilog_out vhdl_out\n",
        "\n",
        "# Verilog simulation\n",
        "iverilog -o verilog_out/and_or_not_sim and_or_not.v and_or_not_tb.v && \\\n",
        "vvp verilog_out/and_or_not_sim\n",
        "\n",
        "# Move VCD file\n",
        "mv verilog_out.vcd verilog_out/\n",
        "\n",
        "# VHDL simulation\n",
        "ghdl -a and_or_not.vhd && \\\n",
        "ghdl -a and_or_not_tb.vhd && \\\n",
        "ghdl -e testbench && \\\n",
        "ghdl -r testbench --vcd=vhdl_out/vhdl_out.vcd"
      ],
      "execution_count": 22,
      "outputs": [
        {
          "output_type": "stream",
          "name": "stdout",
          "text": [
            "VCD info: dumpfile verilog_out.vcd opened for output.\n"
          ]
        }
      ]
    },
    {
      "cell_type": "code",
      "metadata": {
        "colab": {
          "base_uri": "https://localhost:8080/",
          "height": 17
        },
        "id": "77eETN4xVHqJ",
        "outputId": "42489a29-c658-4c72-f310-a28c7a2bd503"
      },
      "source": [
        "import shutil\n",
        "shutil.make_archive('hdl_outputs', 'zip', '.', 'verilog_out')\n",
        "shutil.make_archive('hdl_outputs', 'zip', '.', 'vhdl_out')\n",
        "\n",
        "from google.colab import files\n",
        "files.download('hdl_outputs.zip')"
      ],
      "execution_count": 23,
      "outputs": [
        {
          "output_type": "display_data",
          "data": {
            "text/plain": [
              "<IPython.core.display.Javascript object>"
            ],
            "application/javascript": [
              "\n",
              "    async function download(id, filename, size) {\n",
              "      if (!google.colab.kernel.accessAllowed) {\n",
              "        return;\n",
              "      }\n",
              "      const div = document.createElement('div');\n",
              "      const label = document.createElement('label');\n",
              "      label.textContent = `Downloading \"${filename}\": `;\n",
              "      div.appendChild(label);\n",
              "      const progress = document.createElement('progress');\n",
              "      progress.max = size;\n",
              "      div.appendChild(progress);\n",
              "      document.body.appendChild(div);\n",
              "\n",
              "      const buffers = [];\n",
              "      let downloaded = 0;\n",
              "\n",
              "      const channel = await google.colab.kernel.comms.open(id);\n",
              "      // Send a message to notify the kernel that we're ready.\n",
              "      channel.send({})\n",
              "\n",
              "      for await (const message of channel.messages) {\n",
              "        // Send a message to notify the kernel that we're ready.\n",
              "        channel.send({})\n",
              "        if (message.buffers) {\n",
              "          for (const buffer of message.buffers) {\n",
              "            buffers.push(buffer);\n",
              "            downloaded += buffer.byteLength;\n",
              "            progress.value = downloaded;\n",
              "          }\n",
              "        }\n",
              "      }\n",
              "      const blob = new Blob(buffers, {type: 'application/binary'});\n",
              "      const a = document.createElement('a');\n",
              "      a.href = window.URL.createObjectURL(blob);\n",
              "      a.download = filename;\n",
              "      div.appendChild(a);\n",
              "      a.click();\n",
              "      div.remove();\n",
              "    }\n",
              "  "
            ]
          },
          "metadata": {}
        },
        {
          "output_type": "display_data",
          "data": {
            "text/plain": [
              "<IPython.core.display.Javascript object>"
            ],
            "application/javascript": [
              "download(\"download_370249d9-b73f-42f9-a856-a15df5f7a5cd\", \"hdl_outputs.zip\", 520)"
            ]
          },
          "metadata": {}
        }
      ]
    },
    {
      "cell_type": "markdown",
      "metadata": {
        "id": "pmR-5-l-VHqJ"
      },
      "source": [
        "## Viewing Waveforms in GTKWave\n",
        "\n",
        "To view the waveform files (`verilog_out.vcd`, `vhdl_out.vcd`) offline:\n",
        "1. Download and install [GTKWave](http://gtkwave.sourceforge.net/).\n",
        "2. Download the `hdl_outputs.zip` file from above and extract it.\n",
        "3. Open `verilog_out.vcd` or `vhdl_out.vcd` in GTKWave.\n",
        "4. Inspect signal transitions and logic gate operations."
      ]
    },
    {
      "cell_type": "markdown",
      "metadata": {
        "id": "0CQTvK_hVHqJ"
      },
      "source": [
        "## Conclusion\n",
        "\n",
        "In this notebook, you implemented AND, OR, and NOT gates in both Verilog and VHDL, created testbenches, and ran simulations to observe their behavior. You generated waveform files for further analysis in GTKWave. This process helps to verify and compare HDL implementations and simulation results across different hardware description languages."
      ]
    }
  ],
  "metadata": {
    "kernelspec": {
      "name": "python3",
      "display_name": "Python 3"
    },
    "language_info": {
      "name": "python"
    },
    "colab": {
      "provenance": [],
      "include_colab_link": true
    }
  },
  "nbformat": 4,
  "nbformat_minor": 0
}