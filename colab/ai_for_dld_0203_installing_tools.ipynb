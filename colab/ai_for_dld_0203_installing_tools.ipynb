{
  "nbformat": 4,
  "nbformat_minor": 0,
  "metadata": {
    "colab": {
      "provenance": [],
      "authorship_tag": "ABX9TyN06GI1fd7bnLWPzaNzU6sP",
      "include_colab_link": true
    },
    "kernelspec": {
      "name": "python3",
      "display_name": "Python 3"
    },
    "language_info": {
      "name": "python"
    }
  },
  "cells": [
    {
      "cell_type": "markdown",
      "metadata": {
        "id": "view-in-github",
        "colab_type": "text"
      },
      "source": [
        "<a href=\"https://colab.research.google.com/github/ai-for-dld/ai_for_dld_udemy/blob/main/colab/ai_for_dld_0203_installing_tools.ipynb\" target=\"_parent\"><img src=\"https://colab.research.google.com/assets/colab-badge.svg\" alt=\"Open In Colab\"/></a>"
      ]
    },
    {
      "cell_type": "code",
      "execution_count": null,
      "metadata": {
        "id": "5hso8s0wlp4p"
      },
      "outputs": [],
      "source": []
    },
    {
      "cell_type": "markdown",
      "metadata": {
        "id": "95888a7f"
      },
      "source": [
        "## HDL Simulation and Synthesis Environment in Google Colab\n",
        "\n",
        "This document outlines the setup and use of essential open-source tools for Hardware Description Language (HDL) simulation and synthesis within Google Colab.\n",
        "\n",
        "### Tools Overview\n",
        "\n",
        "1.  **GHDL (Gnu HDL)**\n",
        "    *   **What it does:** GHDL is a VHDL simulator that can execute VHDL code directly. It compiles VHDL code into native machine code, which makes simulations fast.\n",
        "    *   **Why it's used:** It's primarily used to verify the functional correctness of VHDL designs before they are implemented in hardware. By simulating the VHDL code with testbenches, designers can check if the circuit behaves as expected under various input conditions.\n",
        "\n",
        "2.  **Icarus Verilog (iverilog)**\n",
        "    *   **What it does:** Icarus Verilog is a Verilog simulation and synthesis tool. It compiles Verilog code into an intermediate format that can then be simulated or used for synthesis.\n",
        "    *   **Why it's used:** Similar to GHDL, it's used for functional verification of Verilog designs through simulation. It's also a front-end for synthesis tools like Yosys.\n",
        "\n",
        "3.  **Yosys**\n",
        "    *   **What it does:** Yosys is a framework for Verilog RTL synthesis. It takes Verilog code and synthesizes it into a gate-level netlist, which is a description of the circuit in terms of basic logic gates.\n",
        "    *   **Why it's used:** Synthesis is a crucial step in the digital design flow. It translates the behavioral or structural description of a circuit in HDL into a physical implementation using standard logic gates. This gate-level netlist is then used for place and route, which physically lays out the circuit on an FPGA or ASIC.\n",
        "\n",
        "### Using these Tools in a Colab Notebook\n",
        "\n",
        "You can use these tools within a Colab notebook by utilizing the shell commands. Colab provides a Linux environment where you can install and run command-line tools. You'll use the `!` prefix in code cells to execute shell commands.\n",
        "\n",
        "For example:\n",
        "*   `!ghdl -v` to check the GHDL version.\n",
        "*   `!iverilog -V` to check the Icarus Verilog version.\n",
        "*   `!yosys -V` to check the Yosys version.\n",
        "*   You can compile and run simulations using commands like `!ghdl -a design.vhd`, `!ghdl -e design`, `!ghdl -r design`, or `!iverilog design.v`.\n",
        "*   You can run synthesis using commands like `!yosys -p \"read_verilog design.v; synth; write_verilog synthesized.v\"`\n",
        "\n",
        "### Installation Steps Outline\n",
        "\n",
        "The installation process will involve using the package manager available in the Colab environment (typically `apt`). The sequence of steps will be:\n",
        "\n",
        "1.  Update the package list to ensure you get the latest versions of the tools.\n",
        "2.  Install GHDL using `apt`.\n",
        "3.  Install Icarus Verilog using `apt`.\n",
        "4.  Install Yosys using `apt`.\n",
        "5.  Verify the installation of each tool by checking their versions.\n",
        "\n",
        "### Common Errors and Troubleshooting in Colab\n",
        "\n",
        "*   **Package not found:** This can happen if the package list is not updated or if the package name is incorrect. Ensure you run `apt update` before installing and double-check the package names.\n",
        "*   **Permissions errors:** Sometimes, you might encounter permission issues. Using `sudo` with the installation commands (`sudo apt install ...`) usually resolves this in Colab's environment.\n",
        "*   **Tool not in PATH:** After installation, the tools should be automatically added to the system's PATH, allowing you to run them directly. If not, you might need to explicitly add the installation directory to the PATH, although this is less common with `apt` installations in Colab.\n",
        "*   **Resource limits:** Colab has resource limits. For very large or complex simulations/syntheses, you might run into memory or CPU limits. For such cases, you might need to consider a paid Colab plan or a dedicated local setup."
      ]
    },
    {
      "cell_type": "code",
      "metadata": {
        "colab": {
          "base_uri": "https://localhost:8080/"
        },
        "id": "8b4cceb4",
        "outputId": "bb326c57-b18c-4299-e5ff-a69380ba5b37"
      },
      "source": [
        "%%bash\n",
        "\n",
        "# Update the package list\n",
        "apt-get update -y\n",
        "\n",
        "# Install dependencies (if any specific dependencies are needed for the tools, add them here)\n",
        "# For GHDL with LLVM backend, ensure LLVM is available. apt usually handles this.\n",
        "# apt-get install -y build-essential\n",
        "\n",
        "# Install GHDL (Gnu HDL) with LLVM backend\n",
        "# The package name for GHDL with LLVM backend is often ghdl-llvm\n",
        "apt-get install -y ghdl-llvm\n",
        "\n",
        "# Install Icarus Verilog (iverilog)\n",
        "apt-get install -y iverilog\n",
        "\n",
        "# Install Yosys\n",
        "apt-get install -y yosys\n",
        "\n",
        "# Verify installation of each tool by checking their versions\n",
        "echo \"Verifying installations:\"\n",
        "echo \"GHDL version:\"\n",
        "ghdl --version\n",
        "echo \"Icarus Verilog version:\"\n",
        "iverilog -V\n",
        "echo \"Yosys version:\"\n",
        "yosys -V\n",
        "\n",
        "# Add a final success message\n",
        "echo \"✅ All tools installed\""
      ],
      "execution_count": 1,
      "outputs": [
        {
          "output_type": "stream",
          "name": "stdout",
          "text": [
            "Get:1 http://security.ubuntu.com/ubuntu jammy-security InRelease [129 kB]\n",
            "Get:2 https://cloud.r-project.org/bin/linux/ubuntu jammy-cran40/ InRelease [3,632 B]\n",
            "Get:3 https://developer.download.nvidia.com/compute/cuda/repos/ubuntu2204/x86_64  InRelease [1,581 B]\n",
            "Hit:4 http://archive.ubuntu.com/ubuntu jammy InRelease\n",
            "Get:5 https://r2u.stat.illinois.edu/ubuntu jammy InRelease [6,555 B]\n",
            "Get:6 http://archive.ubuntu.com/ubuntu jammy-updates InRelease [128 kB]\n",
            "Hit:7 https://ppa.launchpadcontent.net/deadsnakes/ppa/ubuntu jammy InRelease\n",
            "Get:8 http://security.ubuntu.com/ubuntu jammy-security/main amd64 Packages [3,148 kB]\n",
            "Hit:9 https://ppa.launchpadcontent.net/graphics-drivers/ppa/ubuntu jammy InRelease\n",
            "Hit:10 https://ppa.launchpadcontent.net/ubuntugis/ppa/ubuntu jammy InRelease\n",
            "Get:11 http://archive.ubuntu.com/ubuntu jammy-backports InRelease [127 kB]\n",
            "Get:12 http://security.ubuntu.com/ubuntu jammy-security/restricted amd64 Packages [4,932 kB]\n",
            "Get:13 http://security.ubuntu.com/ubuntu jammy-security/universe amd64 Packages [1,267 kB]\n",
            "Get:14 https://developer.download.nvidia.com/compute/cuda/repos/ubuntu2204/x86_64  Packages [1,840 kB]\n",
            "Get:15 https://r2u.stat.illinois.edu/ubuntu jammy/main all Packages [9,126 kB]\n",
            "Get:16 https://r2u.stat.illinois.edu/ubuntu jammy/main amd64 Packages [2,762 kB]\n",
            "Get:17 http://archive.ubuntu.com/ubuntu jammy-updates/universe amd64 Packages [1,572 kB]\n",
            "Get:18 http://archive.ubuntu.com/ubuntu jammy-updates/main amd64 Packages [3,461 kB]\n",
            "Get:19 http://archive.ubuntu.com/ubuntu jammy-updates/restricted amd64 Packages [5,139 kB]\n",
            "Fetched 33.6 MB in 6s (5,492 kB/s)\n",
            "Reading package lists...\n",
            "Reading package lists...\n",
            "Building dependency tree...\n",
            "Reading state information...\n",
            "The following additional packages will be installed:\n",
            "  gcc-10-base ghdl-common libgnat-10 libllvm13\n",
            "The following NEW packages will be installed:\n",
            "  gcc-10-base ghdl-common ghdl-llvm libgnat-10 libllvm13\n",
            "0 upgraded, 5 newly installed, 0 to remove and 36 not upgraded.\n",
            "Need to get 25.9 MB of archives.\n",
            "After this operation, 120 MB of additional disk space will be used.\n",
            "Get:1 http://archive.ubuntu.com/ubuntu jammy-updates/universe amd64 gcc-10-base amd64 10.5.0-1ubuntu1~22.04 [21.5 kB]\n",
            "Get:2 http://archive.ubuntu.com/ubuntu jammy/universe amd64 ghdl-common amd64 1.0.0+dfsg-6 [154 kB]\n",
            "Get:3 http://archive.ubuntu.com/ubuntu jammy-updates/universe amd64 libgnat-10 amd64 10.5.0-1ubuntu1~22.04 [1,220 kB]\n",
            "Get:4 http://archive.ubuntu.com/ubuntu jammy-updates/main amd64 libllvm13 amd64 1:13.0.1-2ubuntu2.2 [22.2 MB]\n",
            "Get:5 http://archive.ubuntu.com/ubuntu jammy/universe amd64 ghdl-llvm amd64 1.0.0+dfsg-6 [2,253 kB]\n",
            "Fetched 25.9 MB in 0s (55.2 MB/s)\n",
            "Selecting previously unselected package gcc-10-base:amd64.\r\n",
            "(Reading database ... \r(Reading database ... 5%\r(Reading database ... 10%\r(Reading database ... 15%\r(Reading database ... 20%\r(Reading database ... 25%\r(Reading database ... 30%\r(Reading database ... 35%\r(Reading database ... 40%\r(Reading database ... 45%\r(Reading database ... 50%\r(Reading database ... 55%\r(Reading database ... 60%\r(Reading database ... 65%\r(Reading database ... 70%\r(Reading database ... 75%\r(Reading database ... 80%\r(Reading database ... 85%\r(Reading database ... 90%\r(Reading database ... 95%\r(Reading database ... 100%\r(Reading database ... 126281 files and directories currently installed.)\r\n",
            "Preparing to unpack .../gcc-10-base_10.5.0-1ubuntu1~22.04_amd64.deb ...\r\n",
            "Unpacking gcc-10-base:amd64 (10.5.0-1ubuntu1~22.04) ...\r\n",
            "Selecting previously unselected package ghdl-common.\r\n",
            "Preparing to unpack .../ghdl-common_1.0.0+dfsg-6_amd64.deb ...\r\n",
            "Unpacking ghdl-common (1.0.0+dfsg-6) ...\r\n",
            "Selecting previously unselected package libgnat-10:amd64.\r\n",
            "Preparing to unpack .../libgnat-10_10.5.0-1ubuntu1~22.04_amd64.deb ...\r\n",
            "Unpacking libgnat-10:amd64 (10.5.0-1ubuntu1~22.04) ...\r\n",
            "Selecting previously unselected package libllvm13:amd64.\r\n",
            "Preparing to unpack .../libllvm13_1%3a13.0.1-2ubuntu2.2_amd64.deb ...\r\n",
            "Unpacking libllvm13:amd64 (1:13.0.1-2ubuntu2.2) ...\r\n",
            "Selecting previously unselected package ghdl-llvm.\r\n",
            "Preparing to unpack .../ghdl-llvm_1.0.0+dfsg-6_amd64.deb ...\r\n",
            "Unpacking ghdl-llvm (1.0.0+dfsg-6) ...\r\n",
            "Setting up ghdl-common (1.0.0+dfsg-6) ...\r\n",
            "Setting up gcc-10-base:amd64 (10.5.0-1ubuntu1~22.04) ...\r\n",
            "Setting up libllvm13:amd64 (1:13.0.1-2ubuntu2.2) ...\r\n",
            "Setting up libgnat-10:amd64 (10.5.0-1ubuntu1~22.04) ...\r\n",
            "Setting up ghdl-llvm (1.0.0+dfsg-6) ...\r\n",
            "Processing triggers for libc-bin (2.35-0ubuntu3.8) ...\r\n",
            "/sbin/ldconfig.real: /usr/local/lib/libur_adapter_level_zero_v2.so.0 is not a symbolic link\r\n",
            "\r\n",
            "/sbin/ldconfig.real: /usr/local/lib/libtbbbind_2_0.so.3 is not a symbolic link\r\n",
            "\r\n",
            "/sbin/ldconfig.real: /usr/local/lib/libur_loader.so.0 is not a symbolic link\r\n",
            "\r\n",
            "/sbin/ldconfig.real: /usr/local/lib/libtbbbind_2_5.so.3 is not a symbolic link\r\n",
            "\r\n",
            "/sbin/ldconfig.real: /usr/local/lib/libumf.so.0 is not a symbolic link\r\n",
            "\r\n",
            "/sbin/ldconfig.real: /usr/local/lib/libtcm.so.1 is not a symbolic link\r\n",
            "\r\n",
            "/sbin/ldconfig.real: /usr/local/lib/libtcm_debug.so.1 is not a symbolic link\r\n",
            "\r\n",
            "/sbin/ldconfig.real: /usr/local/lib/libtbbmalloc.so.2 is not a symbolic link\r\n",
            "\r\n",
            "/sbin/ldconfig.real: /usr/local/lib/libtbbbind.so.3 is not a symbolic link\r\n",
            "\r\n",
            "/sbin/ldconfig.real: /usr/local/lib/libhwloc.so.15 is not a symbolic link\r\n",
            "\r\n",
            "/sbin/ldconfig.real: /usr/local/lib/libur_adapter_opencl.so.0 is not a symbolic link\r\n",
            "\r\n",
            "/sbin/ldconfig.real: /usr/local/lib/libtbb.so.12 is not a symbolic link\r\n",
            "\r\n",
            "/sbin/ldconfig.real: /usr/local/lib/libtbbmalloc_proxy.so.2 is not a symbolic link\r\n",
            "\r\n",
            "/sbin/ldconfig.real: /usr/local/lib/libur_adapter_level_zero.so.0 is not a symbolic link\r\n",
            "\r\n",
            "Processing triggers for man-db (2.10.2-1) ...\r\n",
            "Reading package lists...\n",
            "Building dependency tree...\n",
            "Reading state information...\n",
            "Suggested packages:\n",
            "  gtkwave\n",
            "The following NEW packages will be installed:\n",
            "  iverilog\n",
            "0 upgraded, 1 newly installed, 0 to remove and 36 not upgraded.\n",
            "Need to get 2,130 kB of archives.\n",
            "After this operation, 6,749 kB of additional disk space will be used.\n",
            "Get:1 http://archive.ubuntu.com/ubuntu jammy/universe amd64 iverilog amd64 11.0-1.1 [2,130 kB]\n",
            "Fetched 2,130 kB in 1s (2,778 kB/s)\n",
            "Selecting previously unselected package iverilog.\r\n",
            "(Reading database ... \r(Reading database ... 5%\r(Reading database ... 10%\r(Reading database ... 15%\r(Reading database ... 20%\r(Reading database ... 25%\r(Reading database ... 30%\r(Reading database ... 35%\r(Reading database ... 40%\r(Reading database ... 45%\r(Reading database ... 50%\r(Reading database ... 55%\r(Reading database ... 60%\r(Reading database ... 65%\r(Reading database ... 70%\r(Reading database ... 75%\r(Reading database ... 80%\r(Reading database ... 85%\r(Reading database ... 90%\r(Reading database ... 95%\r(Reading database ... 100%\r(Reading database ... 126482 files and directories currently installed.)\r\n",
            "Preparing to unpack .../iverilog_11.0-1.1_amd64.deb ...\r\n",
            "Unpacking iverilog (11.0-1.1) ...\r\n",
            "Setting up iverilog (11.0-1.1) ...\r\n",
            "Processing triggers for man-db (2.10.2-1) ...\r\n",
            "Reading package lists...\n",
            "Building dependency tree...\n",
            "Reading state information...\n",
            "The following additional packages will be installed:\n",
            "  berkeley-abc gir1.2-atk-1.0 gir1.2-gtk-3.0 python3-cairo python3-gi-cairo\n",
            "  python3-numpy xdot\n",
            "Suggested packages:\n",
            "  python-numpy-doc python3-pytest\n",
            "The following NEW packages will be installed:\n",
            "  berkeley-abc gir1.2-atk-1.0 gir1.2-gtk-3.0 python3-cairo python3-gi-cairo\n",
            "  python3-numpy xdot yosys\n",
            "0 upgraded, 8 newly installed, 0 to remove and 36 not upgraded.\n",
            "Need to get 10.6 MB of archives.\n",
            "After this operation, 39.7 MB of additional disk space will be used.\n",
            "Get:1 http://archive.ubuntu.com/ubuntu jammy/universe amd64 berkeley-abc amd64 1.01+20211229git48498af+dfsg-2 [4,271 kB]\n",
            "Get:2 http://archive.ubuntu.com/ubuntu jammy/main amd64 gir1.2-atk-1.0 amd64 2.36.0-3build1 [21.0 kB]\n",
            "Get:3 http://archive.ubuntu.com/ubuntu jammy-updates/main amd64 gir1.2-gtk-3.0 amd64 3.24.33-1ubuntu2.2 [240 kB]\n",
            "Get:4 http://archive.ubuntu.com/ubuntu jammy/main amd64 python3-cairo amd64 1.20.1-3build1 [73.7 kB]\n",
            "Get:5 http://archive.ubuntu.com/ubuntu jammy-updates/main amd64 python3-gi-cairo amd64 3.42.1-0ubuntu1 [8,184 B]\n",
            "Get:6 http://archive.ubuntu.com/ubuntu jammy-updates/main amd64 python3-numpy amd64 1:1.21.5-1ubuntu22.04.1 [3,467 kB]\n",
            "Get:7 http://archive.ubuntu.com/ubuntu jammy/universe amd64 xdot all 1.2-2 [28.1 kB]\n",
            "Get:8 http://archive.ubuntu.com/ubuntu jammy/universe amd64 yosys amd64 0.9-2 [2,449 kB]\n",
            "Fetched 10.6 MB in 0s (41.9 MB/s)\n",
            "Selecting previously unselected package berkeley-abc.\r\n",
            "(Reading database ... \r(Reading database ... 5%\r(Reading database ... 10%\r(Reading database ... 15%\r(Reading database ... 20%\r(Reading database ... 25%\r(Reading database ... 30%\r(Reading database ... 35%\r(Reading database ... 40%\r(Reading database ... 45%\r(Reading database ... 50%\r(Reading database ... 55%\r(Reading database ... 60%\r(Reading database ... 65%\r(Reading database ... 70%\r(Reading database ... 75%\r(Reading database ... 80%\r(Reading database ... 85%\r(Reading database ... 90%\r(Reading database ... 95%\r(Reading database ... 100%\r(Reading database ... 126571 files and directories currently installed.)\r\n",
            "Preparing to unpack .../0-berkeley-abc_1.01+20211229git48498af+dfsg-2_amd64.deb ...\r\n",
            "Unpacking berkeley-abc (1.01+20211229git48498af+dfsg-2) ...\r\n",
            "Selecting previously unselected package gir1.2-atk-1.0:amd64.\r\n",
            "Preparing to unpack .../1-gir1.2-atk-1.0_2.36.0-3build1_amd64.deb ...\r\n",
            "Unpacking gir1.2-atk-1.0:amd64 (2.36.0-3build1) ...\r\n",
            "Selecting previously unselected package gir1.2-gtk-3.0:amd64.\r\n",
            "Preparing to unpack .../2-gir1.2-gtk-3.0_3.24.33-1ubuntu2.2_amd64.deb ...\r\n",
            "Unpacking gir1.2-gtk-3.0:amd64 (3.24.33-1ubuntu2.2) ...\r\n",
            "Selecting previously unselected package python3-cairo:amd64.\r\n",
            "Preparing to unpack .../3-python3-cairo_1.20.1-3build1_amd64.deb ...\r\n",
            "Unpacking python3-cairo:amd64 (1.20.1-3build1) ...\r\n",
            "Selecting previously unselected package python3-gi-cairo.\r\n",
            "Preparing to unpack .../4-python3-gi-cairo_3.42.1-0ubuntu1_amd64.deb ...\r\n",
            "Unpacking python3-gi-cairo (3.42.1-0ubuntu1) ...\r\n",
            "Selecting previously unselected package python3-numpy.\r\n",
            "Preparing to unpack .../5-python3-numpy_1%3a1.21.5-1ubuntu22.04.1_amd64.deb ...\r\n",
            "Unpacking python3-numpy (1:1.21.5-1ubuntu22.04.1) ...\r\n",
            "Selecting previously unselected package xdot.\r\n",
            "Preparing to unpack .../6-xdot_1.2-2_all.deb ...\r\n",
            "Unpacking xdot (1.2-2) ...\r\n",
            "Selecting previously unselected package yosys.\r\n",
            "Preparing to unpack .../7-yosys_0.9-2_amd64.deb ...\r\n",
            "Unpacking yosys (0.9-2) ...\r\n",
            "Setting up python3-cairo:amd64 (1.20.1-3build1) ...\r\n",
            "Setting up gir1.2-atk-1.0:amd64 (2.36.0-3build1) ...\r\n",
            "Setting up gir1.2-gtk-3.0:amd64 (3.24.33-1ubuntu2.2) ...\r\n",
            "Setting up berkeley-abc (1.01+20211229git48498af+dfsg-2) ...\r\n",
            "Setting up python3-numpy (1:1.21.5-1ubuntu22.04.1) ...\r\n",
            "Setting up python3-gi-cairo (3.42.1-0ubuntu1) ...\r\n",
            "Setting up xdot (1.2-2) ...\r\n",
            "Setting up yosys (0.9-2) ...\r\n",
            "Processing triggers for mailcap (3.70+nmu1ubuntu1) ...\r\n",
            "Processing triggers for man-db (2.10.2-1) ...\r\n",
            "Verifying installations:\n",
            "GHDL version:\n",
            "GHDL 1.0.0 (Ubuntu 1.0.0+dfsg-6) [Dunoon edition]\n",
            " Compiled with GNAT Version: 10.3.1 20211117\n",
            " llvm code generator\n",
            "Written by Tristan Gingold.\n",
            "\n",
            "Copyright (C) 2003 - 2021 Tristan Gingold.\n",
            "GHDL is free software, covered by the GNU General Public License.  There is NO\n",
            "warranty; not even for MERCHANTABILITY or FITNESS FOR A PARTICULAR PURPOSE.\n",
            "Icarus Verilog version:\n",
            "Icarus Verilog version 11.0 (stable) ()\n",
            "\n",
            "Copyright 1998-2020 Stephen Williams\n",
            "\n",
            "  This program is free software; you can redistribute it and/or modify\n",
            "  it under the terms of the GNU General Public License as published by\n",
            "  the Free Software Foundation; either version 2 of the License, or\n",
            "  (at your option) any later version.\n",
            "\n",
            "  This program is distributed in the hope that it will be useful,\n",
            "  but WITHOUT ANY WARRANTY; without even the implied warranty of\n",
            "  MERCHANTABILITY or FITNESS FOR A PARTICULAR PURPOSE.  See the\n",
            "  GNU General Public License for more details.\n",
            "\n",
            "  You should have received a copy of the GNU General Public License along\n",
            "  with this program; if not, write to the Free Software Foundation, Inc.,\n",
            "  51 Franklin Street, Fifth Floor, Boston, MA 02110-1301, USA.\n",
            "\n",
            "Icarus Verilog Preprocessor version 11.0 (stable) ()\n",
            "\n",
            "Copyright (c) 1999-2020 Stephen Williams (steve@icarus.com)\n",
            "  This program is free software; you can redistribute it and/or modify\n",
            "  it under the terms of the GNU General Public License as published by\n",
            "  the Free Software Foundation; either version 2 of the License, or\n",
            "  (at your option) any later version.\n",
            "\n",
            "  This program is distributed in the hope that it will be useful,\n",
            "  but WITHOUT ANY WARRANTY; without even the implied warranty of\n",
            "  MERCHANTABILITY or FITNESS FOR A PARTICULAR PURPOSE.  See the\n",
            "  GNU General Public License for more details.\n",
            "\n",
            "  You should have received a copy of the GNU General Public License along\n",
            "  with this program; if not, write to the Free Software Foundation, Inc.,\n",
            "  51 Franklin Street, Fifth Floor, Boston, MA 02110-1301, USA.\n",
            "\n",
            "Icarus Verilog Parser/Elaborator version 11.0 (stable) ()\n",
            "\n",
            "Copyright (c) 1998-2020 Stephen Williams (steve@icarus.com)\n",
            "\n",
            "  This program is free software; you can redistribute it and/or modify\n",
            "  it under the terms of the GNU General Public License as published by\n",
            "  the Free Software Foundation; either version 2 of the License, or\n",
            "  (at your option) any later version.\n",
            "\n",
            "  This program is distributed in the hope that it will be useful,\n",
            "  but WITHOUT ANY WARRANTY; without even the implied warranty of\n",
            "  MERCHANTABILITY or FITNESS FOR A PARTICULAR PURPOSE.  See the\n",
            "  GNU General Public License for more details.\n",
            "\n",
            "  You should have received a copy of the GNU General Public License along\n",
            "  with this program; if not, write to the Free Software Foundation, Inc.,\n",
            "  51 Franklin Street, Fifth Floor, Boston, MA 02110-1301, USA.\n",
            "\n",
            " FLAGS DLL vvp.tgt\n",
            "vvp.tgt: Icarus Verilog VVP Code Generator 11.0 (stable) ()\n",
            "\n",
            "Copyright (c) 2001-2020 Stephen Williams (steve@icarus.com)\n",
            "\n",
            "  This program is free software; you can redistribute it and/or modify\n",
            "  it under the terms of the GNU General Public License as published by\n",
            "  the Free Software Foundation; either version 2 of the License, or\n",
            "  (at your option) any later version.\n",
            "\n",
            "  This program is distributed in the hope that it will be useful,\n",
            "  but WITHOUT ANY WARRANTY; without even the implied warranty of\n",
            "  MERCHANTABILITY or FITNESS FOR A PARTICULAR PURPOSE.  See the\n",
            "  GNU General Public License for more details.\n",
            "\n",
            "  You should have received a copy of the GNU General Public License along\n",
            "  with this program; if not, write to the Free Software Foundation, Inc.,\n",
            "  51 Franklin Street, Fifth Floor, Boston, MA 02110-1301, USA.\n",
            "\n",
            "Yosys version:\n",
            "Yosys 0.9 (git sha1 1979e0b)\n",
            "✅ All tools installed\n"
          ]
        },
        {
          "output_type": "stream",
          "name": "stderr",
          "text": [
            "W: Skipping acquire of configured file 'main/source/Sources' as repository 'https://r2u.stat.illinois.edu/ubuntu jammy InRelease' does not seem to provide it (sources.list entry misspelt?)\n"
          ]
        }
      ]
    },
    {
      "cell_type": "markdown",
      "metadata": {
        "id": "129425b1"
      },
      "source": [
        "Here are the instructions on how to proceed after running the installation script:\n",
        "\n",
        "**How to verify each tool is installed:**\n",
        "\n",
        "After running the bash script above, the script itself includes commands to check the versions of the installed tools. Look for the output lines that start with:\n",
        "\n",
        "*   `GHDL version:`\n",
        "*   `Icarus Verilog version:`\n",
        "*   `Yosys version:`\n",
        "\n",
        "These lines will show the version numbers of the installed tools, confirming their successful installation. You can also run these commands in separate code cells prefixed with `!` if you want to check them individually:"
      ]
    },
    {
      "cell_type": "markdown",
      "metadata": {
        "id": "5a1a6035"
      },
      "source": [
        "## Testing GHDL, Icarus Verilog, and Yosys\n",
        "\n",
        "Now that the tools are installed, let's test them with a simple AND gate example in both Verilog and VHDL.\n",
        "\n",
        "### AND Gate Explained\n",
        "\n",
        "An AND gate is a fundamental digital logic gate that implements logical conjunction. The output of an AND gate is true (or 1) only when all of its inputs are true (or 1).\n",
        "\n",
        "**Truth Table for a 2-input AND Gate:**\n",
        "\n",
        "| Input A | Input B | Output |\n",
        "|---------|---------|--------|\n",
        "| 0       | 0       | 0      |\n",
        "| 0       | 1       | 0      |\n",
        "| 1       | 0       | 0      |\n",
        "| 1       | 1       | 1      |"
      ]
    },
    {
      "cell_type": "markdown",
      "metadata": {
        "id": "546a9525"
      },
      "source": [
        "### Verilog Example: AND Gate\n",
        "\n",
        "Let's start with the Verilog implementation of a 2-input AND gate and its testbench."
      ]
    },
    {
      "cell_type": "code",
      "metadata": {
        "colab": {
          "base_uri": "https://localhost:8080/"
        },
        "id": "04cbabde",
        "outputId": "cab4f56e-d1cd-4c8c-b0a2-f10c01438242"
      },
      "source": [
        "%%writefile and_gate.v\n",
        "// and_gate.v\n",
        "module and_gate(\n",
        "    input a,\n",
        "    input b,\n",
        "    output out\n",
        ");\n",
        "\n",
        "assign out = a & b;\n",
        "\n",
        "endmodule"
      ],
      "execution_count": 3,
      "outputs": [
        {
          "output_type": "stream",
          "name": "stdout",
          "text": [
            "Writing and_gate.v\n"
          ]
        }
      ]
    },
    {
      "cell_type": "code",
      "metadata": {
        "colab": {
          "base_uri": "https://localhost:8080/"
        },
        "id": "0ba1db5b",
        "outputId": "9a6a3b41-1f8c-4608-e7b6-673d9c20b824"
      },
      "source": [
        "%%writefile and_gate_tb.v\n",
        "// and_gate_tb.v\n",
        "`timescale 1ns / 1ps\n",
        "\n",
        "module and_gate_tb;\n",
        "\n",
        "  // Inputs\n",
        "  reg a;\n",
        "  reg b;\n",
        "\n",
        "  // Output\n",
        "  wire out;\n",
        "\n",
        "  // Instantiate the Unit Under Test (UUT)\n",
        "  and_gate uut (\n",
        "    .a(a),\n",
        "    .b(b),\n",
        "    .out(out)\n",
        "  );\n",
        "\n",
        "  // Stimulus\n",
        "  initial begin\n",
        "    // Initialize Inputs\n",
        "    a = 0;\n",
        "    b = 0;\n",
        "\n",
        "    // Dump waveforms\n",
        "    $dumpfile(\"and_gate.vcd\");\n",
        "    $dumpvars(0, and_gate_tb);\n",
        "\n",
        "    // Apply Stimulus\n",
        "    #10 a = 0; b = 1;\n",
        "    #10 a = 1; b = 0;\n",
        "    #10 a = 1; b = 1;\n",
        "    #10 a = 0; b = 0; // Back to initial state\n",
        "\n",
        "    #10 $finish; // End simulation\n",
        "  end\n",
        "\n",
        "endmodule"
      ],
      "execution_count": 4,
      "outputs": [
        {
          "output_type": "stream",
          "name": "stdout",
          "text": [
            "Writing and_gate_tb.v\n"
          ]
        }
      ]
    },
    {
      "cell_type": "markdown",
      "metadata": {
        "id": "dbe223b4"
      },
      "source": [
        "### Simulating Verilog with Icarus Verilog\n",
        "\n",
        "Now, we will use `iverilog` to compile and simulate the Verilog AND gate and testbench."
      ]
    },
    {
      "cell_type": "code",
      "metadata": {
        "colab": {
          "base_uri": "https://localhost:8080/"
        },
        "id": "fb2bbd9e",
        "outputId": "c123ee20-b8dc-4d7d-faa1-01cf353fe8b8"
      },
      "source": [
        "%%bash\n",
        "# Compile the Verilog code\n",
        "iverilog and_gate.v and_gate_tb.v\n",
        "\n",
        "# Run the simulation\n",
        "# The output will be a VCD file named \"and_gate.vcd\"\n",
        "./a.out"
      ],
      "execution_count": 5,
      "outputs": [
        {
          "output_type": "stream",
          "name": "stdout",
          "text": [
            "VCD info: dumpfile and_gate.vcd opened for output.\n"
          ]
        }
      ]
    },
    {
      "cell_type": "markdown",
      "metadata": {
        "id": "ff8df52c"
      },
      "source": [
        "### VHDL Example: AND Gate\n",
        "\n",
        "Next, let's look at the VHDL implementation of a 2-input AND gate and its testbench."
      ]
    },
    {
      "cell_type": "code",
      "metadata": {
        "colab": {
          "base_uri": "https://localhost:8080/"
        },
        "id": "f4b8a6e1",
        "outputId": "f3e5e214-dc20-4b27-d64f-8027e54107d4"
      },
      "source": [
        "%%writefile and_gate.vhd\n",
        "-- and_gate.vhd\n",
        "library ieee;\n",
        "use ieee.std_logic_1164.all;\n",
        "\n",
        "entity and_gate is\n",
        "    port (\n",
        "        a : in std_logic;\n",
        "        b : in std_logic;\n",
        "        out_port : out std_logic\n",
        "    );\n",
        "end entity and_gate;\n",
        "\n",
        "architecture behavioral of and_gate is\n",
        "begin\n",
        "    out_port <= a and b;\n",
        "end architecture behavioral;"
      ],
      "execution_count": 7,
      "outputs": [
        {
          "output_type": "stream",
          "name": "stdout",
          "text": [
            "Writing and_gate.vhd\n"
          ]
        }
      ]
    },
    {
      "cell_type": "code",
      "metadata": {
        "colab": {
          "base_uri": "https://localhost:8080/"
        },
        "id": "8e8ea9d3",
        "outputId": "4f922c75-0579-453f-d190-4bbe3d9f2950"
      },
      "source": [
        "%%writefile and_gate_tb.vhd\n",
        "-- and_gate_tb.vhd\n",
        "library ieee;\n",
        "use ieee.std_logic_1164.all;\n",
        "\n",
        "entity and_gate_tb is\n",
        "end entity and_gate_tb;\n",
        "\n",
        "architecture test of and_gate_tb is\n",
        "    -- Component declaration for the Unit Under Test (UUT)\n",
        "    component and_gate\n",
        "        port (\n",
        "            a : in std_logic;\n",
        "            b : in std_logic;\n",
        "            out_port : out std_logic\n",
        "        );\n",
        "    end component and_gate;\n",
        "\n",
        "    -- Signals for testbench\n",
        "    signal a_tb : std_logic := '0';\n",
        "    signal b_tb : std_logic := '0';\n",
        "    signal out_tb : std_logic;\n",
        "\n",
        "begin\n",
        "    -- Instantiate the Unit Under Test (UUT)\n",
        "    uut_and_gate : and_gate\n",
        "        port map (\n",
        "            a => a_tb,\n",
        "            b => b_tb,\n",
        "            out_port => out_tb\n",
        "        );\n",
        "\n",
        "    -- Stimulus process\n",
        "    stimulus : process\n",
        "    begin\n",
        "        -- Dump waveforms to a VCD file\n",
        "        -- GHDL requires a specific approach for VCD dumping.\n",
        "        -- This is often done by adding a specific procedure call.\n",
        "        -- However, for simplicity and standard GHDL usage,\n",
        "        -- we'll focus on functional simulation output to console first.\n",
        "        -- For VCD generation with GHDL, you might need additional libraries\n",
        "        -- or use command-line options during simulation.\n",
        "        -- As a placeholder, let's focus on changing inputs and observing outputs.\n",
        "\n",
        "        wait for 10 ns;\n",
        "        a_tb <= '0'; b_tb <= '1';\n",
        "\n",
        "        wait for 10 ns;\n",
        "        a_tb <= '1'; b_tb <= '0';\n",
        "\n",
        "        wait for 10 ns;\n",
        "        a_tb <= '1'; b_tb <= '1';\n",
        "\n",
        "        wait for 10 ns;\n",
        "        a_tb <= '0'; b_tb <= '0'; -- Back to initial state\n",
        "\n",
        "        wait; -- End simulation\n",
        "    end process stimulus;\n",
        "\n",
        "    -- Optional: Add a process to display outputs (for basic verification without waveform)\n",
        "    -- display_output : process(out_tb)\n",
        "    -- begin\n",
        "    --     report \"Time: \" & integer(now/1 ns)'image & \" ns, Output: \" & std_logic'image(out_tb);\n",
        "    -- end process display_output;\n",
        "\n",
        "end architecture test;"
      ],
      "execution_count": 8,
      "outputs": [
        {
          "output_type": "stream",
          "name": "stdout",
          "text": [
            "Writing and_gate_tb.vhd\n"
          ]
        }
      ]
    },
    {
      "cell_type": "markdown",
      "metadata": {
        "id": "041d509c"
      },
      "source": [
        "### Simulating VHDL with GHDL\n",
        "\n",
        "Here's how to compile and simulate the VHDL AND gate and testbench using GHDL.\n",
        "\n",
        "**Note on VCD generation with GHDL:** Generating VCD files directly from a VHDL testbench for viewing in GTKWave can be more involved than with Icarus Verilog and often requires specific libraries or compilation flags depending on the GHDL version and setup. The standard way to get output is through `report` statements to the console during simulation.\n",
        "\n",
        "For this example, we'll focus on the standard compile, elaborate, and run flow with GHDL. To generate VCD for GTKWave with GHDL, you typically need to compile with the `--wave=output.ghw` or similar flag, or use specific VHPIDIRECT configurations with libraries like `vunit`. Using `--wave=output.ghw` is the simplest approach for basic cases."
      ]
    },
    {
      "cell_type": "code",
      "metadata": {
        "id": "927ebdd9"
      },
      "source": [
        "%%bash\n",
        "# Analyze (compile) the VHDL files\n",
        "ghdl -a and_gate.vhd\n",
        "ghdl -a and_gate_tb.vhd\n",
        "\n",
        "# Elaborate (link) the testbench\n",
        "ghdl -e and_gate_tb\n",
        "\n",
        "# Run the simulation and generate a waveform file (.ghw)\n",
        "# We use the --wave flag to generate a GHW waveform file\n",
        "ghdl -r and_gate_tb --wave=and_gate.ghw\n",
        "\n",
        "# You can convert .ghw to .vcd using ghdl with --convert-wave=output.vcd command if needed for compatibility\n",
        "# ghdl --convert-wave=and_gate.ghw --output=and_gate_ghdl.vcd"
      ],
      "execution_count": 9,
      "outputs": []
    },
    {
      "cell_type": "markdown",
      "metadata": {
        "id": "75303155"
      },
      "source": [
        "### Viewing Waveforms with GTKWave (Offline)\n",
        "\n",
        "GTKWave is a popular open-source waveform viewer. Since you can't typically run a GUI application like GTKWave directly within the standard Colab environment, the common workflow is to download the generated `.vcd` (or `.ghw` converted to `.vcd`) files and view them using a local installation of GTKWave on your own machine.\n",
        "\n",
        "1.  **Download GTKWave:** If you don't have it, download and install GTKWave for your operating system from the official website or your system's package manager.\n",
        "2.  **Download Waveform File from Colab:** After running the simulation cells above, locate the generated `and_gate.vcd` (from Icarus Verilog) and/or `and_gate.ghw` (from GHDL, or converted `and_gate_ghdl.vcd`) files in the Colab file browser (the folder icon on the left sidebar). Right-click on the file(s) and select \"Download\".\n",
        "3.  **Open in GTKWave:** Open the downloaded `.vcd` or `.ghw` file with your local GTKWave installation.\n",
        "\n",
        "If you were working in an environment where you could run GUI applications (like a local machine setup), the command to open the VCD file would typically be:"
      ]
    },
    {
      "cell_type": "code",
      "metadata": {
        "colab": {
          "base_uri": "https://localhost:8080/",
          "height": 34
        },
        "id": "831fd87b",
        "outputId": "987eed27-222a-4017-8ed5-a445b5e8d475"
      },
      "source": [
        "import os\n",
        "import zipfile\n",
        "from google.colab import files\n",
        "\n",
        "# List of files to include in the zip\n",
        "output_files = ['and_gate.vcd', 'and_gate.ghw'] # Add more if you generate others\n",
        "\n",
        "# Create a zip file\n",
        "zip_filename = 'hdl_output_files.zip'\n",
        "with zipfile.ZipFile(zip_filename, 'w') as zipf:\n",
        "    for file in output_files:\n",
        "        if os.path.exists(file):\n",
        "            zipf.write(file)\n",
        "        else:\n",
        "            print(f\"Warning: File not found and will not be included in zip: {file}\")\n",
        "\n",
        "# Download the zip file\n",
        "files.download(zip_filename)\n",
        "\n",
        "print(f\"✅ Zipped and downloaded {zip_filename}\")"
      ],
      "execution_count": 10,
      "outputs": [
        {
          "output_type": "display_data",
          "data": {
            "text/plain": [
              "<IPython.core.display.Javascript object>"
            ],
            "application/javascript": [
              "\n",
              "    async function download(id, filename, size) {\n",
              "      if (!google.colab.kernel.accessAllowed) {\n",
              "        return;\n",
              "      }\n",
              "      const div = document.createElement('div');\n",
              "      const label = document.createElement('label');\n",
              "      label.textContent = `Downloading \"${filename}\": `;\n",
              "      div.appendChild(label);\n",
              "      const progress = document.createElement('progress');\n",
              "      progress.max = size;\n",
              "      div.appendChild(progress);\n",
              "      document.body.appendChild(div);\n",
              "\n",
              "      const buffers = [];\n",
              "      let downloaded = 0;\n",
              "\n",
              "      const channel = await google.colab.kernel.comms.open(id);\n",
              "      // Send a message to notify the kernel that we're ready.\n",
              "      channel.send({})\n",
              "\n",
              "      for await (const message of channel.messages) {\n",
              "        // Send a message to notify the kernel that we're ready.\n",
              "        channel.send({})\n",
              "        if (message.buffers) {\n",
              "          for (const buffer of message.buffers) {\n",
              "            buffers.push(buffer);\n",
              "            downloaded += buffer.byteLength;\n",
              "            progress.value = downloaded;\n",
              "          }\n",
              "        }\n",
              "      }\n",
              "      const blob = new Blob(buffers, {type: 'application/binary'});\n",
              "      const a = document.createElement('a');\n",
              "      a.href = window.URL.createObjectURL(blob);\n",
              "      a.download = filename;\n",
              "      div.appendChild(a);\n",
              "      a.click();\n",
              "      div.remove();\n",
              "    }\n",
              "  "
            ]
          },
          "metadata": {}
        },
        {
          "output_type": "display_data",
          "data": {
            "text/plain": [
              "<IPython.core.display.Javascript object>"
            ],
            "application/javascript": [
              "download(\"download_8b715c2e-895e-49ac-b460-06a3af40091e\", \"hdl_output_files.zip\", 1057)"
            ]
          },
          "metadata": {}
        },
        {
          "output_type": "stream",
          "name": "stdout",
          "text": [
            "✅ Zipped and downloaded hdl_output_files.zip\n"
          ]
        }
      ]
    }
  ]
}