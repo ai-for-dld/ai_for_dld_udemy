{
  "cells": [
    {
      "cell_type": "markdown",
      "metadata": {
        "id": "view-in-github",
        "colab_type": "text"
      },
      "source": [
        "<a href=\"https://colab.research.google.com/github/ai-for-dld/ai_for_dld_udemy/blob/main/colab/ai_for_dld_0304_truthtable_to_code.ipynb\" target=\"_parent\"><img src=\"https://colab.research.google.com/assets/colab-badge.svg\" alt=\"Open In Colab\"/></a>"
      ]
    },
    {
      "cell_type": "markdown",
      "id": "90764f5e",
      "metadata": {
        "id": "90764f5e"
      },
      "source": [
        "# From Truth Table to Working HDL Prompt"
      ]
    },
    {
      "cell_type": "markdown",
      "id": "9cae2f91",
      "metadata": {
        "id": "9cae2f91"
      },
      "source": [
        "<details open>\n",
        "<summary><strong>🎯 Introduction</strong></summary>\n",
        "\n",
        "In Digital Logic Design, a **truth table** is one of the most fundamental tools used to describe how a circuit should behave. It lists all possible combinations of input values and their corresponding outputs. When working with AI to generate HDL code, truth tables become powerful inputs that can be used to define exact logic behavior without needing to write Boolean expressions or flow diagrams manually.\n",
        "\n",
        "In this lecture, our goal is to help you use **AI tools like Gemini** to convert a given truth table into working HDL code — either in Verilog or VHDL — through effective prompt engineering.\n",
        "\n",
        "👨‍🏫 **What you will learn:**\n",
        "- How to describe logic circuits to AI using truth tables\n",
        "- How to write prompts that result in valid HDL code\n",
        "- How to simulate and validate the output\n",
        "\n",
        "🔄 **Real-World Application:** Whether you're designing simple gates like AND/OR or more complex components like half adders and multiplexers, the ability to convert truth tables to AI-driven HDL code will save time, reduce syntax errors, and help you understand core logic design patterns.\n",
        "\n",
        "</details>"
      ]
    },
    {
      "cell_type": "markdown",
      "id": "3e62dc1a",
      "metadata": {
        "id": "3e62dc1a"
      },
      "source": [
        "<details open>\n",
        "<summary><strong>🛠 Tool of the Day</strong></summary>\n",
        "\n",
        "In this lecture, we will rely on:\n",
        "- **Google Colab**: To run all your AI-generated code and simulations in the cloud\n",
        "- **Gemini (via Colab)**: For writing prompts to generate HDL\n",
        "- **Icarus Verilog / GHDL**: To simulate Verilog or VHDL circuits\n",
        "- **GTKWave**: To view waveforms (used optionally based on output)\n",
        "- **%%writefile + %%bash**: To save and run your files in Colab\n",
        "\n",
        "These tools help maintain a portable, install-free, and professional learning workflow aligned with industry practice.\n",
        "\n",
        "</details>"
      ]
    },
    {
      "cell_type": "markdown",
      "id": "a70a50a3",
      "metadata": {
        "id": "a70a50a3"
      },
      "source": [
        "<details open>\n",
        "<summary><strong>🧠 Core Concept</strong></summary>\n",
        "\n",
        "To go from a **truth table** to **working HDL code**, follow these steps:\n",
        "\n",
        "1. **Define the problem** using a truth table.\n",
        "2. **Write a prompt** that clearly describes:\n",
        "   - Inputs and outputs\n",
        "   - The complete truth table\n",
        "   - Target HDL language (Verilog or VHDL)\n",
        "3. **Use Gemini in Colab** to generate the HDL code.\n",
        "4. **Simulate** the code using Icarus Verilog or GHDL.\n",
        "5. **Verify** the output through waveform or testbench printout.\n",
        "6. **Debug or iterate** using error messages or logic mismatches.\n",
        "\n",
        "👨‍🎓 This lecture will show you how to write these prompts and simulate the results without needing to manually write the HDL code.\n",
        "\n",
        "Here is **Part 2** of **Lecture 0304: From Truth Table to Working HDL Prompt** – Gemini Prompt Generation Section.\n",
        "\n",
        "</details>"
      ]
    },
    {
      "cell_type": "markdown",
      "id": "d09619ad",
      "metadata": {
        "id": "d09619ad"
      },
      "source": [
        "<details open>\n",
        "<summary><strong>📘 5A. Concept Explanation Prompt</strong></summary>\n",
        "\n",
        "Before converting a truth table into HDL, learners must understand how AI interprets structured logic patterns from tabular input.\n",
        "\n",
        "👨‍🏫 Instructor’s Note:  \n",
        "The prompt must clearly explain:\n",
        "- What a truth table is\n",
        "- How it relates to combinational logic\n",
        "- The goal: convert table → HDL\n",
        "- How input/output mapping defines logic\n",
        "\n",
        "💬 Try this in Gemini:\n",
        "\n",
        "</details>"
      ]
    },
    {
      "cell_type": "code",
      "execution_count": null,
      "id": "f2071a5e",
      "metadata": {
        "id": "f2071a5e"
      },
      "outputs": [],
      "source": [
        "I am a beginner learning Digital Logic Design.\n",
        "\n",
        "Please explain how a truth table is used to represent logic functions.\n",
        "\n",
        "Then, explain how an AI tool like Gemini can convert a given truth table into HDL code (Verilog or VHDL) using a text prompt.\n",
        "\n",
        "Include:\n",
        "\n",
        "* What to specify in the prompt (inputs, outputs, truth table rows)\n",
        "* What mistakes to avoid\n",
        "* Why a structured prompt helps AI generate better code\n",
        "\n",
        "Use a beginner-friendly tone.\n",
        "\n",
        "Output format:\n",
        "Give explanation as if it a standalone chapter in a book about Digital Logic design using Verilog and VHDL.\n",
        "Use suitable title, headings and subheadings."
      ]
    },
    {
      "cell_type": "markdown",
      "id": "e3c6665e",
      "metadata": {
        "id": "e3c6665e"
      },
      "source": [
        "<details open>\n",
        "<summary><strong>⚙️ 5B. Tool Setup Prompt</strong></summary>\n",
        "\n",
        "👨‍🏫 Instructor’s Note:  \n",
        "To simulate the HDL generated from AI, install the necessary tools in Colab.\n",
        "\n",
        "💬 Try this in Gemini:\n",
        "\n",
        "</details>"
      ]
    },
    {
      "cell_type": "code",
      "execution_count": null,
      "id": "27d6294d",
      "metadata": {
        "id": "27d6294d"
      },
      "outputs": [],
      "source": [
        "I want to simulate HDL generated from a truth table.\n",
        "\n",
        "Please give me a bash script for Google Colab to install:\n",
        "\n",
        "* Icarus Verilog (for Verilog simulation)\n",
        "* GHDL (for VHDL simulation)\n",
        "\n",
        "Make sure the script:\n",
        "\n",
        "* Updates apt\n",
        "* Uses silent install flags\n",
        "* Prints tool versions to verify\n",
        "* Includes success message\n",
        "\n",
        "Wrap the script using %%bash for Colab execution.\n",
        "\n",
        "Output format:\n",
        "Give explanation as if it a standalone chapter in a book about Digital Logic design using Verilog and VHDL.\n",
        "Use suitable title, headings and subheadings."
      ]
    },
    {
      "cell_type": "markdown",
      "id": "30ec3221",
      "metadata": {
        "id": "30ec3221"
      },
      "source": [
        "<details open>\n",
        "<summary><strong>🧮 5C. Code Generation Prompt</strong></summary>\n",
        "\n",
        "👨‍🏫 Instructor’s Note:  \n",
        "Ask Gemini to convert a given truth table into Verilog or VHDL code.\n",
        "\n",
        "Be clear about:\n",
        "- Input and output signals\n",
        "- Number of rows in the truth table\n",
        "- Target HDL language\n",
        "- Request HDL code only — no simulation or testbench yet\n",
        "\n",
        "💬 Try this in Gemini:\n",
        "\n",
        "</details>"
      ]
    },
    {
      "cell_type": "code",
      "execution_count": null,
      "id": "cde4bc82",
      "metadata": {
        "id": "cde4bc82"
      },
      "outputs": [],
      "source": [
        "I want to generate Verilog code from the following truth table.\n",
        "\n",
        "Inputs: A, B\n",
        "Output: Y (Y = A XOR B)\n",
        "\n",
        "Truth Table:\n",
        "A | B || Y\n",
        "0 | 0 || 0\n",
        "0 | 1 || 1\n",
        "1 | 0 || 1\n",
        "1 | 1 || 0\n",
        "\n",
        "Please convert this truth table into a Verilog module using `%%writefile xor_gate.v`.\n",
        "\n",
        "Add brief comments explaining each logic line.\n",
        "Do not include testbench or simulation.\n",
        "Just the Verilog module based on this table.\n",
        "\n",
        "Output format:\n",
        "Give explanation as if it a standalone chapter in a book about Digital Logic design using Verilog and VHDL.\n",
        "Use suitable title, headings and subheadings."
      ]
    },
    {
      "cell_type": "markdown",
      "id": "9009eaa6",
      "metadata": {
        "id": "9009eaa6"
      },
      "source": [
        "<details open>\n",
        "<summary><strong>🧪 5D. Simulation Prompt</strong></summary>\n",
        "\n",
        "👨‍🏫 Instructor’s Note:  \n",
        "Use Icarus Verilog or GHDL to compile and simulate the HDL.\n",
        "\n",
        "💬 Try this in Gemini:\n",
        "\n",
        "</details>"
      ]
    },
    {
      "cell_type": "code",
      "execution_count": null,
      "id": "af032ca5",
      "metadata": {
        "id": "af032ca5"
      },
      "outputs": [],
      "source": [
        "I have a Verilog file named `xor_gate.v` based on a truth table.\n",
        "\n",
        "Please give me a testbench in Verilog that tests all 4 combinations of A and B, and prints the output Y.\n",
        "\n",
        "Wrap the testbench in `%%writefile xor_gate_tb.v`.\n",
        "\n",
        "Then, give a Colab-compatible `%%bash` script to:\n",
        "\n",
        "* Compile the design and testbench using iverilog\n",
        "* Run the simulation\n",
        "* Show the outputs in the Colab cell\n",
        "\n",
        "Output format:\n",
        "Give explanation as if it a standalone chapter in a book about Digital Logic design using Verilog and VHDL.\n",
        "Use suitable title, headings and subheadings."
      ]
    },
    {
      "cell_type": "markdown",
      "id": "b3229236",
      "metadata": {
        "id": "b3229236"
      },
      "source": [
        "<details open>\n",
        "<summary><strong>🛠 5E. Fix & Iterate with AI Prompt</strong></summary>\n",
        "\n",
        "👨‍🏫 Instructor’s Note:  \n",
        "If your code produces unexpected outputs or errors, instruct AI to analyze and suggest changes.\n",
        "\n",
        "💬 Try this in Gemini:\n",
        "\n",
        "</details>"
      ]
    },
    {
      "cell_type": "code",
      "execution_count": null,
      "id": "961c1a0b",
      "metadata": {
        "id": "961c1a0b"
      },
      "outputs": [],
      "source": [
        "I ran my Verilog simulation, but the output is not matching the expected XOR logic.\n",
        "\n",
        "Here’s my Verilog module: <Insert full xor_gate.v code>\n",
        "\n",
        "Here’s my testbench: <Insert full xor_gate_tb.v code>\n",
        "\n",
        "Here’s the simulation output: <Insert result showing unexpected outputs>\n",
        "\n",
        "Please help me debug the issue.\n",
        "\n",
        "* Tell me where the logic might be wrong\n",
        "* Suggest changes\n",
        "* Fix only the part that causes incorrect output\n",
        "* Reprint the corrected module\n",
        "\n",
        "Output format:\n",
        "Give explanation as if it a standalone chapter in a book about Digital Logic design using Verilog and VHDL.\n",
        "Use suitable title, headings and subheadings."
      ]
    },
    {
      "cell_type": "markdown",
      "id": "41e9d42a",
      "metadata": {
        "id": "41e9d42a"
      },
      "source": [
        "<details open>\n",
        "<summary><strong>📦 5F. File Download Prompt</strong></summary>\n",
        "\n",
        "👨‍🏫 Instructor’s Note:  \n",
        "Zip and download all generated files from the Colab workspace.\n",
        "\n",
        "💬 Try this in Gemini:\n",
        "\n",
        "</details>"
      ]
    },
    {
      "cell_type": "code",
      "execution_count": null,
      "id": "3425d614",
      "metadata": {
        "id": "3425d614"
      },
      "outputs": [],
      "source": [
        "Please generate a Colab-friendly Python script that:\n",
        "\n",
        "1. Create variable `filename = ai_for_dld_0304_<current_time>`.\n",
        "2. Zips all generated files (like .v, .log, .out .vhdl etc) into a file called `<filename>.zip`\n",
        "3. Provide Python code block to download `<filename>.zip` in Colab:\n",
        "\n",
        "Also, print a success message after creating the zip file.\n",
        "Make sure the AI adds explanations in text cells describing what the script does.\n",
        "\n",
        "Output format:\n",
        "Give explanation as if it a standalone chapter in a book about Digital Logic design using Verilog and VHDL.\n",
        "Use suitable title, headings and subheadings."
      ]
    },
    {
      "cell_type": "markdown",
      "id": "25fe589a",
      "metadata": {
        "id": "25fe589a"
      },
      "source": [
        "<details open>\n",
        "<summary><strong>🌐 6A. Gemini Prompt to generate Colab notebook</strong></summary>\n",
        "\n",
        "As we have generated content using Gemini, We can also ask Gemini to:\n",
        "- Create a complete notebook in JSON format\n",
        "- Include text explanation cells and code/script cells as planned\n",
        "- Ensure all HDL code is saved using `%%writefile`\n",
        "- Include simulation commands and `.zip` download block\n",
        "- Structure content clearly under markdown headings\n",
        "\n",
        "💬 Prompt (Try this in GitHub Copilot)\n",
        "\n",
        "</details>"
      ]
    },
    {
      "cell_type": "code",
      "execution_count": null,
      "id": "b93da8e0",
      "metadata": {
        "id": "b93da8e0"
      },
      "outputs": [],
      "source": [
        "Combine all the responses in this chat to Generate a complete Colab notebook (.ipynb in JSON format) with the following structure:\n",
        "\n",
        "1. Title: Debugging HDL using AI explanations – Compile, Identify, and Fix Errors\n",
        "\n",
        "2. Each responses treaded as seprate section with suitable heading\n",
        "\n",
        "Ensure:\n",
        "\n",
        "* Each cell is properly formatted\n",
        "* Code is executable in Colab\n",
        "* Output cells are optional; we will run them in Colab later\n",
        "\n",
        "Return the notebook as raw `.ipynb` JSON format\n",
        "\"\""
      ]
    },
    {
      "cell_type": "markdown",
      "id": "5c08286d",
      "metadata": {
        "id": "5c08286d"
      },
      "source": [
        "<details open>\n",
        "<summary><strong>🌐 6B. GitHub Copilot Prompt</strong></summary>\n",
        "\n",
        "👨‍🏫 Instructor’s Note:  \n",
        "Once the content (truth table, HDL code, testbench) is ready, ask GitHub Copilot to assemble all notebook components into a single `.ipynb` file.\n",
        "\n",
        "💬 Use this in Copilot:\n",
        "\n",
        "</details>"
      ]
    },
    {
      "cell_type": "code",
      "execution_count": null,
      "id": "7b5b5e1b",
      "metadata": {
        "id": "7b5b5e1b"
      },
      "outputs": [],
      "source": [
        "Create a complete Google Colab notebook that includes:\n",
        "\n",
        "1. A markdown cell explaining the purpose: “Generating Verilog code from a truth table using AI”\n",
        "2. A markdown cell with the XOR truth table\n",
        "3. `%%writefile` block for the Verilog module (xor\\_gate.v)\n",
        "4. `%%writefile` block for the testbench (xor\\_gate\\_tb.v)\n",
        "5. `%%bash` block to compile and run using Icarus Verilog\n",
        "6. Python cell to zip and download all generated files\n",
        "\n",
        "The notebook must be logically ordered and include markdown cells to explain each code block. Don’t run the code — just write the notebook."
      ]
    },
    {
      "cell_type": "markdown",
      "id": "dc756aff",
      "metadata": {
        "id": "dc756aff"
      },
      "source": [
        "<details open>\n",
        "<summary><strong>⬆️ 7. Upload Instructions</strong></summary>\n",
        "\n",
        "Learners should:\n",
        "\n",
        "1. Copy the notebook from Gemini/Copilot into Colab\n",
        "2. Run each cell one-by-one\n",
        "3. Save the `.ipynb` to their GitHub repository or Google Drive\n",
        "4. Export the `.zip` file for submission or review\n",
        "\n",
        "</details>"
      ]
    },
    {
      "cell_type": "markdown",
      "id": "ca6c911c",
      "metadata": {
        "id": "ca6c911c"
      },
      "source": [
        "<details open>\n",
        "<summary><strong>🧪 8. Colab Execution Guidelines</strong></summary>\n",
        "\n",
        "- Run tool setup first (`%%bash`)\n",
        "- Check version messages to confirm\n",
        "- Run HDL file cell to create `xor_gate.v`\n",
        "- Run testbench file cell to create `xor_gate_tb.v`\n",
        "- Run simulation script to view output\n",
        "- Check if XOR logic works correctly\n",
        "\n",
        "If not:\n",
        "- Rerun the AI bug-fix prompt from Part 2\n",
        "- Regenerate updated HDL or testbench\n",
        "\n",
        "</details>"
      ]
    },
    {
      "cell_type": "markdown",
      "id": "e6c53bbd",
      "metadata": {
        "id": "e6c53bbd"
      },
      "source": [
        "<details open>\n",
        "<summary><strong>💾 9. Save & Share</strong></summary>\n",
        "\n",
        "📤 Save your final results in:\n",
        "\n",
        "- GitHub (push the `.ipynb`, `.v`, `.vcd`, `.log`, etc.)\n",
        "- Google Drive (store `.zip` + `.ipynb`)\n",
        "- Notion or website (screenshot waveform, link to repo)\n",
        "\n",
        "📝 **Optional**: Include a short paragraph explaining:\n",
        "- What logic function was implemented\n",
        "- What issues were faced\n",
        "- How AI helped resolve them\n",
        "\n",
        "</details>"
      ]
    },
    {
      "cell_type": "markdown",
      "id": "9c190093",
      "metadata": {
        "id": "9c190093"
      },
      "source": [
        "<details open>\n",
        "<summary><strong>✅ 10. Rubric or Completion Checklist</strong></summary>\n",
        "\n",
        "| Criteria                            | Description                                               | Max Marks |\n",
        "|-------------------------------------|-----------------------------------------------------------|-----------|\n",
        "| Truth Table Clearly Represented     | Tabular form, clean labels for input/output               | 2         |\n",
        "| AI Prompt Clarity                   | Describes inputs, outputs, logic in structured format     | 2         |\n",
        "| HDL Code Correctness                | Accurate Verilog from truth table (without syntax error)  | 3         |\n",
        "| Testbench Quality                   | All input combinations tested; output printed             | 3         |\n",
        "| Simulation Output                   | Output matches logic of truth table                       | 2         |\n",
        "| Error Handling                      | Learner uses AI to fix error if any                       | 2         |\n",
        "| File Management                     | Zip file correctly created and downloaded                 | 1         |\n",
        "| Total                               |                                                           | **15**    |\n",
        "\n",
        "</details>"
      ]
    },
    {
      "cell_type": "markdown",
      "id": "f8d17f95",
      "metadata": {
        "id": "f8d17f95"
      },
      "source": [
        "<details open>\n",
        "<summary><strong>🙏 11. Thank You + What’s Next</strong></summary>\n",
        "\n",
        "Congratulations on completing this lecture!\n",
        "\n",
        "You’ve now learned how to:\n",
        "- Convert a truth table into a structured AI prompt\n",
        "- Use Gemini to generate HDL\n",
        "- Write a testbench to verify logic\n",
        "- Debug and fix using AI\n",
        "- Simulate everything in Colab\n",
        "\n",
        "👉 Up next: **0305 – Assignment: Generate & Debug a 4:1 MUX Using AI**\n",
        "\n",
        "You’ll apply the same technique to a more complex design. Stay curious and keep exploring!\n",
        "ai_for_dld_0304_truthtable_to_code\n",
        "\n",
        "</details>"
      ]
    }
  ],
  "metadata": {
    "kernelspec": {
      "display_name": "Python 3",
      "language": "python",
      "name": "python3"
    },
    "language_info": {
      "name": "python",
      "version": "3.10"
    },
    "colab": {
      "provenance": [],
      "include_colab_link": true
    }
  },
  "nbformat": 4,
  "nbformat_minor": 5
}