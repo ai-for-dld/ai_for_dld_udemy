{
  "cells": [
    {
      "cell_type": "markdown",
      "metadata": {
        "id": "view-in-github",
        "colab_type": "text"
      },
      "source": [
        "<a href=\"https://colab.research.google.com/github/ai-for-dld/ai_for_dld_udemy/blob/main/colab/ai_for_dld_0305_ai_complex_comb_ckt.ipynb\" target=\"_parent\"><img src=\"https://colab.research.google.com/assets/colab-badge.svg\" alt=\"Open In Colab\"/></a>"
      ]
    },
    {
      "cell_type": "markdown",
      "id": "c027ae2c",
      "metadata": {
        "id": "c027ae2c"
      },
      "source": [
        "# 🧠 AI-Augmented Complex Combinational Circuit Design  \n",
        "**Unit 3: Learning HDL Through AI**  \n",
        "**Lecture 0305**"
      ]
    },
    {
      "cell_type": "markdown",
      "id": "49e87b85",
      "metadata": {
        "id": "49e87b85"
      },
      "source": [
        "<details open>\n",
        "<summary><strong>🎯 Introduction</strong></summary>\n",
        "\n",
        "In digital logic design, combinational circuits are foundational elements that produce outputs based solely on the current set of inputs — without any memory or feedback. From basic gates like AND and OR, to moderately complex modules like adders and multiplexers, these circuits perform deterministic logic that is central to processors, encoders, data selectors, and arithmetic units.\n",
        "\n",
        "Traditionally, each component — like a half adder or a multiplexer — is coded, tested, and simulated separately. But in real-world projects, we must integrate several such blocks into a single **multi-module design**, where components interconnect and interact logically. This integration not only mirrors practical circuit design but also introduces learners to structured design approaches.\n",
        "\n",
        "In this lecture, we’ll explore how **AI can help us**:\n",
        "- Understand the **concept** of a complex combinational circuit,\n",
        "- Generate **both Verilog and VHDL** code for it,\n",
        "- Debug and simulate it using **Icarus Verilog and GHDL** in Google Colab,\n",
        "- And most importantly, structure all these components into a **single HDL file**.\n",
        "\n",
        "</details>"
      ]
    },
    {
      "cell_type": "markdown",
      "id": "a4db506c",
      "metadata": {
        "id": "a4db506c"
      },
      "source": [
        "<details open>\n",
        "<summary><strong>🛠️ Tool of the Day:</strong></summary>\n",
        "\n",
        "We will be using the same cloud-friendly setup from earlier lectures:\n",
        "- **Google Colab**: For notebook-based development\n",
        "- **Icarus Verilog**: For compiling and simulating Verilog code\n",
        "- **GHDL**: For VHDL compilation and waveform generation\n",
        "- **GTKWave** (offline portable): For viewing simulation waveforms\n",
        "- **AI Assistants (Gemini/Copilot)**: For code generation, debugging, and documentation\n",
        "\n",
        "What’s new here is the idea of combining everything — **Gates + Adders + MUX + Truth Table-defined logic** — into one RTL file, and generating it through AI prompts.\n",
        "\n",
        "</details>"
      ]
    },
    {
      "cell_type": "markdown",
      "id": "72bdc35a",
      "metadata": {
        "id": "72bdc35a"
      },
      "source": [
        "<details open>\n",
        "<summary><strong>💡 Core Concept: What Are Complex Combinational Circuits?</strong></summary>\n",
        "\n",
        "A **Complex Combinational Circuit** is simply a collection of smaller logical blocks wired together in meaningful ways to perform a specific function — all without using memory or feedback.\n",
        "\n",
        "In this lecture, our goal is to:\n",
        "- Create a **unified Verilog and VHDL design** that includes:\n",
        "  - AND and OR gates\n",
        "  - Half Adder and Full Adder\n",
        "  - 2:1 Multiplexer\n",
        "  - A block defined via a **custom truth table**\n",
        "- Ensure all blocks are connected via intermediate wires and declared as **submodules** (or inside processes).\n",
        "- Use **AI** to generate faulty and correct versions of this design\n",
        "- Use **simulation logs** to debug syntax or connection errors\n",
        "- Package all relevant `.v`, `.vhdl`, `.log`, `.out`, and `.vcd` files into a downloadable `.zip` archive\n",
        "\n",
        "</details>"
      ]
    },
    {
      "cell_type": "markdown",
      "id": "5d2c4a90",
      "metadata": {
        "id": "5d2c4a90"
      },
      "source": [
        "<details open>\n",
        "<summary><strong>🧠 5A. Concept Explanation Prompt</strong></summary>\n",
        "\n",
        "👨‍🏫 Instructor’s Note:  \n",
        "Before jumping into code, learners must understand what makes a combinational circuit “complex” and how different logic blocks interact in a unified design. They must also understand how to represent the circuit in both Verilog and VHDL.\n",
        "\n",
        "💬 Try this in Gemini:\n",
        "\n",
        "</details>"
      ]
    },
    {
      "cell_type": "code",
      "execution_count": null,
      "id": "e2e49506",
      "metadata": {
        "id": "e2e49506"
      },
      "outputs": [],
      "source": [
        "I want to design a complex combinational circuit.\n",
        "\n",
        "Please explain what it means to combine gates, adders, muxes, and truth-table-defined logic in one circuit. Also explain:\n",
        "\n",
        "* What is a combinational circuit?\n",
        "* How do we modularize blocks like half adder, mux, and gate logic?\n",
        "* Why it's useful to build a unified design file with all these blocks?\n",
        "\n",
        "Please include both Verilog and VHDL explanation and emphasize how AI can assist in generating, debugging, and structuring such designs.\n",
        "\n",
        "Output format:\n",
        "Give explanation as if it a standalone chapter in a book about Digital Logic design using Verilog and VHDL.\n",
        "Use suitable title, headings and subheadings."
      ]
    },
    {
      "cell_type": "markdown",
      "id": "9659cd39",
      "metadata": {
        "id": "9659cd39"
      },
      "source": [
        "<details open>\n",
        "<summary><strong>⚙️ 5B. Tool Setup Prompt</strong></summary>\n",
        "\n",
        "👨‍🏫 Instructor’s Note:  \n",
        "Before simulation or debugging, learners must install the tools that will be used to test Verilog and VHDL code in Google Colab.\n",
        "\n",
        "💬 Try this in Gemini:\n",
        "\n",
        "</details>"
      ]
    },
    {
      "cell_type": "code",
      "execution_count": null,
      "id": "ae2d0f5f",
      "metadata": {
        "id": "ae2d0f5f"
      },
      "outputs": [],
      "source": [
        "Give me a complete bash script to install Icarus Verilog and GHDL in Google Colab.\n",
        "\n",
        "Add shell comments for each step. Make sure the script includes:\n",
        "\n",
        "* apt update\n",
        "* proper flags for silent install\n",
        "* version checks like iverilog -V and ghdl --version\n",
        "* a success message\n",
        "\n",
        "Wrap the script in a %%bash cell. Do not run it, just provide the content.\n",
        "\n",
        "Output format:\n",
        "Give explanation as if it a standalone chapter in a book about Digital Logic design using Verilog and VHDL.\n",
        "Use suitable title, headings and subheadings."
      ]
    },
    {
      "cell_type": "markdown",
      "id": "8545342e",
      "metadata": {
        "id": "8545342e"
      },
      "source": [
        "<details open>\n",
        "<summary><strong>🏗️ 5C. Code Generation Prompt – Verilog</strong></summary>\n",
        "\n",
        "👨‍🏫 Instructor’s Note:  \n",
        "We want the AI to generate a **single Verilog file** that contains all of the following blocks:\n",
        "- AND and OR gates\n",
        "- Half Adder\n",
        "- 2:1 MUX\n",
        "- A block implemented from a truth table (e.g., 2-input equality)\n",
        "\n",
        "**Important**:  \n",
        "Do not highlight errors in comments. We want students to simulate this and spot any bugs themselves.\n",
        "\n",
        "💬 Try this in Gemini:\n",
        "\n",
        "</details>"
      ]
    },
    {
      "cell_type": "code",
      "execution_count": null,
      "id": "cf68dd62",
      "metadata": {
        "id": "cf68dd62"
      },
      "outputs": [],
      "source": [
        "I want to practice HDL design for a complex combinational circuit.\n",
        "\n",
        "Please generate a Verilog module named `combo_system.v` that includes:\n",
        "\n",
        "* AND gate and OR gate\n",
        "* A half adder\n",
        "* A 2:1 multiplexer\n",
        "* A logic block designed from the following truth table:\n",
        "\n",
        "| A | B | F |\n",
        "| - | - | - |\n",
        "| 0 | 0 | 1 |\n",
        "| 0 | 1 | 0 |\n",
        "| 1 | 0 | 0 |\n",
        "| 1 | 1 | 1 |\n",
        "\n",
        "Connect these blocks using intermediate signals in a meaningful way.\n",
        "\n",
        "Introduce 2–3 small errors (missing semicolon, undeclared wire, etc.) but **do not highlight the errors in comments**.\n",
        "\n",
        "Wrap the code in a `%%writefile combo_system.v` block for Colab use.\n",
        "\n",
        "Output format:\n",
        "Give explanation as if it a standalone chapter in a book about Digital Logic design using Verilog and VHDL.\n",
        "Use suitable title, headings and subheadings."
      ]
    },
    {
      "cell_type": "markdown",
      "id": "326e8a8f",
      "metadata": {
        "id": "326e8a8f"
      },
      "source": [
        "<details open>\n",
        "<summary><strong>🏗️ 5D. Code Generation Prompt – VHDL</strong></summary>\n",
        "\n",
        "👨‍🏫 Instructor’s Note:  \n",
        "Now, ask for the same design in VHDL, as a single design entity with the same structure. Errors should be present but not marked.\n",
        "\n",
        "💬 Try this in Gemini:\n",
        "\n",
        "</details>"
      ]
    },
    {
      "cell_type": "code",
      "execution_count": null,
      "id": "4f6e4c2d",
      "metadata": {
        "id": "4f6e4c2d"
      },
      "outputs": [],
      "source": [
        "I want to write a complex combinational circuit in VHDL.\n",
        "\n",
        "Please generate a single VHDL file named `combo_system.vhdl` that includes:\n",
        "\n",
        "* AND gate and OR gate\n",
        "* Half adder\n",
        "* 2:1 multiplexer\n",
        "* A logic block based on this truth table:\n",
        "\n",
        "| A | B | F |\n",
        "| - | - | - |\n",
        "| 0 | 0 | 1 |\n",
        "| 0 | 1 | 0 |\n",
        "| 1 | 0 | 0 |\n",
        "| 1 | 1 | 1 |\n",
        "\n",
        "Write all these blocks inside a single architecture using `process` blocks where needed. Connect them logically using signals.\n",
        "\n",
        "Add 2–3 basic errors but **do not highlight or comment** on them.\n",
        "\n",
        "Wrap the code using `%%writefile combo_system.vhdl`.\n",
        "\n",
        "Output format:\n",
        "Give explanation as if it a standalone chapter in a book about Digital Logic design using Verilog and VHDL.\n",
        "Use suitable title, headings and subheadings."
      ]
    },
    {
      "cell_type": "markdown",
      "id": "7c937d68",
      "metadata": {
        "id": "7c937d68"
      },
      "source": [
        "<details open>\n",
        "<summary><strong>🧪 5E. Simulation Prompt (Verilog + VHDL)</strong></summary>\n",
        "\n",
        "👨‍🏫 Instructor’s Note:  \n",
        "Ask AI to give simulation commands for both Verilog and VHDL to identify errors in the above code.\n",
        "\n",
        "💬 Try this in Gemini:\n",
        "\n",
        "</details>"
      ]
    },
    {
      "cell_type": "code",
      "execution_count": null,
      "id": "6c3f6450",
      "metadata": {
        "id": "6c3f6450"
      },
      "outputs": [],
      "source": [
        "I want to simulate my Verilog and VHDL code in Colab and identify syntax or compilation errors.\n",
        "\n",
        "Please give two separate `%%bash` cells:\n",
        "\n",
        "1. One to simulate `combo_system.v` using Icarus Verilog\n",
        "2. One to simulate `combo_system.vhdl` using GHDL\n",
        "\n",
        "Both should:\n",
        "\n",
        "* Compile the file\n",
        "* Print all errors to console\n",
        "* Create a `.log` file capturing error messages\n",
        "* Not fix the errors\n",
        "\n",
        "Output format:\n",
        "Give explanation as if it a standalone chapter in a book about Digital Logic design using Verilog and VHDL.\n",
        "Use suitable title, headings and subheadings."
      ]
    },
    {
      "cell_type": "markdown",
      "id": "d5365042",
      "metadata": {
        "id": "d5365042"
      },
      "source": [
        "<details open>\n",
        "<summary><strong>🛠️ 5F. Fixing Errors Prompt (Verilog or VHDL)</strong></summary>\n",
        "\n",
        "👨‍🏫 Instructor’s Note:  \n",
        "Now that learners have error logs, they must ask AI to fix the errors.\n",
        "\n",
        "💬 Try this in Gemini:\n",
        "\n",
        "</details>"
      ]
    },
    {
      "cell_type": "code",
      "execution_count": null,
      "id": "7e85e060",
      "metadata": {
        "id": "7e85e060"
      },
      "outputs": [],
      "source": [
        "Here is the error log I received while compiling my Verilog file using Icarus Verilog:\n",
        "\n",
        "<Insert actual error message here>\n",
        "\n",
        "Please help me:\n",
        "\n",
        "* Identify the faulty lines\n",
        "* Explain what caused the error\n",
        "* Provide a corrected version of the code\n",
        "* Explain the fix in simple terms\n",
        "\n",
        "Output format:\n",
        "Give explanation as if it a standalone chapter in a book about Digital Logic design using Verilog and VHDL.\n",
        "Use suitable title, headings and subheadings."
      ]
    },
    {
      "cell_type": "markdown",
      "id": "c3ec250c",
      "metadata": {
        "id": "c3ec250c"
      },
      "source": [
        "<details open>\n",
        "<summary><strong>📦 5G. File Download Prompt</strong></summary>\n",
        "\n",
        "👨‍🏫 Instructor’s Note:  \n",
        "Ask the AI to zip all files and prepare a Python script to download them.\n",
        "\n",
        "💬 Try this in Gemini:\n",
        "\n",
        "</details>"
      ]
    },
    {
      "cell_type": "code",
      "execution_count": null,
      "id": "0de9db32",
      "metadata": {
        "id": "0de9db32"
      },
      "outputs": [],
      "source": [
        "Please generate a Python script for Google Colab that:\n",
        "\n",
        "1. Create variable `filename = ai_for_dld_0305_<current_time>`.\n",
        "2. Zips all generated files (like .v, .vhdl, .log, .out) into a file called `<filename>.zip`\n",
        "3. Provide Python code block to download `<filename>.zip` in Colab\n",
        "\n",
        "Also print a success message after the download is ready.\n",
        "\n",
        "Output format:\n",
        "Give explanation as if it a standalone chapter in a book about Digital Logic design using Verilog and VHDL.\n",
        "Use suitable title, headings and subheadings."
      ]
    },
    {
      "cell_type": "markdown",
      "id": "25b082cf",
      "metadata": {
        "id": "25b082cf"
      },
      "source": [
        "<details open>\n",
        "<summary><strong>🌐 6A. Gemini Prompt to generate Colab notebook</strong></summary>\n",
        "\n",
        "As we have generated content using Gemini, We can also ask Gemini to:\n",
        "- Create a complete notebook in JSON format\n",
        "- Include text explanation cells and code/script cells as planned\n",
        "- Ensure all HDL code is saved using `%%writefile`\n",
        "- Include simulation commands and `.zip` download block\n",
        "- Structure content clearly under markdown headings\n",
        "\n",
        "💬 Prompt (Try this in GitHub Copilot)\n",
        "\n",
        "</details>"
      ]
    },
    {
      "cell_type": "code",
      "execution_count": null,
      "id": "3dab37de",
      "metadata": {
        "id": "3dab37de"
      },
      "outputs": [],
      "source": [
        "Combine all the responses in this chat to Generate a complete Colab notebook (.ipynb in JSON format) with the following structure:\n",
        "\n",
        "1. Title: Debugging HDL using AI explanations – Compile, Identify, and Fix Errors\n",
        "\n",
        "2. Each responses treaded as seprate section with suitable heading\n",
        "\n",
        "Ensure:\n",
        "\n",
        "* Each cell is properly formatted\n",
        "* Code is executable in Colab\n",
        "* Output cells are optional; we will run them in Colab later\n",
        "\n",
        "Return the notebook as raw `.ipynb` JSON format\n",
        "\"\""
      ]
    },
    {
      "cell_type": "markdown",
      "id": "c767e6c0",
      "metadata": {
        "id": "c767e6c0"
      },
      "source": [
        "<details open>\n",
        "<summary><strong>🧠 6B. GitHub Copilot Prompt</strong></summary>\n",
        "\n",
        "👨‍🏫 Instructor’s Note:  \n",
        "Now that you've generated multiple files using Gemini, you may want to re-organize your Colab notebook using GitHub Copilot. Ask it to create a new `.ipynb` file that includes the generated Verilog, VHDL, and simulation cells in a clean layout.\n",
        "\n",
        "💬 Try this in GitHub Copilot:\n",
        "\n",
        "</details>"
      ]
    },
    {
      "cell_type": "code",
      "execution_count": null,
      "id": "67013665",
      "metadata": {
        "id": "67013665"
      },
      "outputs": [],
      "source": [
        "Create a Google Colab notebook that includes:\n",
        "\n",
        "* A markdown cell explaining the purpose: \"Complex Combinational Circuit with Gates, Adder, Mux, Truth Table Block\"\n",
        "* A `%%writefile` cell for the Verilog code\n",
        "* A `%%writefile` cell for the VHDL code\n",
        "* A `%%bash` cell for Verilog simulation (Icarus)\n",
        "* A `%%bash` cell for VHDL simulation (GHDL)\n",
        "* A Python cell to zip all files and download\n",
        "\n",
        "Do not execute any cells — just prepare the full notebook code structure."
      ]
    },
    {
      "cell_type": "markdown",
      "id": "e0eab6e7",
      "metadata": {
        "id": "e0eab6e7"
      },
      "source": [
        "<details open>\n",
        "<summary><strong>⬆️ 7. Upload Instructions</strong></summary>\n",
        "\n",
        "👨‍🏫 Instructor’s Note:  \n",
        "Once the `.ipynb` is created using Copilot, upload it to your GitHub repository.\n",
        "\n",
        "**Steps:**\n",
        "- Open your GitHub repo for the course\n",
        "- Click **Add file → Upload files**\n",
        "- Drag and drop your `.ipynb` file\n",
        "- Commit changes\n",
        "\n",
        "This ensures you have a backup and portfolio copy of your HDL experiments.\n",
        "\n",
        "</details>"
      ]
    },
    {
      "cell_type": "markdown",
      "id": "c35cff9f",
      "metadata": {
        "id": "c35cff9f"
      },
      "source": [
        "<details open>\n",
        "<summary><strong>💻 8. Colab Execution</strong></summary>\n",
        "\n",
        "👨‍🏫 Instructor’s Note:  \n",
        "Open your notebook in Google Colab, **run one cell at a time**, and observe the output.\n",
        "\n",
        "- If errors appear, **copy the exact message**\n",
        "- Paste it into Gemini using the \"Fixing Errors Prompt\"\n",
        "- Rerun after corrections\n",
        "\n",
        "This simulates a real debugging workflow.\n",
        "\n",
        "</details>"
      ]
    },
    {
      "cell_type": "markdown",
      "id": "14a4bd69",
      "metadata": {
        "id": "14a4bd69"
      },
      "source": [
        "<details open>\n",
        "<summary><strong>💾 9. Save & Share</strong></summary>\n",
        "\n",
        "👨‍🏫 Instructor’s Note:  \n",
        "After completing the run:\n",
        "\n",
        "- Download all files using the `.zip` Python cell\n",
        "- Optionally, upload the `.zip` to your GitHub repo under a folder named `combo_circuit_0305`\n",
        "- Save your corrected `.ipynb` file in the same folder\n",
        "\n",
        "This will help your peers and instructors verify your results.\n",
        "\n",
        "</details>"
      ]
    },
    {
      "cell_type": "markdown",
      "id": "9e470781",
      "metadata": {
        "id": "9e470781"
      },
      "source": [
        "<details open>\n",
        "<summary><strong>📋 10. Rubric or Checklist</strong></summary>\n",
        "\n",
        "Use this rubric to evaluate your submission:\n",
        "\n",
        "| ✅ Task | Status |\n",
        "|--------|--------|\n",
        "| Verilog code with at least 3 blocks | ✅ / ❌ |\n",
        "| VHDL code with same logic | ✅ / ❌ |\n",
        "| Simulation executed for both | ✅ / ❌ |\n",
        "| Error logs generated | ✅ / ❌ |\n",
        "| Errors resolved using AI | ✅ / ❌ |\n",
        "| All files zipped and downloaded | ✅ / ❌ |\n",
        "| GitHub `.ipynb` upload | ✅ / ❌ |\n",
        "\n",
        "</details>"
      ]
    },
    {
      "cell_type": "markdown",
      "id": "88c1a030",
      "metadata": {
        "id": "88c1a030"
      },
      "source": [
        "<details open>\n",
        "<summary><strong>🙏 11. Thank You + What’s Next</strong></summary>\n",
        "\n",
        "Great work! 🎉  \n",
        "You’ve now created and debugged a **multi-block combinational logic system** in both Verilog and VHDL using AI.\n",
        "\n",
        "In the next module, we will shift focus to **how to describe circuits clearly to AI**, exploring techniques to write **reusable prompt templates** and **parameterized designs**.\n",
        "\n",
        "Stay curious, and don’t forget to save your `.zip` archive and notebook!\n",
        "ai_for_dld_0305_ai_complex_comb_ckt\n",
        "\n",
        "</details>"
      ]
    }
  ],
  "metadata": {
    "kernelspec": {
      "display_name": "Python 3",
      "language": "python",
      "name": "python3"
    },
    "language_info": {
      "name": "python",
      "version": "3.10"
    },
    "colab": {
      "provenance": [],
      "include_colab_link": true
    }
  },
  "nbformat": 4,
  "nbformat_minor": 5
}